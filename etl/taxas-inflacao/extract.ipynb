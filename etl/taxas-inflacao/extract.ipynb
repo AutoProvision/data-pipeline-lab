{
 "cells": [
  {
   "cell_type": "code",
   "execution_count": 1,
   "metadata": {},
   "outputs": [],
   "source": [
    "import os\n",
    "while not os.path.exists('.gitignore'):\n",
    "\tos.chdir(os.path.abspath(os.path.join('../')))\n",
    "from common_imports import *"
   ]
  },
  {
   "cell_type": "code",
   "execution_count": 2,
   "metadata": {},
   "outputs": [],
   "source": [
    "response = httpx.get('https://www.bcb.gov.br/api/paginasite/sitebcb/controleinflacao/historicometas').json()['conteudo']"
   ]
  },
  {
   "cell_type": "code",
   "execution_count": 3,
   "metadata": {},
   "outputs": [],
   "source": [
    "soup = BeautifulSoup(f'<div>{response}</div>', 'html.parser')"
   ]
  },
  {
   "cell_type": "code",
   "execution_count": 4,
   "metadata": {},
   "outputs": [],
   "source": [
    "table = soup.find('table')"
   ]
  },
  {
   "cell_type": "code",
   "execution_count": 5,
   "metadata": {},
   "outputs": [],
   "source": [
    "headers = []\n",
    "for th in table.find_all('th'):\n",
    "\theaders.append(th.text.strip())\n",
    "\n",
    "rows = []\n",
    "for tr in table.find_all('tr')[2:]:\n",
    "\tcells = []\n",
    "\tfor td in tr.find_all('td'):\n",
    "\t\tcell_text = [\n",
    "\t\t\tcell.replace('\\u200b', '').replace('\\n', '').strip()\n",
    "\t\t\tfor cell in td.decode_contents().split('<br/>')\n",
    "\t\t]\n",
    "\t\tcell_text = [cell for cell in cell_text if cell]\n",
    "\t\tif len(cell_text) == 0:\n",
    "\t\t\tcells.append(np.nan)\n",
    "\t\telse:\n",
    "\t\t\tcells.append(cell_text[-1])\n",
    "\trows.append(cells)"
   ]
  },
  {
   "cell_type": "code",
   "execution_count": 6,
   "metadata": {},
   "outputs": [],
   "source": [
    "num_cols = len(headers) if headers else max(len(row) for row in rows)\n",
    "\n",
    "for i, row in enumerate(rows):\n",
    "    if len(row) < num_cols:\n",
    "        while len(row) < num_cols:\n",
    "            row.insert(1, np.nan)"
   ]
  },
  {
   "cell_type": "code",
   "execution_count": 7,
   "metadata": {},
   "outputs": [],
   "source": [
    "pd.DataFrame(rows, columns=headers if headers else None).to_csv('_data/raw/taxas-inflacao/bcb_metas_inflacao.csv', index=False, sep=';')"
   ]
  }
 ],
 "metadata": {
  "kernelspec": {
   "display_name": "Python 3",
   "language": "python",
   "name": "python3"
  },
  "language_info": {
   "codemirror_mode": {
    "name": "ipython",
    "version": 3
   },
   "file_extension": ".py",
   "mimetype": "text/x-python",
   "name": "python",
   "nbconvert_exporter": "python",
   "pygments_lexer": "ipython3",
   "version": "3.12.7"
  }
 },
 "nbformat": 4,
 "nbformat_minor": 2
}
