{
 "cells": [
  {
   "cell_type": "code",
   "execution_count": 3,
   "metadata": {},
   "outputs": [],
   "source": [
    "%%capture\n",
    "%pip install psycopg2-binary pandas"
   ]
  },
  {
   "cell_type": "code",
   "execution_count": 4,
   "metadata": {},
   "outputs": [],
   "source": [
    "import psycopg2\n",
    "import pandas as pd"
   ]
  },
  {
   "cell_type": "code",
   "execution_count": 13,
   "metadata": {},
   "outputs": [],
   "source": [
    "db_config = {\n",
    "    \"host\": \"54.147.170.202\",\n",
    "    \"port\": 5432,\n",
    "    \"user\": \"postgres\",\n",
    "    \"password\": \"postgres\",\n",
    "    \"database\": \"autoprovision\",\n",
    "}"
   ]
  },
  {
   "cell_type": "code",
   "execution_count": 14,
   "metadata": {},
   "outputs": [],
   "source": [
    "conn = psycopg2.connect(**db_config)\n",
    "cur = conn.cursor()"
   ]
  },
  {
   "cell_type": "code",
   "execution_count": 16,
   "metadata": {},
   "outputs": [
    {
     "name": "stdout",
     "output_type": "stream",
     "text": [
      "Tabelas encontradas:\n",
      "crm.contrato\n",
      "crm.emprestimo\n",
      "crm.parcela\n",
      "parametrizador.modalidade\n",
      "visualizador.acao\n",
      "visualizador.grupo_acesso\n",
      "visualizador.grupo_acesso_permissao_acao\n",
      "visualizador.permissao\n",
      "visualizador.usuario\n"
     ]
    }
   ],
   "source": [
    "list_tables_query = \"\"\"\n",
    "SELECT table_schema, table_name\n",
    "FROM information_schema.tables\n",
    "WHERE table_type = 'BASE TABLE'\n",
    "ORDER BY table_schema, table_name;\n",
    "\"\"\"\n",
    "cur.execute(list_tables_query)\n",
    "\n",
    "tables = cur.fetchall()\n",
    "print(\"Tabelas encontradas:\")\n",
    "for schema, table in tables:\n",
    "\tif ['information_schema', 'pg_catalog'].__contains__(schema):\n",
    "\t\tcontinue\n",
    "\tprint(f\"{schema}.{table}\")"
   ]
  },
  {
   "cell_type": "code",
   "execution_count": 10,
   "metadata": {},
   "outputs": [
    {
     "name": "stdout",
     "output_type": "stream",
     "text": [
      "\n",
      "Tabela parametrizador.modalidade carregada em um DataFrame:\n",
      "   id                                  nome  taxa_juro  limite_credito  \\\n",
      "0   1       CAPITAL_GIRO_PRAZO_ATE_365_DIAS        6.0          5000.0   \n",
      "1   2        CREDITO_PESSOAL_NAO_CONSIGNADO        7.5         15000.0   \n",
      "2   3  CAPITAL_GIRO_PRAZO_SUPERIOR_365_DIAS        5.5         10000.0   \n",
      "3   4                       CONTA_GARANTIDA        8.0          7000.0   \n",
      "4   5                       CHEQUE_ESPECIAL        9.0          3000.0   \n",
      "\n",
      "   maximo_parcelas  \n",
      "0               12  \n",
      "1               24  \n",
      "2               18  \n",
      "3                6  \n",
      "4                3  \n"
     ]
    },
    {
     "name": "stderr",
     "output_type": "stream",
     "text": [
      "/tmp/ipykernel_87299/1263776174.py:5: UserWarning: pandas only supports SQLAlchemy connectable (engine/connection) or database string URI or sqlite3 DBAPI2 connection. Other DBAPI2 objects are not tested. Please consider using SQLAlchemy.\n",
      "  df = pd.read_sql_query(query, conn)\n"
     ]
    }
   ],
   "source": [
    "selected_schema = \"parametrizador\"\n",
    "selected_table = \"modalidade\"\n",
    "\n",
    "query = f\"SELECT * FROM {selected_schema}.{selected_table};\"\n",
    "df = pd.read_sql_query(query, conn)\n",
    "print(f\"\\nTabela {selected_schema}.{selected_table} carregada em um DataFrame:\")\n",
    "print(df.head())"
   ]
  }
 ],
 "metadata": {
  "kernelspec": {
   "display_name": "Python 3",
   "language": "python",
   "name": "python3"
  },
  "language_info": {
   "codemirror_mode": {
    "name": "ipython",
    "version": 3
   },
   "file_extension": ".py",
   "mimetype": "text/x-python",
   "name": "python",
   "nbconvert_exporter": "python",
   "pygments_lexer": "ipython3",
   "version": "3.12.7"
  }
 },
 "nbformat": 4,
 "nbformat_minor": 2
}
