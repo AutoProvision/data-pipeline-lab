{
 "cells": [
  {
   "cell_type": "code",
   "execution_count": 1,
   "metadata": {},
   "outputs": [
    {
     "name": "stdout",
     "output_type": "stream",
     "text": [
      "Defaulting to user installation because normal site-packages is not writeable\n",
      "Requirement already satisfied: requests in /usr/lib/python3/dist-packages (2.25.1)\n",
      "Requirement already satisfied: pyspark in /home/consultor/.local/lib/python3.10/site-packages (3.5.3)\n",
      "Requirement already satisfied: pandas in /home/consultor/.local/lib/python3.10/site-packages (2.2.2)\n",
      "Requirement already satisfied: pyarrow in /home/consultor/.local/lib/python3.10/site-packages (6.0.0)\n",
      "Requirement already satisfied: matplotlib in /home/consultor/.local/lib/python3.10/site-packages (3.9.2)\n",
      "Requirement already satisfied: numpy in /home/consultor/.local/lib/python3.10/site-packages (1.26.4)\n",
      "Requirement already satisfied: asyncio in /home/consultor/.local/lib/python3.10/site-packages (3.4.3)\n",
      "Requirement already satisfied: aiohttp in /home/consultor/.local/lib/python3.10/site-packages (3.10.8)\n",
      "Requirement already satisfied: httpx in /home/consultor/.local/lib/python3.10/site-packages (0.27.2)\n",
      "Requirement already satisfied: bs4 in /home/consultor/.local/lib/python3.10/site-packages (0.0.2)\n",
      "Requirement already satisfied: fastparquet in /home/consultor/.local/lib/python3.10/site-packages (2024.5.0)\n",
      "Requirement already satisfied: py4j==0.10.9.7 in /home/consultor/.local/lib/python3.10/site-packages (from pyspark) (0.10.9.7)\n",
      "Requirement already satisfied: pytz>=2020.1 in /usr/lib/python3/dist-packages (from pandas) (2022.1)\n",
      "Requirement already satisfied: python-dateutil>=2.8.2 in /home/consultor/.local/lib/python3.10/site-packages (from pandas) (2.9.0.post0)\n",
      "Requirement already satisfied: tzdata>=2022.7 in /home/consultor/.local/lib/python3.10/site-packages (from pandas) (2024.1)\n",
      "Requirement already satisfied: packaging>=20.0 in /home/consultor/.local/lib/python3.10/site-packages (from matplotlib) (24.1)\n",
      "Requirement already satisfied: kiwisolver>=1.3.1 in /home/consultor/.local/lib/python3.10/site-packages (from matplotlib) (1.4.5)\n",
      "Requirement already satisfied: pillow>=8 in /usr/lib/python3/dist-packages (from matplotlib) (9.0.1)\n",
      "Requirement already satisfied: fonttools>=4.22.0 in /home/consultor/.local/lib/python3.10/site-packages (from matplotlib) (4.53.1)\n",
      "Requirement already satisfied: cycler>=0.10 in /home/consultor/.local/lib/python3.10/site-packages (from matplotlib) (0.12.1)\n",
      "Requirement already satisfied: contourpy>=1.0.1 in /home/consultor/.local/lib/python3.10/site-packages (from matplotlib) (1.2.1)\n",
      "Requirement already satisfied: pyparsing>=2.3.1 in /usr/lib/python3/dist-packages (from matplotlib) (2.4.7)\n",
      "Requirement already satisfied: attrs>=17.3.0 in /home/consultor/.local/lib/python3.10/site-packages (from aiohttp) (24.2.0)\n",
      "Requirement already satisfied: aiosignal>=1.1.2 in /home/consultor/.local/lib/python3.10/site-packages (from aiohttp) (1.3.1)\n",
      "Requirement already satisfied: frozenlist>=1.1.1 in /home/consultor/.local/lib/python3.10/site-packages (from aiohttp) (1.4.1)\n",
      "Requirement already satisfied: yarl<2.0,>=1.12.0 in /home/consultor/.local/lib/python3.10/site-packages (from aiohttp) (1.13.1)\n",
      "Requirement already satisfied: multidict<7.0,>=4.5 in /home/consultor/.local/lib/python3.10/site-packages (from aiohttp) (6.1.0)\n",
      "Requirement already satisfied: async-timeout<5.0,>=4.0 in /home/consultor/.local/lib/python3.10/site-packages (from aiohttp) (4.0.3)\n",
      "Requirement already satisfied: aiohappyeyeballs>=2.3.0 in /home/consultor/.local/lib/python3.10/site-packages (from aiohttp) (2.4.3)\n",
      "Requirement already satisfied: httpcore==1.* in /home/consultor/.local/lib/python3.10/site-packages (from httpx) (1.0.6)\n",
      "Requirement already satisfied: anyio in /home/consultor/.local/lib/python3.10/site-packages (from httpx) (4.6.0)\n",
      "Requirement already satisfied: idna in /usr/lib/python3/dist-packages (from httpx) (3.3)\n",
      "Requirement already satisfied: sniffio in /home/consultor/.local/lib/python3.10/site-packages (from httpx) (1.3.1)\n",
      "Requirement already satisfied: certifi in /usr/lib/python3/dist-packages (from httpx) (2020.6.20)\n",
      "Requirement already satisfied: h11<0.15,>=0.13 in /home/consultor/.local/lib/python3.10/site-packages (from httpcore==1.*->httpx) (0.14.0)\n",
      "Requirement already satisfied: beautifulsoup4 in /home/consultor/.local/lib/python3.10/site-packages (from bs4) (4.12.3)\n",
      "Requirement already satisfied: cramjam>=2.3 in /home/consultor/.local/lib/python3.10/site-packages (from fastparquet) (2.8.3)\n",
      "Requirement already satisfied: fsspec in /home/consultor/.local/lib/python3.10/site-packages (from fastparquet) (2024.9.0)\n",
      "Requirement already satisfied: typing-extensions>=4.1.0 in /home/consultor/.local/lib/python3.10/site-packages (from multidict<7.0,>=4.5->aiohttp) (4.11.0)\n",
      "Requirement already satisfied: six>=1.5 in /usr/lib/python3/dist-packages (from python-dateutil>=2.8.2->pandas) (1.16.0)\n",
      "Requirement already satisfied: exceptiongroup>=1.0.2 in /home/consultor/.local/lib/python3.10/site-packages (from anyio->httpx) (1.2.2)\n",
      "Requirement already satisfied: soupsieve>1.2 in /home/consultor/.local/lib/python3.10/site-packages (from beautifulsoup4->bs4) (2.6)\n"
     ]
    }
   ],
   "source": [
    "import os\n",
    "while not os.path.exists('.gitignore'):\n",
    "\tos.chdir(os.path.abspath(os.path.join('../')))\n",
    "from common_imports import *"
   ]
  },
  {
   "cell_type": "code",
   "execution_count": 2,
   "metadata": {},
   "outputs": [],
   "source": [
    "response = requests.get('https://api.bcb.gov.br/dados/serie/bcdata.sgs.11/dados?formato=csv')"
   ]
  },
  {
   "cell_type": "code",
   "execution_count": 3,
   "metadata": {},
   "outputs": [],
   "source": [
    "with open('_data/raw/taxas-selic/selic.csv', 'wb') as file:\n",
    "\tfile.write(response.content)"
   ]
  }
 ],
 "metadata": {
  "kernelspec": {
   "display_name": "Python 3",
   "language": "python",
   "name": "python3"
  },
  "language_info": {
   "codemirror_mode": {
    "name": "ipython",
    "version": 3
   },
   "file_extension": ".py",
   "mimetype": "text/x-python",
   "name": "python",
   "nbconvert_exporter": "python",
   "pygments_lexer": "ipython3",
   "version": "3.10.12"
  }
 },
 "nbformat": 4,
 "nbformat_minor": 2
}
