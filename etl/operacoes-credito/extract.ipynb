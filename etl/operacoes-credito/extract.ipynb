{
 "cells": [
  {
   "cell_type": "code",
   "execution_count": 33,
   "metadata": {},
   "outputs": [],
   "source": [
    "import os\n",
    "while not os.path.exists('.gitignore'):\n",
    "\tos.chdir(os.path.abspath(os.path.join('../')))\n",
    "from common_imports import *"
   ]
  },
  {
   "cell_type": "code",
   "execution_count": 34,
   "metadata": {},
   "outputs": [],
   "source": [
    "PLANILHAS = [\n",
    "\t'planilha_2012',\n",
    "\t'planilha_2013',\n",
    "\t'planilha_2014',\n",
    "\t'planilha_2015',\n",
    "\t'planilha_2016',\n",
    "\t'planilha_2017',\n",
    "\t'planilha_2018',\n",
    "\t'planilha_2019',\n",
    "\t'planilha_2020',\n",
    "\t'planilha_2021',\n",
    "\t'planilha_2022',\n",
    "\t'planilha_2023',\n",
    "\t'planilha_2024',\n",
    "]"
   ]
  },
  {
   "cell_type": "code",
   "execution_count": 35,
   "metadata": {},
   "outputs": [],
   "source": [
    "for planilha in PLANILHAS:\n",
    "\tif not os.path.exists(f'_data/staging/operacoes-credito/{planilha}.zip'):\n",
    "\t\turl = f'https://www.bcb.gov.br/pda/desig/{planilha}.zip'\n",
    "\n",
    "\t\tprint(f'Baixando arquivo \"{planilha}.zip\"...')\n",
    "\t\tresponse = requests.get(url)\n",
    "\n",
    "\t\twith open(f'_data/staging/operacoes-credito/{planilha}.zip', 'wb') as f:\n",
    "\t\t\tf.write(response.content)"
   ]
  }
 ],
 "metadata": {
  "kernelspec": {
   "display_name": "Python 3",
   "language": "python",
   "name": "python3"
  },
  "language_info": {
   "codemirror_mode": {
    "name": "ipython",
    "version": 3
   },
   "file_extension": ".py",
   "mimetype": "text/x-python",
   "name": "python",
   "nbconvert_exporter": "python",
   "pygments_lexer": "ipython3",
   "version": "3.12.7"
  }
 },
 "nbformat": 4,
 "nbformat_minor": 2
}
