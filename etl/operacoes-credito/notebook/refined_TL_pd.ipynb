{
 "cells": [
  {
   "cell_type": "markdown",
   "metadata": {},
   "source": [
    "### Env Config"
   ]
  },
  {
   "cell_type": "code",
   "execution_count": 1,
   "metadata": {},
   "outputs": [],
   "source": [
    "import os\n",
    "while not os.path.exists('.gitignore'):\n",
    "\tos.chdir(os.path.abspath(os.path.join('../')))\n",
    "from common_imports import *"
   ]
  },
  {
   "cell_type": "code",
   "execution_count": 2,
   "metadata": {},
   "outputs": [],
   "source": [
    "# Aproximação da quantidade de linhas esperadas no arquivo final \n",
    "TOTAL_ROW_COUNT = 500000\n",
    "# Randomizar amostras coletadas de cada arquivo\n",
    "DO_RANDOMIZE_SAMPLE_ROWS = True\n",
    "\n",
    "# Exportar os arquivos tratados ou não\n",
    "DO_EXPORT_FILES = True\n",
    "\n",
    "# Rodar ou não a visualização dos recursos (Demora muito mais tempo)\n",
    "RUN_RESOURCE_VISUALIZATION = False"
   ]
  },
  {
   "cell_type": "code",
   "execution_count": 3,
   "metadata": {},
   "outputs": [],
   "source": [
    "def export_to_file(df: DataFrame, path: str):\n",
    "\tif DO_EXPORT_FILES:\n",
    "\t\tif os.path.exists(f'{path}/df.csv'):\n",
    "\t\t\tos.remove(f'{path}/df.csv')\n",
    "\t\tif os.path.exists(f'{path}/df.parquet'):\n",
    "\t\t\ttry:\n",
    "\t\t\t\tos.remove(f'{path}/df.parquet')\n",
    "\t\t\texcept:\n",
    "\t\t\t\tos.system(f'rm -rf {path}/df.parquet')\n",
    "\t\tdf.to_csv(f'{path}/df.csv', index=False)\n",
    "\t\tdf.to_parquet(f'{path}/df.parquet', index=False)"
   ]
  },
  {
   "cell_type": "markdown",
   "metadata": {},
   "source": [
    "### Criando dataframe"
   ]
  },
  {
   "cell_type": "code",
   "execution_count": 4,
   "metadata": {},
   "outputs": [
    {
     "name": "stdout",
     "output_type": "stream",
     "text": [
      "Processando o arquivo 201206.parquet\n",
      "Processando o arquivo 201207.parquet\n",
      "Processando o arquivo 201208.parquet\n",
      "Processando o arquivo 201209.parquet\n",
      "Processando o arquivo 201210.parquet\n",
      "Processando o arquivo 201211.parquet\n",
      "Processando o arquivo 201212.parquet\n",
      "Processando o arquivo 201301.parquet\n",
      "Processando o arquivo 201302.parquet\n",
      "Processando o arquivo 201303.parquet\n",
      "Processando o arquivo 201304.parquet\n",
      "Processando o arquivo 201305.parquet\n",
      "Processando o arquivo 201306.parquet\n",
      "Processando o arquivo 201307.parquet\n",
      "Processando o arquivo 201308.parquet\n",
      "Processando o arquivo 201309.parquet\n",
      "Processando o arquivo 201310.parquet\n",
      "Processando o arquivo 201311.parquet\n",
      "Processando o arquivo 201312.parquet\n",
      "Processando o arquivo 201401.parquet\n",
      "Processando o arquivo 201402.parquet\n",
      "Processando o arquivo 201403.parquet\n",
      "Processando o arquivo 201404.parquet\n",
      "Processando o arquivo 201405.parquet\n",
      "Processando o arquivo 201406.parquet\n",
      "Processando o arquivo 201407.parquet\n",
      "Processando o arquivo 201408.parquet\n",
      "Processando o arquivo 201409.parquet\n",
      "Processando o arquivo 201410.parquet\n",
      "Processando o arquivo 201411.parquet\n",
      "Processando o arquivo 201412.parquet\n",
      "Processando o arquivo 201501.parquet\n",
      "Processando o arquivo 201502.parquet\n",
      "Processando o arquivo 201503.parquet\n",
      "Processando o arquivo 201504.parquet\n",
      "Processando o arquivo 201505.parquet\n",
      "Processando o arquivo 201506.parquet\n",
      "Processando o arquivo 201507.parquet\n",
      "Processando o arquivo 201508.parquet\n",
      "Processando o arquivo 201509.parquet\n",
      "Processando o arquivo 201510.parquet\n",
      "Processando o arquivo 201511.parquet\n",
      "Processando o arquivo 201512.parquet\n",
      "Processando o arquivo 201601.parquet\n",
      "Processando o arquivo 201602.parquet\n",
      "Processando o arquivo 201603.parquet\n",
      "Processando o arquivo 201604.parquet\n",
      "Processando o arquivo 201605.parquet\n",
      "Processando o arquivo 201606.parquet\n",
      "Processando o arquivo 201607.parquet\n",
      "Processando o arquivo 201608.parquet\n",
      "Processando o arquivo 201609.parquet\n",
      "Processando o arquivo 201610.parquet\n",
      "Processando o arquivo 201611.parquet\n",
      "Processando o arquivo 201612.parquet\n",
      "Processando o arquivo 201701.parquet\n",
      "Processando o arquivo 201702.parquet\n",
      "Processando o arquivo 201703.parquet\n",
      "Processando o arquivo 201704.parquet\n",
      "Processando o arquivo 201705.parquet\n",
      "Processando o arquivo 201706.parquet\n",
      "Processando o arquivo 201707.parquet\n",
      "Processando o arquivo 201708.parquet\n",
      "Processando o arquivo 201709.parquet\n",
      "Processando o arquivo 201710.parquet\n",
      "Processando o arquivo 201711.parquet\n",
      "Processando o arquivo 201712.parquet\n",
      "Processando o arquivo 201801.parquet\n",
      "Processando o arquivo 201802.parquet\n",
      "Processando o arquivo 201803.parquet\n",
      "Processando o arquivo 201804.parquet\n",
      "Processando o arquivo 201805.parquet\n",
      "Processando o arquivo 201806.parquet\n",
      "Processando o arquivo 201807.parquet\n",
      "Processando o arquivo 201808.parquet\n",
      "Processando o arquivo 201809.parquet\n",
      "Processando o arquivo 201810.parquet\n",
      "Processando o arquivo 201811.parquet\n",
      "Processando o arquivo 201812.parquet\n",
      "Processando o arquivo 201901.parquet\n",
      "Processando o arquivo 201902.parquet\n",
      "Processando o arquivo 201903.parquet\n",
      "Processando o arquivo 201904.parquet\n",
      "Processando o arquivo 201905.parquet\n",
      "Processando o arquivo 201906.parquet\n",
      "Processando o arquivo 201907.parquet\n",
      "Processando o arquivo 201908.parquet\n",
      "Processando o arquivo 201909.parquet\n",
      "Processando o arquivo 201910.parquet\n",
      "Processando o arquivo 201911.parquet\n",
      "Processando o arquivo 201912.parquet\n",
      "Processando o arquivo 202001.parquet\n",
      "Processando o arquivo 202002.parquet\n",
      "Processando o arquivo 202003.parquet\n",
      "Processando o arquivo 202004.parquet\n",
      "Processando o arquivo 202005.parquet\n",
      "Processando o arquivo 202006.parquet\n",
      "Processando o arquivo 202007.parquet\n",
      "Processando o arquivo 202008.parquet\n",
      "Processando o arquivo 202009.parquet\n",
      "Processando o arquivo 202010.parquet\n",
      "Processando o arquivo 202011.parquet\n",
      "Processando o arquivo 202012.parquet\n",
      "Processando o arquivo 202101.parquet\n",
      "Processando o arquivo 202102.parquet\n",
      "Processando o arquivo 202103.parquet\n",
      "Processando o arquivo 202104.parquet\n",
      "Processando o arquivo 202105.parquet\n",
      "Processando o arquivo 202106.parquet\n",
      "Processando o arquivo 202107.parquet\n",
      "Processando o arquivo 202108.parquet\n",
      "Processando o arquivo 202109.parquet\n",
      "Processando o arquivo 202110.parquet\n",
      "Processando o arquivo 202111.parquet\n",
      "Processando o arquivo 202112.parquet\n",
      "Processando o arquivo 202201.parquet\n",
      "Processando o arquivo 202202.parquet\n",
      "Processando o arquivo 202203.parquet\n",
      "Processando o arquivo 202204.parquet\n",
      "Processando o arquivo 202205.parquet\n",
      "Processando o arquivo 202206.parquet\n",
      "Processando o arquivo 202207.parquet\n",
      "Processando o arquivo 202208.parquet\n",
      "Processando o arquivo 202209.parquet\n",
      "Processando o arquivo 202210.parquet\n",
      "Processando o arquivo 202211.parquet\n",
      "Processando o arquivo 202212.parquet\n",
      "Processando o arquivo 202301.parquet\n",
      "Processando o arquivo 202302.parquet\n",
      "Processando o arquivo 202303.parquet\n",
      "Processando o arquivo 202304.parquet\n",
      "Processando o arquivo 202305.parquet\n",
      "Processando o arquivo 202306.parquet\n",
      "Processando o arquivo 202307.parquet\n",
      "Processando o arquivo 202308.parquet\n",
      "Processando o arquivo 202309.parquet\n",
      "Processando o arquivo 202310.parquet\n",
      "Processando o arquivo 202311.parquet\n",
      "Processando o arquivo 202312.parquet\n",
      "Processando o arquivo 202401.parquet\n",
      "Processando o arquivo 202402.parquet\n",
      "Processando o arquivo 202403.parquet\n",
      "Processando o arquivo 202404.parquet\n",
      "Processando o arquivo 202405.parquet\n",
      "Processando o arquivo 202406.parquet\n",
      "Processando o arquivo 202407.parquet\n"
     ]
    }
   ],
   "source": [
    "files = os.listdir('_data/raw/operacoes-credito')\n",
    "files.sort()\n",
    "\n",
    "sample_size = TOTAL_ROW_COUNT // len(files)\n",
    "\n",
    "arrow_tables = []\n",
    "for file in files:\n",
    "\tprint(f'Processando o arquivo {file}')\n",
    "\n",
    "\ttemp_df = pd.read_parquet(f'_data/raw/operacoes-credito/{file}', engine='pyarrow').sample(n=sample_size, random_state=random.randint(1, 1000))\n",
    "\ttable = pa.Table.from_pandas(temp_df)\n",
    "\tarrow_tables.append(table)\n",
    "\n",
    "combined_table = pa.concat_tables(arrow_tables)\n",
    "\n",
    "df = combined_table.to_pandas()"
   ]
  },
  {
   "cell_type": "markdown",
   "metadata": {},
   "source": [
    "### Ajuste de tipagem dos dados"
   ]
  },
  {
   "cell_type": "code",
   "execution_count": 5,
   "metadata": {},
   "outputs": [
    {
     "data": {
      "text/plain": [
       "data_base                         object\n",
       "uf                                object\n",
       "cliente                           object\n",
       "ocupacao                          object\n",
       "cnae_secao                        object\n",
       "porte                             object\n",
       "modalidade                        object\n",
       "numero_de_operacoes               object\n",
       "carteira_ativa                    object\n",
       "carteira_inadimplida_arrastada    object\n",
       "ativo_problematico                object\n",
       "indexador_modalidade              object\n",
       "dtype: object"
      ]
     },
     "execution_count": 5,
     "metadata": {},
     "output_type": "execute_result"
    }
   ],
   "source": [
    "df.dtypes"
   ]
  },
  {
   "cell_type": "code",
   "execution_count": 6,
   "metadata": {},
   "outputs": [
    {
     "data": {
      "text/plain": [
       "cliente\n",
       "PJ    429816\n",
       "PF     70088\n",
       "Name: count, dtype: int64"
      ]
     },
     "execution_count": 6,
     "metadata": {},
     "output_type": "execute_result"
    }
   ],
   "source": [
    "df['cliente'].value_counts()"
   ]
  },
  {
   "cell_type": "code",
   "execution_count": 7,
   "metadata": {},
   "outputs": [],
   "source": [
    "df = df.rename(columns={\n",
    "\t'cliente': 'classificacao',\n",
    "\t'cnae_secao': 'cnae',\n",
    "})"
   ]
  },
  {
   "cell_type": "code",
   "execution_count": 8,
   "metadata": {},
   "outputs": [],
   "source": [
    "if RUN_RESOURCE_VISUALIZATION:\n",
    "\tprint(df['porte'].value_counts())\n",
    "\tprint(df['modalidade'].value_counts())\n",
    "\tprint(df['ocupacao'].value_counts())\n",
    "\tprint(df['cnae'].value_counts())"
   ]
  },
  {
   "cell_type": "code",
   "execution_count": 9,
   "metadata": {},
   "outputs": [],
   "source": [
    "df['porte'] = df['porte'].str.slice(5).str.strip()\n",
    "df['modalidade'] = df['modalidade'].str.slice(5).str.strip()\n",
    "df['ocupacao'] = df['ocupacao'].str.slice(5).str.strip()\n",
    "df['cnae'] = df['cnae'].str.slice(5).str.strip()"
   ]
  },
  {
   "cell_type": "code",
   "execution_count": 10,
   "metadata": {},
   "outputs": [],
   "source": [
    "MONETARY_COLS = ['carteira_ativa', 'carteira_inadimplida_arrastada', 'ativo_problematico']\n",
    "\n",
    "CATEGORY_COLS = ['uf', 'ocupacao', 'cnae', 'porte', 'modalidade', 'indexador_modalidade', 'classificacao']\n",
    "\n",
    "QUANTITY_COLS = ['numero_de_operacoes']\n",
    "\n",
    "DATE_COLS = ['data_base']\n",
    "\n",
    "for column in df.columns:\n",
    "\tif column in MONETARY_COLS:\n",
    "\t\tdf[column] = df[column].str.replace(',', '.').astype(float)\n",
    "\t\tdf = df.rename(columns={column: f'vl_{column}'})\n",
    "\telif column in CATEGORY_COLS:\n",
    "\t\tdf[column] = df[column].astype('category')\n",
    "\t\tdf = df.rename(columns={column: f'ct_{column}'})\n",
    "\telif column in QUANTITY_COLS:\n",
    "\t\tdf[column] = df[column].str.replace('<= ', '').astype(int)\n",
    "\t\tdf = df.rename(columns={column: f'qt_{column}'})\n",
    "\telif column in DATE_COLS:\n",
    "\t\tdf[column] = pd.to_datetime(df[column], format='%Y-%m-%d')\n",
    "\t\tdf = df.rename(columns={column: f'dt_{column}'})"
   ]
  },
  {
   "cell_type": "code",
   "execution_count": 11,
   "metadata": {},
   "outputs": [
    {
     "data": {
      "text/plain": [
       "dt_data_base                         datetime64[ns]\n",
       "ct_uf                                      category\n",
       "ct_classificacao                           category\n",
       "ct_ocupacao                                category\n",
       "ct_cnae                                    category\n",
       "ct_porte                                   category\n",
       "ct_modalidade                              category\n",
       "qt_numero_de_operacoes                        int64\n",
       "vl_carteira_ativa                           float64\n",
       "vl_carteira_inadimplida_arrastada           float64\n",
       "vl_ativo_problematico                       float64\n",
       "ct_indexador_modalidade                    category\n",
       "dtype: object"
      ]
     },
     "execution_count": 11,
     "metadata": {},
     "output_type": "execute_result"
    }
   ],
   "source": [
    "df.dtypes"
   ]
  },
  {
   "cell_type": "markdown",
   "metadata": {},
   "source": [
    "### Exportando para zona Trusted"
   ]
  },
  {
   "cell_type": "code",
   "execution_count": 12,
   "metadata": {},
   "outputs": [],
   "source": [
    "export_to_file(df, '_data/trusted/operacoes-credito')"
   ]
  },
  {
   "cell_type": "code",
   "execution_count": 13,
   "metadata": {},
   "outputs": [],
   "source": [
    "df['vl_carteira_problematica'] = df['vl_ativo_problematico'] - df['vl_carteira_inadimplida_arrastada']"
   ]
  },
  {
   "cell_type": "code",
   "execution_count": 14,
   "metadata": {},
   "outputs": [
    {
     "data": {
      "text/plain": [
       "count       499904.00\n",
       "mean        231175.38\n",
       "std        8622385.89\n",
       "min        -151030.34\n",
       "25%              0.00\n",
       "50%              0.00\n",
       "75%           5390.67\n",
       "max     3148380232.32\n",
       "Name: vl_carteira_problematica, dtype: float64"
      ]
     },
     "execution_count": 14,
     "metadata": {},
     "output_type": "execute_result"
    }
   ],
   "source": [
    "df['vl_carteira_problematica'].describe()"
   ]
  },
  {
   "cell_type": "markdown",
   "metadata": {},
   "source": [
    "#### Valores menores do que 0?"
   ]
  },
  {
   "cell_type": "code",
   "execution_count": 15,
   "metadata": {},
   "outputs": [
    {
     "data": {
      "text/plain": [
       "459810     -1976.39\n",
       "259100    -24848.44\n",
       "90552     -18354.76\n",
       "296694      -578.03\n",
       "229242     -1021.82\n",
       "45747     -85650.38\n",
       "63867     -32920.27\n",
       "91742     -11823.58\n",
       "232357     -3424.60\n",
       "92183       -190.62\n",
       "49719     -84207.14\n",
       "91269     -17976.86\n",
       "71348    -102697.06\n",
       "71977    -144039.90\n",
       "68151     -12846.52\n",
       "374641    -12926.27\n",
       "363982    -19475.35\n",
       "361360    -18585.36\n",
       "349004    -90531.43\n",
       "346907   -124570.77\n",
       "74929      -9136.43\n",
       "524461     -9875.53\n",
       "488385    -96457.99\n",
       "628777    -33496.93\n",
       "233028    -22067.12\n",
       "644004    -16759.80\n",
       "311089     -2898.41\n",
       "602750    -17317.71\n",
       "585142    -12935.33\n",
       "202956     -4849.19\n",
       "221017      -692.16\n",
       "547775      -550.83\n",
       "524261    -64889.38\n",
       "363788    -76380.43\n",
       "527997   -151030.34\n",
       "Name: vl_carteira_problematica, dtype: float64"
      ]
     },
     "execution_count": 15,
     "metadata": {},
     "output_type": "execute_result"
    }
   ],
   "source": [
    "df[df['vl_carteira_problematica'] < 0]['vl_carteira_problematica']"
   ]
  },
  {
   "cell_type": "markdown",
   "metadata": {},
   "source": [
    "#### 0.05% da amostra está danificada, vamos capar em 0"
   ]
  },
  {
   "cell_type": "code",
   "execution_count": 16,
   "metadata": {},
   "outputs": [],
   "source": [
    "df['vl_carteira_problematica'] = df['vl_carteira_problematica'].clip(lower=0)"
   ]
  },
  {
   "cell_type": "code",
   "execution_count": 17,
   "metadata": {},
   "outputs": [
    {
     "data": {
      "text/plain": [
       "count       499904.00\n",
       "mean        231178.04\n",
       "std        8622385.80\n",
       "min              0.00\n",
       "25%              0.00\n",
       "50%              0.00\n",
       "75%           5390.67\n",
       "max     3148380232.32\n",
       "Name: vl_carteira_problematica, dtype: float64"
      ]
     },
     "execution_count": 17,
     "metadata": {},
     "output_type": "execute_result"
    }
   ],
   "source": [
    "df['vl_carteira_problematica'].describe()"
   ]
  },
  {
   "cell_type": "code",
   "execution_count": 18,
   "metadata": {},
   "outputs": [],
   "source": [
    "df['vl_carteira_ativa'] = df['vl_carteira_ativa'] - df['vl_carteira_problematica']\n",
    "df.rename(columns={ 'vl_carteira_ativa': 'vl_carteira_saudavel' }, inplace=True)"
   ]
  },
  {
   "cell_type": "code",
   "execution_count": 19,
   "metadata": {},
   "outputs": [
    {
     "data": {
      "text/plain": [
       "count        499904.00\n",
       "mean        5318094.87\n",
       "std       103628860.94\n",
       "min               0.00\n",
       "25%           16178.04\n",
       "50%           95345.65\n",
       "75%          520309.67\n",
       "max     23377431150.84\n",
       "Name: vl_carteira_saudavel, dtype: float64"
      ]
     },
     "execution_count": 19,
     "metadata": {},
     "output_type": "execute_result"
    }
   ],
   "source": [
    "df['vl_carteira_saudavel'].describe()"
   ]
  },
  {
   "cell_type": "code",
   "execution_count": 20,
   "metadata": {},
   "outputs": [],
   "source": [
    "df['vl_carteira_saudavel'] = df['vl_carteira_saudavel'] / df['qt_numero_de_operacoes']\n",
    "df['vl_carteira_problematica'] = df['vl_carteira_problematica'] / df['qt_numero_de_operacoes']\n",
    "df['vl_carteira_inadimplida_arrastada'] = df['vl_carteira_inadimplida_arrastada'] / df['qt_numero_de_operacoes']"
   ]
  },
  {
   "cell_type": "code",
   "execution_count": 21,
   "metadata": {},
   "outputs": [],
   "source": [
    "df.drop(columns=['qt_numero_de_operacoes'], inplace=True)"
   ]
  },
  {
   "cell_type": "code",
   "execution_count": 22,
   "metadata": {},
   "outputs": [
    {
     "data": {
      "text/plain": [
       "dt_data_base                         datetime64[ns]\n",
       "ct_uf                                      category\n",
       "ct_classificacao                           category\n",
       "ct_ocupacao                                category\n",
       "ct_cnae                                    category\n",
       "ct_porte                                   category\n",
       "ct_modalidade                              category\n",
       "vl_carteira_saudavel                        float64\n",
       "vl_carteira_inadimplida_arrastada           float64\n",
       "vl_ativo_problematico                       float64\n",
       "ct_indexador_modalidade                    category\n",
       "vl_carteira_problematica                    float64\n",
       "dtype: object"
      ]
     },
     "execution_count": 22,
     "metadata": {},
     "output_type": "execute_result"
    }
   ],
   "source": [
    "df.dtypes"
   ]
  },
  {
   "cell_type": "markdown",
   "metadata": {},
   "source": [
    "### Exportando para zona Refined"
   ]
  },
  {
   "cell_type": "code",
   "execution_count": 23,
   "metadata": {},
   "outputs": [],
   "source": [
    "export_to_file(df, '_data/refined/operacoes-credito')"
   ]
  }
 ],
 "metadata": {
  "kernelspec": {
   "display_name": "Python 3",
   "language": "python",
   "name": "python3"
  },
  "language_info": {
   "codemirror_mode": {
    "name": "ipython",
    "version": 3
   },
   "file_extension": ".py",
   "mimetype": "text/x-python",
   "name": "python",
   "nbconvert_exporter": "python",
   "pygments_lexer": "ipython3",
   "version": "3.12.7"
  }
 },
 "nbformat": 4,
 "nbformat_minor": 2
}
