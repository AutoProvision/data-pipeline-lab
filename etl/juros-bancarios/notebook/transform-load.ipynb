{
 "cells": [
  {
   "cell_type": "code",
   "execution_count": 1,
   "metadata": {},
   "outputs": [
    {
     "name": "stdout",
     "output_type": "stream",
     "text": [
      "Defaulting to user installation because normal site-packages is not writeable\n",
      "Requirement already satisfied: requests in /usr/lib/python3/dist-packages (2.25.1)\n",
      "Requirement already satisfied: pyspark in /home/consultor/.local/lib/python3.10/site-packages (3.5.3)\n",
      "Requirement already satisfied: pandas in /home/consultor/.local/lib/python3.10/site-packages (2.2.2)\n",
      "Requirement already satisfied: pyarrow in /home/consultor/.local/lib/python3.10/site-packages (6.0.0)\n",
      "Requirement already satisfied: matplotlib in /home/consultor/.local/lib/python3.10/site-packages (3.9.2)\n",
      "Requirement already satisfied: numpy in /home/consultor/.local/lib/python3.10/site-packages (1.26.4)\n",
      "Requirement already satisfied: asyncio in /home/consultor/.local/lib/python3.10/site-packages (3.4.3)\n",
      "Requirement already satisfied: aiohttp in /home/consultor/.local/lib/python3.10/site-packages (3.10.8)\n",
      "Requirement already satisfied: httpx in /home/consultor/.local/lib/python3.10/site-packages (0.27.2)\n",
      "Requirement already satisfied: bs4 in /home/consultor/.local/lib/python3.10/site-packages (0.0.2)\n",
      "Requirement already satisfied: fastparquet in /home/consultor/.local/lib/python3.10/site-packages (2024.5.0)\n",
      "Requirement already satisfied: py4j==0.10.9.7 in /home/consultor/.local/lib/python3.10/site-packages (from pyspark) (0.10.9.7)\n",
      "Requirement already satisfied: pytz>=2020.1 in /usr/lib/python3/dist-packages (from pandas) (2022.1)\n",
      "Requirement already satisfied: tzdata>=2022.7 in /home/consultor/.local/lib/python3.10/site-packages (from pandas) (2024.1)\n",
      "Requirement already satisfied: python-dateutil>=2.8.2 in /home/consultor/.local/lib/python3.10/site-packages (from pandas) (2.9.0.post0)\n",
      "Requirement already satisfied: fonttools>=4.22.0 in /home/consultor/.local/lib/python3.10/site-packages (from matplotlib) (4.53.1)\n",
      "Requirement already satisfied: packaging>=20.0 in /home/consultor/.local/lib/python3.10/site-packages (from matplotlib) (24.1)\n",
      "Requirement already satisfied: pillow>=8 in /usr/lib/python3/dist-packages (from matplotlib) (9.0.1)\n",
      "Requirement already satisfied: contourpy>=1.0.1 in /home/consultor/.local/lib/python3.10/site-packages (from matplotlib) (1.2.1)\n",
      "Requirement already satisfied: cycler>=0.10 in /home/consultor/.local/lib/python3.10/site-packages (from matplotlib) (0.12.1)\n",
      "Requirement already satisfied: pyparsing>=2.3.1 in /usr/lib/python3/dist-packages (from matplotlib) (2.4.7)\n",
      "Requirement already satisfied: kiwisolver>=1.3.1 in /home/consultor/.local/lib/python3.10/site-packages (from matplotlib) (1.4.5)\n",
      "Requirement already satisfied: aiohappyeyeballs>=2.3.0 in /home/consultor/.local/lib/python3.10/site-packages (from aiohttp) (2.4.3)\n",
      "Requirement already satisfied: frozenlist>=1.1.1 in /home/consultor/.local/lib/python3.10/site-packages (from aiohttp) (1.4.1)\n",
      "Requirement already satisfied: yarl<2.0,>=1.12.0 in /home/consultor/.local/lib/python3.10/site-packages (from aiohttp) (1.13.1)\n",
      "Requirement already satisfied: async-timeout<5.0,>=4.0 in /home/consultor/.local/lib/python3.10/site-packages (from aiohttp) (4.0.3)\n",
      "Requirement already satisfied: attrs>=17.3.0 in /home/consultor/.local/lib/python3.10/site-packages (from aiohttp) (24.2.0)\n",
      "Requirement already satisfied: multidict<7.0,>=4.5 in /home/consultor/.local/lib/python3.10/site-packages (from aiohttp) (6.1.0)\n",
      "Requirement already satisfied: aiosignal>=1.1.2 in /home/consultor/.local/lib/python3.10/site-packages (from aiohttp) (1.3.1)\n",
      "Requirement already satisfied: sniffio in /home/consultor/.local/lib/python3.10/site-packages (from httpx) (1.3.1)\n",
      "Requirement already satisfied: idna in /usr/lib/python3/dist-packages (from httpx) (3.3)\n",
      "Requirement already satisfied: anyio in /home/consultor/.local/lib/python3.10/site-packages (from httpx) (4.6.0)\n",
      "Requirement already satisfied: certifi in /usr/lib/python3/dist-packages (from httpx) (2020.6.20)\n",
      "Requirement already satisfied: httpcore==1.* in /home/consultor/.local/lib/python3.10/site-packages (from httpx) (1.0.6)\n",
      "Requirement already satisfied: h11<0.15,>=0.13 in /home/consultor/.local/lib/python3.10/site-packages (from httpcore==1.*->httpx) (0.14.0)\n",
      "Requirement already satisfied: beautifulsoup4 in /home/consultor/.local/lib/python3.10/site-packages (from bs4) (4.12.3)\n",
      "Requirement already satisfied: cramjam>=2.3 in /home/consultor/.local/lib/python3.10/site-packages (from fastparquet) (2.8.3)\n",
      "Requirement already satisfied: fsspec in /home/consultor/.local/lib/python3.10/site-packages (from fastparquet) (2024.9.0)\n",
      "Requirement already satisfied: typing-extensions>=4.1.0 in /home/consultor/.local/lib/python3.10/site-packages (from multidict<7.0,>=4.5->aiohttp) (4.11.0)\n",
      "Requirement already satisfied: six>=1.5 in /usr/lib/python3/dist-packages (from python-dateutil>=2.8.2->pandas) (1.16.0)\n",
      "Requirement already satisfied: exceptiongroup>=1.0.2 in /home/consultor/.local/lib/python3.10/site-packages (from anyio->httpx) (1.2.2)\n",
      "Requirement already satisfied: soupsieve>1.2 in /home/consultor/.local/lib/python3.10/site-packages (from beautifulsoup4->bs4) (2.6)\n"
     ]
    }
   ],
   "source": [
    "import os\n",
    "while not os.path.exists('.gitignore'):\n",
    "\tos.chdir(os.path.abspath(os.path.join('../')))\n",
    "from common_imports import *"
   ]
  },
  {
   "cell_type": "code",
   "execution_count": 2,
   "metadata": {},
   "outputs": [],
   "source": [
    "df = pd.read_parquet('_data/raw/juros-bancarios/combined.parquet')"
   ]
  },
  {
   "cell_type": "code",
   "execution_count": 3,
   "metadata": {},
   "outputs": [],
   "source": [
    "linhas_para_remover = len(df) - 1000000\n",
    "\n",
    "indices_para_remover = np.random.choice(df.index, size=linhas_para_remover, replace=False)\n",
    "\n",
    "df = df.drop(indices_para_remover)\n",
    "\n",
    "df = df.reset_index(drop=True)"
   ]
  },
  {
   "cell_type": "code",
   "execution_count": 4,
   "metadata": {},
   "outputs": [
    {
     "data": {
      "text/html": [
       "<div>\n",
       "<style scoped>\n",
       "    .dataframe tbody tr th:only-of-type {\n",
       "        vertical-align: middle;\n",
       "    }\n",
       "\n",
       "    .dataframe tbody tr th {\n",
       "        vertical-align: top;\n",
       "    }\n",
       "\n",
       "    .dataframe thead th {\n",
       "        text-align: right;\n",
       "    }\n",
       "</style>\n",
       "<table border=\"1\" class=\"dataframe\">\n",
       "  <thead>\n",
       "    <tr style=\"text-align: right;\">\n",
       "      <th></th>\n",
       "      <th>Segmento</th>\n",
       "      <th>Modalidade</th>\n",
       "      <th>InstituicaoFinanceira</th>\n",
       "      <th>TaxaJurosAoAno</th>\n",
       "      <th>data</th>\n",
       "    </tr>\n",
       "  </thead>\n",
       "  <tbody>\n",
       "    <tr>\n",
       "      <th>0</th>\n",
       "      <td>Pessoa Física</td>\n",
       "      <td>FINANCIAMENTO IMOBILIÁRIO COM TAXAS DE MERCADO...</td>\n",
       "      <td>BRAZILIAN MORTGAGES CH S.A.</td>\n",
       "      <td>18,50</td>\n",
       "      <td>2012-01-01</td>\n",
       "    </tr>\n",
       "    <tr>\n",
       "      <th>1</th>\n",
       "      <td>Pessoa Física</td>\n",
       "      <td>FINANCIAMENTO IMOBILIÁRIO COM TAXAS DE MERCADO...</td>\n",
       "      <td>BANCO INTER</td>\n",
       "      <td>31,13</td>\n",
       "      <td>2012-01-01</td>\n",
       "    </tr>\n",
       "    <tr>\n",
       "      <th>2</th>\n",
       "      <td>Pessoa Física</td>\n",
       "      <td>FINANCIAMENTO IMOBILIÁRIO COM TAXAS REGULADAS ...</td>\n",
       "      <td>BCO BRADESCO S.A.</td>\n",
       "      <td>12,06</td>\n",
       "      <td>2012-01-01</td>\n",
       "    </tr>\n",
       "    <tr>\n",
       "      <th>3</th>\n",
       "      <td>Pessoa Física</td>\n",
       "      <td>FINANCIAMENTO IMOBILIÁRIO COM TAXAS REGULADAS ...</td>\n",
       "      <td>BCO SANTANDER (BRASIL) S.A.</td>\n",
       "      <td>12,84</td>\n",
       "      <td>2012-01-01</td>\n",
       "    </tr>\n",
       "    <tr>\n",
       "      <th>4</th>\n",
       "      <td>Pessoa Física</td>\n",
       "      <td>FINANCIAMENTO IMOBILIÁRIO COM TAXAS DE MERCADO...</td>\n",
       "      <td>BCO BRADESCO S.A.</td>\n",
       "      <td>10,38</td>\n",
       "      <td>2012-01-01</td>\n",
       "    </tr>\n",
       "    <tr>\n",
       "      <th>...</th>\n",
       "      <td>...</td>\n",
       "      <td>...</td>\n",
       "      <td>...</td>\n",
       "      <td>...</td>\n",
       "      <td>...</td>\n",
       "    </tr>\n",
       "    <tr>\n",
       "      <th>999995</th>\n",
       "      <td>Pessoa Jurídica</td>\n",
       "      <td>Conta garantida - Pré-fixado</td>\n",
       "      <td>BCO DAYCOVAL S.A</td>\n",
       "      <td>50,26</td>\n",
       "      <td>2024-09-17</td>\n",
       "    </tr>\n",
       "    <tr>\n",
       "      <th>999996</th>\n",
       "      <td>Pessoa Jurídica</td>\n",
       "      <td>Conta garantida - Pré-fixado</td>\n",
       "      <td>BCO DO EST. DE SE S.A.</td>\n",
       "      <td>54,71</td>\n",
       "      <td>2024-09-17</td>\n",
       "    </tr>\n",
       "    <tr>\n",
       "      <th>999997</th>\n",
       "      <td>Pessoa Jurídica</td>\n",
       "      <td>Conta garantida - Pré-fixado</td>\n",
       "      <td>BCO RENDIMENTO S.A.</td>\n",
       "      <td>68,10</td>\n",
       "      <td>2024-09-17</td>\n",
       "    </tr>\n",
       "    <tr>\n",
       "      <th>999998</th>\n",
       "      <td>Pessoa Jurídica</td>\n",
       "      <td>Conta garantida - Pré-fixado</td>\n",
       "      <td>BCO GUANABARA S.A.</td>\n",
       "      <td>185,13</td>\n",
       "      <td>2024-09-17</td>\n",
       "    </tr>\n",
       "    <tr>\n",
       "      <th>999999</th>\n",
       "      <td>Pessoa Jurídica</td>\n",
       "      <td>Conta garantida - Pré-fixado</td>\n",
       "      <td>BCO SOFISA S.A.</td>\n",
       "      <td>227,68</td>\n",
       "      <td>2024-09-17</td>\n",
       "    </tr>\n",
       "  </tbody>\n",
       "</table>\n",
       "<p>1000000 rows × 5 columns</p>\n",
       "</div>"
      ],
      "text/plain": [
       "               Segmento                                         Modalidade  \\\n",
       "0         Pessoa Física  FINANCIAMENTO IMOBILIÁRIO COM TAXAS DE MERCADO...   \n",
       "1         Pessoa Física  FINANCIAMENTO IMOBILIÁRIO COM TAXAS DE MERCADO...   \n",
       "2         Pessoa Física  FINANCIAMENTO IMOBILIÁRIO COM TAXAS REGULADAS ...   \n",
       "3         Pessoa Física  FINANCIAMENTO IMOBILIÁRIO COM TAXAS REGULADAS ...   \n",
       "4         Pessoa Física  FINANCIAMENTO IMOBILIÁRIO COM TAXAS DE MERCADO...   \n",
       "...                 ...                                                ...   \n",
       "999995  Pessoa Jurídica                       Conta garantida - Pré-fixado   \n",
       "999996  Pessoa Jurídica                       Conta garantida - Pré-fixado   \n",
       "999997  Pessoa Jurídica                       Conta garantida - Pré-fixado   \n",
       "999998  Pessoa Jurídica                       Conta garantida - Pré-fixado   \n",
       "999999  Pessoa Jurídica                       Conta garantida - Pré-fixado   \n",
       "\n",
       "              InstituicaoFinanceira TaxaJurosAoAno        data  \n",
       "0       BRAZILIAN MORTGAGES CH S.A.          18,50  2012-01-01  \n",
       "1                       BANCO INTER          31,13  2012-01-01  \n",
       "2                 BCO BRADESCO S.A.          12,06  2012-01-01  \n",
       "3       BCO SANTANDER (BRASIL) S.A.          12,84  2012-01-01  \n",
       "4                 BCO BRADESCO S.A.          10,38  2012-01-01  \n",
       "...                             ...            ...         ...  \n",
       "999995             BCO DAYCOVAL S.A          50,26  2024-09-17  \n",
       "999996       BCO DO EST. DE SE S.A.          54,71  2024-09-17  \n",
       "999997          BCO RENDIMENTO S.A.          68,10  2024-09-17  \n",
       "999998           BCO GUANABARA S.A.         185,13  2024-09-17  \n",
       "999999              BCO SOFISA S.A.         227,68  2024-09-17  \n",
       "\n",
       "[1000000 rows x 5 columns]"
      ]
     },
     "execution_count": 4,
     "metadata": {},
     "output_type": "execute_result"
    }
   ],
   "source": [
    "df"
   ]
  },
  {
   "cell_type": "code",
   "execution_count": 5,
   "metadata": {},
   "outputs": [],
   "source": [
    "df['TaxaJurosAoAno'] = df['TaxaJurosAoAno'].str.replace(',', '.').astype(float)"
   ]
  },
  {
   "cell_type": "code",
   "execution_count": 6,
   "metadata": {},
   "outputs": [
    {
     "data": {
      "text/plain": [
       "InstituicaoFinanceira\n",
       "BCO BRADESCO S.A.                     28765\n",
       "BCO DO BRASIL S.A.                    28525\n",
       "BCO SANTANDER (BRASIL) S.A.           27759\n",
       "BCO DO ESTADO DO RS S.A.              26529\n",
       "ITAÚ UNIBANCO S.A.                    24506\n",
       "                                      ...  \n",
       "BANIF INVESTIMENTO                        3\n",
       "STATE STREET BR S.A. BCO COMERCIAL        3\n",
       "BCO MORGAN STANLEY S.A.                   3\n",
       "GOLDMAN SACHS DO BRASIL BM S.A            1\n",
       "TRADIÇÃO                                  1\n",
       "Name: count, Length: 270, dtype: int64"
      ]
     },
     "execution_count": 6,
     "metadata": {},
     "output_type": "execute_result"
    }
   ],
   "source": [
    "df['InstituicaoFinanceira'].value_counts()"
   ]
  },
  {
   "cell_type": "code",
   "execution_count": 7,
   "metadata": {},
   "outputs": [
    {
     "data": {
      "text/html": [
       "<div>\n",
       "<style scoped>\n",
       "    .dataframe tbody tr th:only-of-type {\n",
       "        vertical-align: middle;\n",
       "    }\n",
       "\n",
       "    .dataframe tbody tr th {\n",
       "        vertical-align: top;\n",
       "    }\n",
       "\n",
       "    .dataframe thead th {\n",
       "        text-align: right;\n",
       "    }\n",
       "</style>\n",
       "<table border=\"1\" class=\"dataframe\">\n",
       "  <thead>\n",
       "    <tr style=\"text-align: right;\">\n",
       "      <th></th>\n",
       "      <th>Segmento</th>\n",
       "      <th>Modalidade</th>\n",
       "      <th>InstituicaoFinanceira</th>\n",
       "      <th>TaxaJurosAoAno</th>\n",
       "      <th>data</th>\n",
       "    </tr>\n",
       "  </thead>\n",
       "  <tbody>\n",
       "    <tr>\n",
       "      <th>0</th>\n",
       "      <td>Pessoa Física</td>\n",
       "      <td>FINANCIAMENTO IMOBILIÁRIO COM TAXAS DE MERCADO...</td>\n",
       "      <td>BRAZILIAN MORTGAGES CH S.A.</td>\n",
       "      <td>18.50</td>\n",
       "      <td>2012-01-01</td>\n",
       "    </tr>\n",
       "    <tr>\n",
       "      <th>1</th>\n",
       "      <td>Pessoa Física</td>\n",
       "      <td>FINANCIAMENTO IMOBILIÁRIO COM TAXAS DE MERCADO...</td>\n",
       "      <td>BANCO INTER</td>\n",
       "      <td>31.13</td>\n",
       "      <td>2012-01-01</td>\n",
       "    </tr>\n",
       "    <tr>\n",
       "      <th>2</th>\n",
       "      <td>Pessoa Física</td>\n",
       "      <td>FINANCIAMENTO IMOBILIÁRIO COM TAXAS REGULADAS ...</td>\n",
       "      <td>BCO BRADESCO S.A.</td>\n",
       "      <td>12.06</td>\n",
       "      <td>2012-01-01</td>\n",
       "    </tr>\n",
       "    <tr>\n",
       "      <th>3</th>\n",
       "      <td>Pessoa Física</td>\n",
       "      <td>FINANCIAMENTO IMOBILIÁRIO COM TAXAS REGULADAS ...</td>\n",
       "      <td>BCO SANTANDER (BRASIL) S.A.</td>\n",
       "      <td>12.84</td>\n",
       "      <td>2012-01-01</td>\n",
       "    </tr>\n",
       "    <tr>\n",
       "      <th>4</th>\n",
       "      <td>Pessoa Física</td>\n",
       "      <td>FINANCIAMENTO IMOBILIÁRIO COM TAXAS DE MERCADO...</td>\n",
       "      <td>BCO BRADESCO S.A.</td>\n",
       "      <td>10.38</td>\n",
       "      <td>2012-01-01</td>\n",
       "    </tr>\n",
       "  </tbody>\n",
       "</table>\n",
       "</div>"
      ],
      "text/plain": [
       "        Segmento                                         Modalidade  \\\n",
       "0  Pessoa Física  FINANCIAMENTO IMOBILIÁRIO COM TAXAS DE MERCADO...   \n",
       "1  Pessoa Física  FINANCIAMENTO IMOBILIÁRIO COM TAXAS DE MERCADO...   \n",
       "2  Pessoa Física  FINANCIAMENTO IMOBILIÁRIO COM TAXAS REGULADAS ...   \n",
       "3  Pessoa Física  FINANCIAMENTO IMOBILIÁRIO COM TAXAS REGULADAS ...   \n",
       "4  Pessoa Física  FINANCIAMENTO IMOBILIÁRIO COM TAXAS DE MERCADO...   \n",
       "\n",
       "         InstituicaoFinanceira  TaxaJurosAoAno        data  \n",
       "0  BRAZILIAN MORTGAGES CH S.A.           18.50  2012-01-01  \n",
       "1                  BANCO INTER           31.13  2012-01-01  \n",
       "2            BCO BRADESCO S.A.           12.06  2012-01-01  \n",
       "3  BCO SANTANDER (BRASIL) S.A.           12.84  2012-01-01  \n",
       "4            BCO BRADESCO S.A.           10.38  2012-01-01  "
      ]
     },
     "execution_count": 7,
     "metadata": {},
     "output_type": "execute_result"
    }
   ],
   "source": [
    "df.head()"
   ]
  },
  {
   "cell_type": "code",
   "execution_count": 8,
   "metadata": {},
   "outputs": [
    {
     "data": {
      "text/plain": [
       "Modalidade\n",
       "Crédito pessoal não-consignado - Pré-fixado                                                    92664\n",
       "Cheque especial - Pré-fixado                                                                   69902\n",
       "Crédito pessoal consignado privado - Pré-fixado                                                64250\n",
       "Desconto de duplicatas - Pré-fixado                                                            63421\n",
       "Capital de giro com prazo até 365 dias - Pré-fixado                                            59294\n",
       "Aquisição de veículos - Pré-fixado                                                             58111\n",
       "Cartão de crédito - rotativo total - Pré-fixado                                                54877\n",
       "Capital de giro com prazo superior a 365 dias - Pré-fixado                                     52812\n",
       "Crédito pessoal consignado público - Pré-fixado                                                52091\n",
       "Aquisição de outros bens - Pré-fixado                                                          51853\n",
       "Cartão de crédito - parcelado - Pré-fixado                                                     49861\n",
       "Crédito pessoal consignado INSS - Pré-fixado                                                   47622\n",
       "Conta garantida - Pré-fixado                                                                   45985\n",
       "Conta garantida - Pós-fixado referenciado em juros flutuantes                                  44429\n",
       "Adiantamento sobre contratos de câmbio (ACC) - Pós-fixado referenciado em moeda estrangeira    44275\n",
       "Desconto de cheques - Pré-fixado                                                               39270\n",
       "Capital de giro com prazo superior a 365 dias - Pós-fixado referenciado em juros flutuantes    37343\n",
       "Capital de giro com prazo até 365 dias - Pós-fixado referenciado em juros flutuantes           36258\n",
       "Vendor - Pré-fixado                                                                            16948\n",
       "Antecipação de faturas de cartão de crédito - Pré-fixado                                       11770\n",
       "Arrendamento mercantil de veículos - Pré-fixado                                                 4889\n",
       "FINANCIAMENTO IMOBILIÁRIO COM TAXAS REGULADAS - PÓS-FIXADO REFERENCIADO EM TR                    765\n",
       "FINANCIAMENTO IMOBILIÁRIO COM TAXAS DE MERCADO - PÓS-FIXADO REFERENCIADO EM TR                   695\n",
       "FINANCIAMENTO IMOBILIÁRIO COM TAXAS DE MERCADO - PRÉ-FIXADO                                      245\n",
       "FINANCIAMENTO IMOBILIÁRIO COM TAXAS REGULADAS - PRÉ-FIXADO                                       144\n",
       "FINANCIAMENTO IMOBILIÁRIO COM TAXAS DE MERCADO - PÓS-FIXADO REFERENCIADO EM IPCA                 136\n",
       "FINANCIAMENTO IMOBILIÁRIO COM TAXAS REGULADAS - PÓS-FIXADO REFERENCIADO EM IPCA                   90\n",
       "Name: count, dtype: int64"
      ]
     },
     "execution_count": 8,
     "metadata": {},
     "output_type": "execute_result"
    }
   ],
   "source": [
    "df['Modalidade'].value_counts()"
   ]
  },
  {
   "cell_type": "code",
   "execution_count": 9,
   "metadata": {},
   "outputs": [],
   "source": [
    "df['SubClassificacao'] = df['Modalidade'].apply(lambda x: x.split(' - ')[-1]).astype('category')\n",
    "df['Modalidade'] = df['Modalidade'].apply(lambda x: x.rsplit(' - ', 1)[0]).astype('category')"
   ]
  },
  {
   "cell_type": "code",
   "execution_count": 10,
   "metadata": {},
   "outputs": [
    {
     "data": {
      "text/plain": [
       "Modalidade\n",
       "Capital de giro com prazo até 365 dias            95552\n",
       "Crédito pessoal não-consignado                    92664\n",
       "Conta garantida                                   90414\n",
       "Capital de giro com prazo superior a 365 dias     90155\n",
       "Cheque especial                                   69902\n",
       "Crédito pessoal consignado privado                64250\n",
       "Desconto de duplicatas                            63421\n",
       "Aquisição de veículos                             58111\n",
       "Cartão de crédito - rotativo total                54877\n",
       "Crédito pessoal consignado público                52091\n",
       "Aquisição de outros bens                          51853\n",
       "Cartão de crédito - parcelado                     49861\n",
       "Crédito pessoal consignado INSS                   47622\n",
       "Adiantamento sobre contratos de câmbio (ACC)      44275\n",
       "Desconto de cheques                               39270\n",
       "Vendor                                            16948\n",
       "Antecipação de faturas de cartão de crédito       11770\n",
       "Arrendamento mercantil de veículos                 4889\n",
       "FINANCIAMENTO IMOBILIÁRIO COM TAXAS DE MERCADO     1076\n",
       "FINANCIAMENTO IMOBILIÁRIO COM TAXAS REGULADAS       999\n",
       "Name: count, dtype: int64"
      ]
     },
     "execution_count": 10,
     "metadata": {},
     "output_type": "execute_result"
    }
   ],
   "source": [
    "df['Modalidade'].value_counts()"
   ]
  },
  {
   "cell_type": "code",
   "execution_count": 11,
   "metadata": {},
   "outputs": [
    {
     "data": {
      "text/plain": [
       "SubClassificacao\n",
       "Pré-fixado                                      835620\n",
       "Pós-fixado referenciado em juros flutuantes     118030\n",
       "Pós-fixado referenciado em moeda estrangeira     44275\n",
       "PÓS-FIXADO REFERENCIADO EM TR                     1460\n",
       "PRÉ-FIXADO                                         389\n",
       "PÓS-FIXADO REFERENCIADO EM IPCA                    226\n",
       "Name: count, dtype: int64"
      ]
     },
     "execution_count": 11,
     "metadata": {},
     "output_type": "execute_result"
    }
   ],
   "source": [
    "df['SubClassificacao'].value_counts()"
   ]
  },
  {
   "cell_type": "code",
   "execution_count": 12,
   "metadata": {},
   "outputs": [],
   "source": [
    "def transform_taxa(valor_taxa, periodo_desejado, periodo_atual):\n",
    "\tvt = Decimal(valor_taxa)\n",
    "\tpd = Decimal(periodo_desejado)\n",
    "\tpa = Decimal(periodo_atual)\n",
    " \n",
    "\ta = 1 + (vt / 100)\n",
    "\tb = pd / pa\n",
    "\tc = a ** b\n",
    "\td = (c - 1) * 100\n",
    "\n",
    "\treturn d"
   ]
  },
  {
   "cell_type": "code",
   "execution_count": 13,
   "metadata": {},
   "outputs": [],
   "source": [
    "def trim_decimal(n):\n",
    "\tvalor = Decimal(str(n).rstrip('0').rstrip('.'))\n",
    "\treturn valor.quantize(Decimal('1.0000'), rounding=ROUND_HALF_UP)"
   ]
  },
  {
   "cell_type": "code",
   "execution_count": 14,
   "metadata": {},
   "outputs": [
    {
     "data": {
      "text/html": [
       "<div>\n",
       "<style scoped>\n",
       "    .dataframe tbody tr th:only-of-type {\n",
       "        vertical-align: middle;\n",
       "    }\n",
       "\n",
       "    .dataframe tbody tr th {\n",
       "        vertical-align: top;\n",
       "    }\n",
       "\n",
       "    .dataframe thead th {\n",
       "        text-align: right;\n",
       "    }\n",
       "</style>\n",
       "<table border=\"1\" class=\"dataframe\">\n",
       "  <thead>\n",
       "    <tr style=\"text-align: right;\">\n",
       "      <th></th>\n",
       "      <th>Segmento</th>\n",
       "      <th>Modalidade</th>\n",
       "      <th>InstituicaoFinanceira</th>\n",
       "      <th>TaxaJurosAoAno</th>\n",
       "      <th>data</th>\n",
       "      <th>SubClassificacao</th>\n",
       "    </tr>\n",
       "  </thead>\n",
       "  <tbody>\n",
       "    <tr>\n",
       "      <th>0</th>\n",
       "      <td>Pessoa Física</td>\n",
       "      <td>FINANCIAMENTO IMOBILIÁRIO COM TAXAS DE MERCADO</td>\n",
       "      <td>BRAZILIAN MORTGAGES CH S.A.</td>\n",
       "      <td>18.50</td>\n",
       "      <td>2012-01-01</td>\n",
       "      <td>PRÉ-FIXADO</td>\n",
       "    </tr>\n",
       "    <tr>\n",
       "      <th>1</th>\n",
       "      <td>Pessoa Física</td>\n",
       "      <td>FINANCIAMENTO IMOBILIÁRIO COM TAXAS DE MERCADO</td>\n",
       "      <td>BANCO INTER</td>\n",
       "      <td>31.13</td>\n",
       "      <td>2012-01-01</td>\n",
       "      <td>PRÉ-FIXADO</td>\n",
       "    </tr>\n",
       "    <tr>\n",
       "      <th>2</th>\n",
       "      <td>Pessoa Física</td>\n",
       "      <td>FINANCIAMENTO IMOBILIÁRIO COM TAXAS REGULADAS</td>\n",
       "      <td>BCO BRADESCO S.A.</td>\n",
       "      <td>12.06</td>\n",
       "      <td>2012-01-01</td>\n",
       "      <td>PRÉ-FIXADO</td>\n",
       "    </tr>\n",
       "    <tr>\n",
       "      <th>3</th>\n",
       "      <td>Pessoa Física</td>\n",
       "      <td>FINANCIAMENTO IMOBILIÁRIO COM TAXAS REGULADAS</td>\n",
       "      <td>BCO SANTANDER (BRASIL) S.A.</td>\n",
       "      <td>12.84</td>\n",
       "      <td>2012-01-01</td>\n",
       "      <td>PRÉ-FIXADO</td>\n",
       "    </tr>\n",
       "    <tr>\n",
       "      <th>4</th>\n",
       "      <td>Pessoa Física</td>\n",
       "      <td>FINANCIAMENTO IMOBILIÁRIO COM TAXAS DE MERCADO</td>\n",
       "      <td>BCO BRADESCO S.A.</td>\n",
       "      <td>10.38</td>\n",
       "      <td>2012-01-01</td>\n",
       "      <td>PÓS-FIXADO REFERENCIADO EM TR</td>\n",
       "    </tr>\n",
       "    <tr>\n",
       "      <th>...</th>\n",
       "      <td>...</td>\n",
       "      <td>...</td>\n",
       "      <td>...</td>\n",
       "      <td>...</td>\n",
       "      <td>...</td>\n",
       "      <td>...</td>\n",
       "    </tr>\n",
       "    <tr>\n",
       "      <th>999995</th>\n",
       "      <td>Pessoa Jurídica</td>\n",
       "      <td>Conta garantida</td>\n",
       "      <td>BCO DAYCOVAL S.A</td>\n",
       "      <td>50.26</td>\n",
       "      <td>2024-09-17</td>\n",
       "      <td>Pré-fixado</td>\n",
       "    </tr>\n",
       "    <tr>\n",
       "      <th>999996</th>\n",
       "      <td>Pessoa Jurídica</td>\n",
       "      <td>Conta garantida</td>\n",
       "      <td>BCO DO EST. DE SE S.A.</td>\n",
       "      <td>54.71</td>\n",
       "      <td>2024-09-17</td>\n",
       "      <td>Pré-fixado</td>\n",
       "    </tr>\n",
       "    <tr>\n",
       "      <th>999997</th>\n",
       "      <td>Pessoa Jurídica</td>\n",
       "      <td>Conta garantida</td>\n",
       "      <td>BCO RENDIMENTO S.A.</td>\n",
       "      <td>68.10</td>\n",
       "      <td>2024-09-17</td>\n",
       "      <td>Pré-fixado</td>\n",
       "    </tr>\n",
       "    <tr>\n",
       "      <th>999998</th>\n",
       "      <td>Pessoa Jurídica</td>\n",
       "      <td>Conta garantida</td>\n",
       "      <td>BCO GUANABARA S.A.</td>\n",
       "      <td>185.13</td>\n",
       "      <td>2024-09-17</td>\n",
       "      <td>Pré-fixado</td>\n",
       "    </tr>\n",
       "    <tr>\n",
       "      <th>999999</th>\n",
       "      <td>Pessoa Jurídica</td>\n",
       "      <td>Conta garantida</td>\n",
       "      <td>BCO SOFISA S.A.</td>\n",
       "      <td>227.68</td>\n",
       "      <td>2024-09-17</td>\n",
       "      <td>Pré-fixado</td>\n",
       "    </tr>\n",
       "  </tbody>\n",
       "</table>\n",
       "<p>1000000 rows × 6 columns</p>\n",
       "</div>"
      ],
      "text/plain": [
       "               Segmento                                      Modalidade  \\\n",
       "0         Pessoa Física  FINANCIAMENTO IMOBILIÁRIO COM TAXAS DE MERCADO   \n",
       "1         Pessoa Física  FINANCIAMENTO IMOBILIÁRIO COM TAXAS DE MERCADO   \n",
       "2         Pessoa Física   FINANCIAMENTO IMOBILIÁRIO COM TAXAS REGULADAS   \n",
       "3         Pessoa Física   FINANCIAMENTO IMOBILIÁRIO COM TAXAS REGULADAS   \n",
       "4         Pessoa Física  FINANCIAMENTO IMOBILIÁRIO COM TAXAS DE MERCADO   \n",
       "...                 ...                                             ...   \n",
       "999995  Pessoa Jurídica                                 Conta garantida   \n",
       "999996  Pessoa Jurídica                                 Conta garantida   \n",
       "999997  Pessoa Jurídica                                 Conta garantida   \n",
       "999998  Pessoa Jurídica                                 Conta garantida   \n",
       "999999  Pessoa Jurídica                                 Conta garantida   \n",
       "\n",
       "              InstituicaoFinanceira  TaxaJurosAoAno        data  \\\n",
       "0       BRAZILIAN MORTGAGES CH S.A.           18.50  2012-01-01   \n",
       "1                       BANCO INTER           31.13  2012-01-01   \n",
       "2                 BCO BRADESCO S.A.           12.06  2012-01-01   \n",
       "3       BCO SANTANDER (BRASIL) S.A.           12.84  2012-01-01   \n",
       "4                 BCO BRADESCO S.A.           10.38  2012-01-01   \n",
       "...                             ...             ...         ...   \n",
       "999995             BCO DAYCOVAL S.A           50.26  2024-09-17   \n",
       "999996       BCO DO EST. DE SE S.A.           54.71  2024-09-17   \n",
       "999997          BCO RENDIMENTO S.A.           68.10  2024-09-17   \n",
       "999998           BCO GUANABARA S.A.          185.13  2024-09-17   \n",
       "999999              BCO SOFISA S.A.          227.68  2024-09-17   \n",
       "\n",
       "                     SubClassificacao  \n",
       "0                          PRÉ-FIXADO  \n",
       "1                          PRÉ-FIXADO  \n",
       "2                          PRÉ-FIXADO  \n",
       "3                          PRÉ-FIXADO  \n",
       "4       PÓS-FIXADO REFERENCIADO EM TR  \n",
       "...                               ...  \n",
       "999995                     Pré-fixado  \n",
       "999996                     Pré-fixado  \n",
       "999997                     Pré-fixado  \n",
       "999998                     Pré-fixado  \n",
       "999999                     Pré-fixado  \n",
       "\n",
       "[1000000 rows x 6 columns]"
      ]
     },
     "execution_count": 14,
     "metadata": {},
     "output_type": "execute_result"
    }
   ],
   "source": [
    "df"
   ]
  },
  {
   "cell_type": "code",
   "execution_count": 15,
   "metadata": {},
   "outputs": [],
   "source": [
    "df['TaxaJurosAoMes'] = df.apply(lambda x: trim_decimal(transform_taxa(x['TaxaJurosAoAno'], 1, 12)), axis=1).astype(float)"
   ]
  },
  {
   "cell_type": "code",
   "execution_count": 16,
   "metadata": {},
   "outputs": [],
   "source": [
    "SUBCLASSIFICACAO_REPLACE_MAP = {\n",
    "\t'PÓS-FIXADO': 'Pós-fixado',\n",
    "\t'PRÉ-FIXADO': 'Pré-fixado',\n",
    "\t'PÓS-FIXADO REFERENCIADO EM IPCA': 'Pós-fixado referenciado em IPCA',\n",
    "\t'PÓS-FIXADO REFERENCIADO EM TR': 'Pós-fixado referenciado em TR',\n",
    "}\n",
    "df['SubClassificacao'] = df['SubClassificacao'].replace(SUBCLASSIFICACAO_REPLACE_MAP).astype('category')"
   ]
  },
  {
   "cell_type": "code",
   "execution_count": 17,
   "metadata": {},
   "outputs": [
    {
     "data": {
      "text/plain": [
       "SubClassificacao\n",
       "Pré-fixado                                      836009\n",
       "Pós-fixado referenciado em juros flutuantes     118030\n",
       "Pós-fixado referenciado em moeda estrangeira     44275\n",
       "Pós-fixado referenciado em TR                     1460\n",
       "Pós-fixado referenciado em IPCA                    226\n",
       "Name: count, dtype: int64"
      ]
     },
     "execution_count": 17,
     "metadata": {},
     "output_type": "execute_result"
    }
   ],
   "source": [
    "df['SubClassificacao'].value_counts()"
   ]
  },
  {
   "cell_type": "code",
   "execution_count": 18,
   "metadata": {},
   "outputs": [],
   "source": [
    "MODALIDADE_REPLACE_MAP = {\n",
    "\t'FINANCIAMENTO IMOBILIÁRIO COM TAXAS DE MERCADO': 'Financiamento imobiliário com taxas de mercado',\n",
    "\t'FINANCIAMENTO IMOBILIÁRIO COM TAXAS REGULADAS': 'Financiamento imobiliário com taxas reguladas',\n",
    "}\n",
    "df['Modalidade'] = df['Modalidade'].replace(MODALIDADE_REPLACE_MAP).astype('category')"
   ]
  },
  {
   "cell_type": "code",
   "execution_count": 19,
   "metadata": {},
   "outputs": [
    {
     "data": {
      "text/plain": [
       "Modalidade\n",
       "Capital de giro com prazo até 365 dias            95552\n",
       "Crédito pessoal não-consignado                    92664\n",
       "Conta garantida                                   90414\n",
       "Capital de giro com prazo superior a 365 dias     90155\n",
       "Cheque especial                                   69902\n",
       "Crédito pessoal consignado privado                64250\n",
       "Desconto de duplicatas                            63421\n",
       "Aquisição de veículos                             58111\n",
       "Cartão de crédito - rotativo total                54877\n",
       "Crédito pessoal consignado público                52091\n",
       "Aquisição de outros bens                          51853\n",
       "Cartão de crédito - parcelado                     49861\n",
       "Crédito pessoal consignado INSS                   47622\n",
       "Adiantamento sobre contratos de câmbio (ACC)      44275\n",
       "Desconto de cheques                               39270\n",
       "Vendor                                            16948\n",
       "Antecipação de faturas de cartão de crédito       11770\n",
       "Arrendamento mercantil de veículos                 4889\n",
       "Financiamento imobiliário com taxas de mercado     1076\n",
       "Financiamento imobiliário com taxas reguladas       999\n",
       "Name: count, dtype: int64"
      ]
     },
     "execution_count": 19,
     "metadata": {},
     "output_type": "execute_result"
    }
   ],
   "source": [
    "df['Modalidade'].value_counts()"
   ]
  },
  {
   "cell_type": "code",
   "execution_count": 20,
   "metadata": {},
   "outputs": [],
   "source": [
    "MODALIDADE_REPLACE_MAP = {\n",
    "\t'Pessoa Física': 'PF',\n",
    "\t'Pessoa Jurídica': 'PJ',\n",
    "}\n",
    "df['Segmento'] = df['Segmento'].replace(MODALIDADE_REPLACE_MAP).astype('category')"
   ]
  },
  {
   "cell_type": "code",
   "execution_count": 21,
   "metadata": {},
   "outputs": [
    {
     "data": {
      "text/plain": [
       "Segmento\n",
       "PF    530161\n",
       "PJ    469839\n",
       "Name: count, dtype: int64"
      ]
     },
     "execution_count": 21,
     "metadata": {},
     "output_type": "execute_result"
    }
   ],
   "source": [
    "df['Segmento'].value_counts()"
   ]
  },
  {
   "cell_type": "code",
   "execution_count": 22,
   "metadata": {},
   "outputs": [
    {
     "data": {
      "text/plain": [
       "InstituicaoFinanceira\n",
       "BCO BRADESCO S.A.                     28765\n",
       "BCO DO BRASIL S.A.                    28525\n",
       "BCO SANTANDER (BRASIL) S.A.           27759\n",
       "BCO DO ESTADO DO RS S.A.              26529\n",
       "ITAÚ UNIBANCO S.A.                    24506\n",
       "                                      ...  \n",
       "BANIF INVESTIMENTO                        3\n",
       "STATE STREET BR S.A. BCO COMERCIAL        3\n",
       "BCO MORGAN STANLEY S.A.                   3\n",
       "GOLDMAN SACHS DO BRASIL BM S.A            1\n",
       "TRADIÇÃO                                  1\n",
       "Name: count, Length: 270, dtype: int64"
      ]
     },
     "execution_count": 22,
     "metadata": {},
     "output_type": "execute_result"
    }
   ],
   "source": [
    "df['InstituicaoFinanceira'].value_counts()"
   ]
  },
  {
   "cell_type": "code",
   "execution_count": 23,
   "metadata": {},
   "outputs": [
    {
     "data": {
      "text/plain": [
       "Segmento                 category\n",
       "Modalidade               category\n",
       "InstituicaoFinanceira      object\n",
       "TaxaJurosAoAno            float64\n",
       "data                       object\n",
       "SubClassificacao         category\n",
       "TaxaJurosAoMes            float64\n",
       "dtype: object"
      ]
     },
     "execution_count": 23,
     "metadata": {},
     "output_type": "execute_result"
    }
   ],
   "source": [
    "df.dtypes"
   ]
  },
  {
   "cell_type": "code",
   "execution_count": 24,
   "metadata": {},
   "outputs": [],
   "source": [
    "df['data'] = pd.to_datetime(df['data'], format='%Y-%m-%d')"
   ]
  },
  {
   "cell_type": "code",
   "execution_count": 25,
   "metadata": {},
   "outputs": [],
   "source": [
    "df = df[df['data'] > (datetime.now() - timedelta(days=7*365))]"
   ]
  },
  {
   "cell_type": "code",
   "execution_count": 26,
   "metadata": {},
   "outputs": [
    {
     "name": "stderr",
     "output_type": "stream",
     "text": [
      "/tmp/ipykernel_72094/226268388.py:1: SettingWithCopyWarning: \n",
      "A value is trying to be set on a copy of a slice from a DataFrame\n",
      "\n",
      "See the caveats in the documentation: https://pandas.pydata.org/pandas-docs/stable/user_guide/indexing.html#returning-a-view-versus-a-copy\n",
      "  df.rename(columns={\n"
     ]
    }
   ],
   "source": [
    "df.rename(columns={\n",
    "    'Segmento': 'ct_classificacao',\n",
    "    'Modalidade': 'ct_modalidade',\n",
    "    'InstituicaoFinanceira': 'ct_instituicao_financeira',\n",
    "    'SubClassificacao': 'ct_indexador_modalidade',\n",
    "    'TaxaJurosAoAno': 'vl_taxa_juros_ano',\n",
    "    'TaxaJurosAoMes': 'vl_taxa_juros_mes',\n",
    "\t'data': 'dt_referencia',\n",
    "}, inplace=True)"
   ]
  },
  {
   "cell_type": "code",
   "execution_count": 27,
   "metadata": {},
   "outputs": [
    {
     "data": {
      "text/plain": [
       "ct_classificacao                   category\n",
       "ct_modalidade                      category\n",
       "ct_instituicao_financeira            object\n",
       "vl_taxa_juros_ano                   float64\n",
       "dt_referencia                datetime64[ns]\n",
       "ct_indexador_modalidade            category\n",
       "vl_taxa_juros_mes                   float64\n",
       "dtype: object"
      ]
     },
     "execution_count": 27,
     "metadata": {},
     "output_type": "execute_result"
    }
   ],
   "source": [
    "df.dtypes"
   ]
  },
  {
   "cell_type": "code",
   "execution_count": 28,
   "metadata": {},
   "outputs": [],
   "source": [
    "df.to_parquet('_data/trusted/juros-bancarios/df.parquet', index=False, engine='fastparquet')\n",
    "df.to_parquet('_data/refined/juros-bancarios/df.parquet', index=False, engine='fastparquet')"
   ]
  },
  {
   "cell_type": "code",
   "execution_count": 29,
   "metadata": {},
   "outputs": [],
   "source": [
    "df.to_csv('_data/trusted/juros-bancarios/df.csv', index=False)\n",
    "df.to_csv('_data/refined/juros-bancarios/df.csv', index=False)"
   ]
  }
 ],
 "metadata": {
  "kernelspec": {
   "display_name": "Python 3",
   "language": "python",
   "name": "python3"
  },
  "language_info": {
   "codemirror_mode": {
    "name": "ipython",
    "version": 3
   },
   "file_extension": ".py",
   "mimetype": "text/x-python",
   "name": "python",
   "nbconvert_exporter": "python",
   "pygments_lexer": "ipython3",
   "version": "3.10.12"
  }
 },
 "nbformat": 4,
 "nbformat_minor": 2
}
