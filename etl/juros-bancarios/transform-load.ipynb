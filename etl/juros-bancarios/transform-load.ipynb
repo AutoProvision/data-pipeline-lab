{
 "cells": [
  {
   "cell_type": "code",
   "execution_count": null,
   "metadata": {},
   "outputs": [],
   "source": [
    "import os\n",
    "while not os.path.exists('.gitignore'):\n",
    "\tos.chdir(os.path.abspath(os.path.join('../')))\n",
    "from common_imports import *"
   ]
  },
  {
   "cell_type": "code",
   "execution_count": null,
   "metadata": {},
   "outputs": [],
   "source": [
    "dirs = os.listdir('_data/raw/juros-bancarios')\n",
    "dirs.sort()\n",
    "\n",
    "all_files = []\n",
    "\n",
    "for dir in dirs:\n",
    "\tfor root, _, files in os.walk(f'_data/raw/juros-bancarios/{dir}'):\n",
    "\t\tfor file in files:\n",
    "\t\t\tall_files.append(os.path.join(root, file))\n",
    "\n",
    "arrow_tables = []\n",
    "for file in all_files:\n",
    "\twith open(file, 'r') as f:\n",
    "\t\tprint(f'Lendo arquivo {file}')\n",
    "\t\tdata = eval(f.read())\n",
    "\t\tdf = pd.DataFrame(data['conteudo'])\n",
    "\t\ttable = pa.Table.from_pandas(df)\n",
    "\t\tarrow_tables.append(table)\n",
    "\n",
    "combined_table = pa.concat_tables(arrow_tables)\n",
    "\n",
    "df = combined_table.to_pandas()"
   ]
  },
  {
   "cell_type": "code",
   "execution_count": 3,
   "metadata": {},
   "outputs": [],
   "source": [
    "df.drop('Posicao', axis=1, inplace=True)\n",
    "df['TaxaJurosAoMes'] = df['TaxaJurosAoMes'].str.replace(',', '.').astype(float)\n",
    "df['TaxaJurosAoAno'] = df['TaxaJurosAoAno'].str.replace(',', '.').astype(float)"
   ]
  },
  {
   "cell_type": "code",
   "execution_count": null,
   "metadata": {},
   "outputs": [],
   "source": [
    "df['InstituicaoFinanceira'].value_counts()"
   ]
  },
  {
   "cell_type": "code",
   "execution_count": null,
   "metadata": {},
   "outputs": [],
   "source": [
    "df.head()"
   ]
  },
  {
   "cell_type": "code",
   "execution_count": null,
   "metadata": {},
   "outputs": [],
   "source": [
    "df['Modalidade'].value_counts()"
   ]
  },
  {
   "cell_type": "code",
   "execution_count": 7,
   "metadata": {},
   "outputs": [],
   "source": [
    "df['SubClassificacao'] = df['Modalidade'].apply(lambda x: x.split(' - ')[-1])\n",
    "df['Modalidade'] = df['Modalidade'].apply(lambda x: x.rsplit(' - ', 1)[0])"
   ]
  },
  {
   "cell_type": "code",
   "execution_count": null,
   "metadata": {},
   "outputs": [],
   "source": [
    "df['Modalidade'].value_counts()"
   ]
  },
  {
   "cell_type": "code",
   "execution_count": null,
   "metadata": {},
   "outputs": [],
   "source": [
    "df['SubClassificacao'].value_counts()"
   ]
  },
  {
   "cell_type": "code",
   "execution_count": 10,
   "metadata": {},
   "outputs": [],
   "source": [
    "def transform_taxa(valor_taxa, periodo_desejado, periodo_atual):\n",
    "\tvt = Decimal(valor_taxa)\n",
    "\tpd = Decimal(periodo_desejado)\n",
    "\tpa = Decimal(periodo_atual)\n",
    " \n",
    "\ta = 1 + (vt / 100)\n",
    "\tb = pd / pa\n",
    "\tc = a ** b\n",
    "\td = (c - 1) * 100\n",
    "\n",
    "\treturn d"
   ]
  },
  {
   "cell_type": "code",
   "execution_count": 11,
   "metadata": {},
   "outputs": [],
   "source": [
    "def trim_decimal(n):\n",
    "\tvalor = Decimal(str(n).rstrip('0').rstrip('.'))\n",
    "\treturn valor.quantize(Decimal('1.0000'), rounding=ROUND_HALF_UP)"
   ]
  },
  {
   "cell_type": "code",
   "execution_count": 12,
   "metadata": {},
   "outputs": [],
   "source": [
    "df['TaxaJurosAoMes'] = df.apply(lambda x: trim_decimal(transform_taxa(x['TaxaJurosAoAno'], 1, 12)), axis=1)"
   ]
  }
 ],
 "metadata": {
  "kernelspec": {
   "display_name": "Python 3",
   "language": "python",
   "name": "python3"
  },
  "language_info": {
   "codemirror_mode": {
    "name": "ipython",
    "version": 3
   },
   "file_extension": ".py",
   "mimetype": "text/x-python",
   "name": "python",
   "nbconvert_exporter": "python",
   "pygments_lexer": "ipython3",
   "version": "3.10.12"
  }
 },
 "nbformat": 4,
 "nbformat_minor": 2
}
