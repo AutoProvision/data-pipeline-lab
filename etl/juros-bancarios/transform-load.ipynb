{
 "cells": [
  {
   "cell_type": "code",
   "execution_count": 1,
   "metadata": {},
   "outputs": [],
   "source": [
    "import os\n",
    "while not os.path.exists('.gitignore'):\n",
    "\tos.chdir(os.path.abspath(os.path.join('../')))\n",
    "from common_imports import *"
   ]
  },
  {
   "cell_type": "code",
   "execution_count": 2,
   "metadata": {},
   "outputs": [],
   "source": [
    "df = pd.read_parquet('_data/raw/juros-bancarios/combined.parquet')"
   ]
  },
  {
   "cell_type": "code",
   "execution_count": 3,
   "metadata": {},
   "outputs": [],
   "source": [
    "linhas_para_remover = len(df) - 1000000\n",
    "\n",
    "indices_para_remover = np.random.choice(df.index, size=linhas_para_remover, replace=False)\n",
    "\n",
    "df = df.drop(indices_para_remover)\n",
    "\n",
    "df = df.reset_index(drop=True)"
   ]
  },
  {
   "cell_type": "code",
   "execution_count": 4,
   "metadata": {},
   "outputs": [
    {
     "data": {
      "text/html": [
       "<div>\n",
       "<style scoped>\n",
       "    .dataframe tbody tr th:only-of-type {\n",
       "        vertical-align: middle;\n",
       "    }\n",
       "\n",
       "    .dataframe tbody tr th {\n",
       "        vertical-align: top;\n",
       "    }\n",
       "\n",
       "    .dataframe thead th {\n",
       "        text-align: right;\n",
       "    }\n",
       "</style>\n",
       "<table border=\"1\" class=\"dataframe\">\n",
       "  <thead>\n",
       "    <tr style=\"text-align: right;\">\n",
       "      <th></th>\n",
       "      <th>Segmento</th>\n",
       "      <th>Modalidade</th>\n",
       "      <th>InstituicaoFinanceira</th>\n",
       "      <th>TaxaJurosAoAno</th>\n",
       "      <th>data</th>\n",
       "    </tr>\n",
       "  </thead>\n",
       "  <tbody>\n",
       "    <tr>\n",
       "      <th>0</th>\n",
       "      <td>Pessoa Física</td>\n",
       "      <td>FINANCIAMENTO IMOBILIÁRIO COM TAXAS DE MERCADO...</td>\n",
       "      <td>BCO DO BRASIL S.A.</td>\n",
       "      <td>16,40</td>\n",
       "      <td>2012-01-01</td>\n",
       "    </tr>\n",
       "    <tr>\n",
       "      <th>1</th>\n",
       "      <td>Pessoa Física</td>\n",
       "      <td>FINANCIAMENTO IMOBILIÁRIO COM TAXAS DE MERCADO...</td>\n",
       "      <td>BRAZILIAN MORTGAGES CH S.A.</td>\n",
       "      <td>18,50</td>\n",
       "      <td>2012-01-01</td>\n",
       "    </tr>\n",
       "    <tr>\n",
       "      <th>2</th>\n",
       "      <td>Pessoa Física</td>\n",
       "      <td>FINANCIAMENTO IMOBILIÁRIO COM TAXAS DE MERCADO...</td>\n",
       "      <td>BCO SANTANDER (BRASIL) S.A.</td>\n",
       "      <td>9,79</td>\n",
       "      <td>2012-01-01</td>\n",
       "    </tr>\n",
       "    <tr>\n",
       "      <th>3</th>\n",
       "      <td>Pessoa Física</td>\n",
       "      <td>FINANCIAMENTO IMOBILIÁRIO COM TAXAS DE MERCADO...</td>\n",
       "      <td>BCO BRADESCO S.A.</td>\n",
       "      <td>10,38</td>\n",
       "      <td>2012-01-01</td>\n",
       "    </tr>\n",
       "    <tr>\n",
       "      <th>4</th>\n",
       "      <td>Pessoa Física</td>\n",
       "      <td>FINANCIAMENTO IMOBILIÁRIO COM TAXAS DE MERCADO...</td>\n",
       "      <td>BRAZILIAN MORTGAGES CH S.A.</td>\n",
       "      <td>11,70</td>\n",
       "      <td>2012-01-01</td>\n",
       "    </tr>\n",
       "    <tr>\n",
       "      <th>...</th>\n",
       "      <td>...</td>\n",
       "      <td>...</td>\n",
       "      <td>...</td>\n",
       "      <td>...</td>\n",
       "      <td>...</td>\n",
       "    </tr>\n",
       "    <tr>\n",
       "      <th>999995</th>\n",
       "      <td>Pessoa Jurídica</td>\n",
       "      <td>Adiantamento sobre contratos de câmbio (ACC) -...</td>\n",
       "      <td>BCO DA CHINA BRASIL S.A.</td>\n",
       "      <td>6,83</td>\n",
       "      <td>2024-09-16</td>\n",
       "    </tr>\n",
       "    <tr>\n",
       "      <th>999996</th>\n",
       "      <td>Pessoa Jurídica</td>\n",
       "      <td>Adiantamento sobre contratos de câmbio (ACC) -...</td>\n",
       "      <td>BCO VOTORANTIM S.A.</td>\n",
       "      <td>6,97</td>\n",
       "      <td>2024-09-16</td>\n",
       "    </tr>\n",
       "    <tr>\n",
       "      <th>999997</th>\n",
       "      <td>Pessoa Jurídica</td>\n",
       "      <td>Adiantamento sobre contratos de câmbio (ACC) -...</td>\n",
       "      <td>BCO SANTANDER (BRASIL) S.A.</td>\n",
       "      <td>7,72</td>\n",
       "      <td>2024-09-16</td>\n",
       "    </tr>\n",
       "    <tr>\n",
       "      <th>999998</th>\n",
       "      <td>Pessoa Jurídica</td>\n",
       "      <td>Adiantamento sobre contratos de câmbio (ACC) -...</td>\n",
       "      <td>BCO CAIXA GERAL BRASIL S.A.</td>\n",
       "      <td>8,66</td>\n",
       "      <td>2024-09-16</td>\n",
       "    </tr>\n",
       "    <tr>\n",
       "      <th>999999</th>\n",
       "      <td>Pessoa Jurídica</td>\n",
       "      <td>Adiantamento sobre contratos de câmbio (ACC) -...</td>\n",
       "      <td>BANCO INTER</td>\n",
       "      <td>10,40</td>\n",
       "      <td>2024-09-16</td>\n",
       "    </tr>\n",
       "  </tbody>\n",
       "</table>\n",
       "<p>1000000 rows × 5 columns</p>\n",
       "</div>"
      ],
      "text/plain": [
       "               Segmento                                         Modalidade  \\\n",
       "0         Pessoa Física  FINANCIAMENTO IMOBILIÁRIO COM TAXAS DE MERCADO...   \n",
       "1         Pessoa Física  FINANCIAMENTO IMOBILIÁRIO COM TAXAS DE MERCADO...   \n",
       "2         Pessoa Física  FINANCIAMENTO IMOBILIÁRIO COM TAXAS DE MERCADO...   \n",
       "3         Pessoa Física  FINANCIAMENTO IMOBILIÁRIO COM TAXAS DE MERCADO...   \n",
       "4         Pessoa Física  FINANCIAMENTO IMOBILIÁRIO COM TAXAS DE MERCADO...   \n",
       "...                 ...                                                ...   \n",
       "999995  Pessoa Jurídica  Adiantamento sobre contratos de câmbio (ACC) -...   \n",
       "999996  Pessoa Jurídica  Adiantamento sobre contratos de câmbio (ACC) -...   \n",
       "999997  Pessoa Jurídica  Adiantamento sobre contratos de câmbio (ACC) -...   \n",
       "999998  Pessoa Jurídica  Adiantamento sobre contratos de câmbio (ACC) -...   \n",
       "999999  Pessoa Jurídica  Adiantamento sobre contratos de câmbio (ACC) -...   \n",
       "\n",
       "              InstituicaoFinanceira TaxaJurosAoAno        data  \n",
       "0                BCO DO BRASIL S.A.          16,40  2012-01-01  \n",
       "1       BRAZILIAN MORTGAGES CH S.A.          18,50  2012-01-01  \n",
       "2       BCO SANTANDER (BRASIL) S.A.           9,79  2012-01-01  \n",
       "3                 BCO BRADESCO S.A.          10,38  2012-01-01  \n",
       "4       BRAZILIAN MORTGAGES CH S.A.          11,70  2012-01-01  \n",
       "...                             ...            ...         ...  \n",
       "999995     BCO DA CHINA BRASIL S.A.           6,83  2024-09-16  \n",
       "999996          BCO VOTORANTIM S.A.           6,97  2024-09-16  \n",
       "999997  BCO SANTANDER (BRASIL) S.A.           7,72  2024-09-16  \n",
       "999998  BCO CAIXA GERAL BRASIL S.A.           8,66  2024-09-16  \n",
       "999999                  BANCO INTER          10,40  2024-09-16  \n",
       "\n",
       "[1000000 rows x 5 columns]"
      ]
     },
     "execution_count": 4,
     "metadata": {},
     "output_type": "execute_result"
    }
   ],
   "source": [
    "df"
   ]
  },
  {
   "cell_type": "code",
   "execution_count": 5,
   "metadata": {},
   "outputs": [],
   "source": [
    "df['TaxaJurosAoAno'] = df['TaxaJurosAoAno'].str.replace(',', '.').astype(float)"
   ]
  },
  {
   "cell_type": "code",
   "execution_count": 6,
   "metadata": {},
   "outputs": [
    {
     "data": {
      "text/plain": [
       "InstituicaoFinanceira\n",
       "BCO DO BRASIL S.A.                28505\n",
       "BCO BRADESCO S.A.                 28495\n",
       "BCO SANTANDER (BRASIL) S.A.       27942\n",
       "BCO DO ESTADO DO RS S.A.          26173\n",
       "ITAÚ UNIBANCO S.A.                24529\n",
       "                                  ...  \n",
       "TRADIÇÃO                              4\n",
       "CCB BRASIL LEASING                    4\n",
       "GOLDMAN SACHS DO BRASIL BM S.A        2\n",
       "BANIF INVESTIMENTO                    2\n",
       "MERCANTIL BRASIL LEASING SA AM        1\n",
       "Name: count, Length: 269, dtype: int64"
      ]
     },
     "execution_count": 6,
     "metadata": {},
     "output_type": "execute_result"
    }
   ],
   "source": [
    "df['InstituicaoFinanceira'].value_counts()"
   ]
  },
  {
   "cell_type": "code",
   "execution_count": 7,
   "metadata": {},
   "outputs": [
    {
     "data": {
      "text/html": [
       "<div>\n",
       "<style scoped>\n",
       "    .dataframe tbody tr th:only-of-type {\n",
       "        vertical-align: middle;\n",
       "    }\n",
       "\n",
       "    .dataframe tbody tr th {\n",
       "        vertical-align: top;\n",
       "    }\n",
       "\n",
       "    .dataframe thead th {\n",
       "        text-align: right;\n",
       "    }\n",
       "</style>\n",
       "<table border=\"1\" class=\"dataframe\">\n",
       "  <thead>\n",
       "    <tr style=\"text-align: right;\">\n",
       "      <th></th>\n",
       "      <th>Segmento</th>\n",
       "      <th>Modalidade</th>\n",
       "      <th>InstituicaoFinanceira</th>\n",
       "      <th>TaxaJurosAoAno</th>\n",
       "      <th>data</th>\n",
       "    </tr>\n",
       "  </thead>\n",
       "  <tbody>\n",
       "    <tr>\n",
       "      <th>0</th>\n",
       "      <td>Pessoa Física</td>\n",
       "      <td>FINANCIAMENTO IMOBILIÁRIO COM TAXAS DE MERCADO...</td>\n",
       "      <td>BCO DO BRASIL S.A.</td>\n",
       "      <td>16.40</td>\n",
       "      <td>2012-01-01</td>\n",
       "    </tr>\n",
       "    <tr>\n",
       "      <th>1</th>\n",
       "      <td>Pessoa Física</td>\n",
       "      <td>FINANCIAMENTO IMOBILIÁRIO COM TAXAS DE MERCADO...</td>\n",
       "      <td>BRAZILIAN MORTGAGES CH S.A.</td>\n",
       "      <td>18.50</td>\n",
       "      <td>2012-01-01</td>\n",
       "    </tr>\n",
       "    <tr>\n",
       "      <th>2</th>\n",
       "      <td>Pessoa Física</td>\n",
       "      <td>FINANCIAMENTO IMOBILIÁRIO COM TAXAS DE MERCADO...</td>\n",
       "      <td>BCO SANTANDER (BRASIL) S.A.</td>\n",
       "      <td>9.79</td>\n",
       "      <td>2012-01-01</td>\n",
       "    </tr>\n",
       "    <tr>\n",
       "      <th>3</th>\n",
       "      <td>Pessoa Física</td>\n",
       "      <td>FINANCIAMENTO IMOBILIÁRIO COM TAXAS DE MERCADO...</td>\n",
       "      <td>BCO BRADESCO S.A.</td>\n",
       "      <td>10.38</td>\n",
       "      <td>2012-01-01</td>\n",
       "    </tr>\n",
       "    <tr>\n",
       "      <th>4</th>\n",
       "      <td>Pessoa Física</td>\n",
       "      <td>FINANCIAMENTO IMOBILIÁRIO COM TAXAS DE MERCADO...</td>\n",
       "      <td>BRAZILIAN MORTGAGES CH S.A.</td>\n",
       "      <td>11.70</td>\n",
       "      <td>2012-01-01</td>\n",
       "    </tr>\n",
       "  </tbody>\n",
       "</table>\n",
       "</div>"
      ],
      "text/plain": [
       "        Segmento                                         Modalidade  \\\n",
       "0  Pessoa Física  FINANCIAMENTO IMOBILIÁRIO COM TAXAS DE MERCADO...   \n",
       "1  Pessoa Física  FINANCIAMENTO IMOBILIÁRIO COM TAXAS DE MERCADO...   \n",
       "2  Pessoa Física  FINANCIAMENTO IMOBILIÁRIO COM TAXAS DE MERCADO...   \n",
       "3  Pessoa Física  FINANCIAMENTO IMOBILIÁRIO COM TAXAS DE MERCADO...   \n",
       "4  Pessoa Física  FINANCIAMENTO IMOBILIÁRIO COM TAXAS DE MERCADO...   \n",
       "\n",
       "         InstituicaoFinanceira  TaxaJurosAoAno        data  \n",
       "0           BCO DO BRASIL S.A.           16.40  2012-01-01  \n",
       "1  BRAZILIAN MORTGAGES CH S.A.           18.50  2012-01-01  \n",
       "2  BCO SANTANDER (BRASIL) S.A.            9.79  2012-01-01  \n",
       "3            BCO BRADESCO S.A.           10.38  2012-01-01  \n",
       "4  BRAZILIAN MORTGAGES CH S.A.           11.70  2012-01-01  "
      ]
     },
     "execution_count": 7,
     "metadata": {},
     "output_type": "execute_result"
    }
   ],
   "source": [
    "df.head()"
   ]
  },
  {
   "cell_type": "code",
   "execution_count": 8,
   "metadata": {},
   "outputs": [
    {
     "data": {
      "text/plain": [
       "Modalidade\n",
       "Crédito pessoal não-consignado - Pré-fixado                                                    92588\n",
       "Cheque especial - Pré-fixado                                                                   70121\n",
       "Crédito pessoal consignado privado - Pré-fixado                                                64493\n",
       "Desconto de duplicatas - Pré-fixado                                                            63336\n",
       "Capital de giro com prazo até 365 dias - Pré-fixado                                            59687\n",
       "Aquisição de veículos - Pré-fixado                                                             58036\n",
       "Cartão de crédito - rotativo total - Pré-fixado                                                54518\n",
       "Capital de giro com prazo superior a 365 dias - Pré-fixado                                     52313\n",
       "Crédito pessoal consignado público - Pré-fixado                                                52101\n",
       "Aquisição de outros bens - Pré-fixado                                                          51803\n",
       "Cartão de crédito - parcelado - Pré-fixado                                                     50023\n",
       "Crédito pessoal consignado INSS - Pré-fixado                                                   47844\n",
       "Conta garantida - Pré-fixado                                                                   45536\n",
       "Conta garantida - Pós-fixado referenciado em juros flutuantes                                  44542\n",
       "Adiantamento sobre contratos de câmbio (ACC) - Pós-fixado referenciado em moeda estrangeira    44224\n",
       "Desconto de cheques - Pré-fixado                                                               39581\n",
       "Capital de giro com prazo superior a 365 dias - Pós-fixado referenciado em juros flutuantes    37404\n",
       "Capital de giro com prazo até 365 dias - Pós-fixado referenciado em juros flutuantes           36150\n",
       "Vendor - Pré-fixado                                                                            16868\n",
       "Antecipação de faturas de cartão de crédito - Pré-fixado                                       11796\n",
       "Arrendamento mercantil de veículos - Pré-fixado                                                 4925\n",
       "FINANCIAMENTO IMOBILIÁRIO COM TAXAS REGULADAS - PÓS-FIXADO REFERENCIADO EM TR                    779\n",
       "FINANCIAMENTO IMOBILIÁRIO COM TAXAS DE MERCADO - PÓS-FIXADO REFERENCIADO EM TR                   726\n",
       "FINANCIAMENTO IMOBILIÁRIO COM TAXAS DE MERCADO - PRÉ-FIXADO                                      253\n",
       "FINANCIAMENTO IMOBILIÁRIO COM TAXAS REGULADAS - PRÉ-FIXADO                                       129\n",
       "FINANCIAMENTO IMOBILIÁRIO COM TAXAS DE MERCADO - PÓS-FIXADO REFERENCIADO EM IPCA                 129\n",
       "FINANCIAMENTO IMOBILIÁRIO COM TAXAS REGULADAS - PÓS-FIXADO REFERENCIADO EM IPCA                   95\n",
       "Name: count, dtype: int64"
      ]
     },
     "execution_count": 8,
     "metadata": {},
     "output_type": "execute_result"
    }
   ],
   "source": [
    "df['Modalidade'].value_counts()"
   ]
  },
  {
   "cell_type": "code",
   "execution_count": 9,
   "metadata": {},
   "outputs": [],
   "source": [
    "df['SubClassificacao'] = df['Modalidade'].apply(lambda x: x.split(' - ')[-1]).astype('category')\n",
    "df['Modalidade'] = df['Modalidade'].apply(lambda x: x.rsplit(' - ', 1)[0]).astype('category')"
   ]
  },
  {
   "cell_type": "code",
   "execution_count": 10,
   "metadata": {},
   "outputs": [
    {
     "data": {
      "text/plain": [
       "Modalidade\n",
       "Capital de giro com prazo até 365 dias            95837\n",
       "Crédito pessoal não-consignado                    92588\n",
       "Conta garantida                                   90078\n",
       "Capital de giro com prazo superior a 365 dias     89717\n",
       "Cheque especial                                   70121\n",
       "Crédito pessoal consignado privado                64493\n",
       "Desconto de duplicatas                            63336\n",
       "Aquisição de veículos                             58036\n",
       "Cartão de crédito - rotativo total                54518\n",
       "Crédito pessoal consignado público                52101\n",
       "Aquisição de outros bens                          51803\n",
       "Cartão de crédito - parcelado                     50023\n",
       "Crédito pessoal consignado INSS                   47844\n",
       "Adiantamento sobre contratos de câmbio (ACC)      44224\n",
       "Desconto de cheques                               39581\n",
       "Vendor                                            16868\n",
       "Antecipação de faturas de cartão de crédito       11796\n",
       "Arrendamento mercantil de veículos                 4925\n",
       "FINANCIAMENTO IMOBILIÁRIO COM TAXAS DE MERCADO     1108\n",
       "FINANCIAMENTO IMOBILIÁRIO COM TAXAS REGULADAS      1003\n",
       "Name: count, dtype: int64"
      ]
     },
     "execution_count": 10,
     "metadata": {},
     "output_type": "execute_result"
    }
   ],
   "source": [
    "df['Modalidade'].value_counts()"
   ]
  },
  {
   "cell_type": "code",
   "execution_count": 11,
   "metadata": {},
   "outputs": [
    {
     "data": {
      "text/plain": [
       "SubClassificacao\n",
       "Pré-fixado                                      835569\n",
       "Pós-fixado referenciado em juros flutuantes     118096\n",
       "Pós-fixado referenciado em moeda estrangeira     44224\n",
       "PÓS-FIXADO REFERENCIADO EM TR                     1505\n",
       "PRÉ-FIXADO                                         382\n",
       "PÓS-FIXADO REFERENCIADO EM IPCA                    224\n",
       "Name: count, dtype: int64"
      ]
     },
     "execution_count": 11,
     "metadata": {},
     "output_type": "execute_result"
    }
   ],
   "source": [
    "df['SubClassificacao'].value_counts()"
   ]
  },
  {
   "cell_type": "code",
   "execution_count": 12,
   "metadata": {},
   "outputs": [],
   "source": [
    "def transform_taxa(valor_taxa, periodo_desejado, periodo_atual):\n",
    "\tvt = Decimal(valor_taxa)\n",
    "\tpd = Decimal(periodo_desejado)\n",
    "\tpa = Decimal(periodo_atual)\n",
    " \n",
    "\ta = 1 + (vt / 100)\n",
    "\tb = pd / pa\n",
    "\tc = a ** b\n",
    "\td = (c - 1) * 100\n",
    "\n",
    "\treturn d"
   ]
  },
  {
   "cell_type": "code",
   "execution_count": 13,
   "metadata": {},
   "outputs": [],
   "source": [
    "def trim_decimal(n):\n",
    "\tvalor = Decimal(str(n).rstrip('0').rstrip('.'))\n",
    "\treturn valor.quantize(Decimal('1.0000'), rounding=ROUND_HALF_UP)"
   ]
  },
  {
   "cell_type": "code",
   "execution_count": 14,
   "metadata": {},
   "outputs": [
    {
     "data": {
      "text/html": [
       "<div>\n",
       "<style scoped>\n",
       "    .dataframe tbody tr th:only-of-type {\n",
       "        vertical-align: middle;\n",
       "    }\n",
       "\n",
       "    .dataframe tbody tr th {\n",
       "        vertical-align: top;\n",
       "    }\n",
       "\n",
       "    .dataframe thead th {\n",
       "        text-align: right;\n",
       "    }\n",
       "</style>\n",
       "<table border=\"1\" class=\"dataframe\">\n",
       "  <thead>\n",
       "    <tr style=\"text-align: right;\">\n",
       "      <th></th>\n",
       "      <th>Segmento</th>\n",
       "      <th>Modalidade</th>\n",
       "      <th>InstituicaoFinanceira</th>\n",
       "      <th>TaxaJurosAoAno</th>\n",
       "      <th>data</th>\n",
       "      <th>SubClassificacao</th>\n",
       "    </tr>\n",
       "  </thead>\n",
       "  <tbody>\n",
       "    <tr>\n",
       "      <th>0</th>\n",
       "      <td>Pessoa Física</td>\n",
       "      <td>FINANCIAMENTO IMOBILIÁRIO COM TAXAS DE MERCADO</td>\n",
       "      <td>BCO DO BRASIL S.A.</td>\n",
       "      <td>16.40</td>\n",
       "      <td>2012-01-01</td>\n",
       "      <td>PRÉ-FIXADO</td>\n",
       "    </tr>\n",
       "    <tr>\n",
       "      <th>1</th>\n",
       "      <td>Pessoa Física</td>\n",
       "      <td>FINANCIAMENTO IMOBILIÁRIO COM TAXAS DE MERCADO</td>\n",
       "      <td>BRAZILIAN MORTGAGES CH S.A.</td>\n",
       "      <td>18.50</td>\n",
       "      <td>2012-01-01</td>\n",
       "      <td>PRÉ-FIXADO</td>\n",
       "    </tr>\n",
       "    <tr>\n",
       "      <th>2</th>\n",
       "      <td>Pessoa Física</td>\n",
       "      <td>FINANCIAMENTO IMOBILIÁRIO COM TAXAS DE MERCADO</td>\n",
       "      <td>BCO SANTANDER (BRASIL) S.A.</td>\n",
       "      <td>9.79</td>\n",
       "      <td>2012-01-01</td>\n",
       "      <td>PÓS-FIXADO REFERENCIADO EM TR</td>\n",
       "    </tr>\n",
       "    <tr>\n",
       "      <th>3</th>\n",
       "      <td>Pessoa Física</td>\n",
       "      <td>FINANCIAMENTO IMOBILIÁRIO COM TAXAS DE MERCADO</td>\n",
       "      <td>BCO BRADESCO S.A.</td>\n",
       "      <td>10.38</td>\n",
       "      <td>2012-01-01</td>\n",
       "      <td>PÓS-FIXADO REFERENCIADO EM TR</td>\n",
       "    </tr>\n",
       "    <tr>\n",
       "      <th>4</th>\n",
       "      <td>Pessoa Física</td>\n",
       "      <td>FINANCIAMENTO IMOBILIÁRIO COM TAXAS DE MERCADO</td>\n",
       "      <td>BRAZILIAN MORTGAGES CH S.A.</td>\n",
       "      <td>11.70</td>\n",
       "      <td>2012-01-01</td>\n",
       "      <td>PÓS-FIXADO REFERENCIADO EM TR</td>\n",
       "    </tr>\n",
       "    <tr>\n",
       "      <th>...</th>\n",
       "      <td>...</td>\n",
       "      <td>...</td>\n",
       "      <td>...</td>\n",
       "      <td>...</td>\n",
       "      <td>...</td>\n",
       "      <td>...</td>\n",
       "    </tr>\n",
       "    <tr>\n",
       "      <th>999995</th>\n",
       "      <td>Pessoa Jurídica</td>\n",
       "      <td>Adiantamento sobre contratos de câmbio (ACC)</td>\n",
       "      <td>BCO DA CHINA BRASIL S.A.</td>\n",
       "      <td>6.83</td>\n",
       "      <td>2024-09-16</td>\n",
       "      <td>Pós-fixado referenciado em moeda estrangeira</td>\n",
       "    </tr>\n",
       "    <tr>\n",
       "      <th>999996</th>\n",
       "      <td>Pessoa Jurídica</td>\n",
       "      <td>Adiantamento sobre contratos de câmbio (ACC)</td>\n",
       "      <td>BCO VOTORANTIM S.A.</td>\n",
       "      <td>6.97</td>\n",
       "      <td>2024-09-16</td>\n",
       "      <td>Pós-fixado referenciado em moeda estrangeira</td>\n",
       "    </tr>\n",
       "    <tr>\n",
       "      <th>999997</th>\n",
       "      <td>Pessoa Jurídica</td>\n",
       "      <td>Adiantamento sobre contratos de câmbio (ACC)</td>\n",
       "      <td>BCO SANTANDER (BRASIL) S.A.</td>\n",
       "      <td>7.72</td>\n",
       "      <td>2024-09-16</td>\n",
       "      <td>Pós-fixado referenciado em moeda estrangeira</td>\n",
       "    </tr>\n",
       "    <tr>\n",
       "      <th>999998</th>\n",
       "      <td>Pessoa Jurídica</td>\n",
       "      <td>Adiantamento sobre contratos de câmbio (ACC)</td>\n",
       "      <td>BCO CAIXA GERAL BRASIL S.A.</td>\n",
       "      <td>8.66</td>\n",
       "      <td>2024-09-16</td>\n",
       "      <td>Pós-fixado referenciado em moeda estrangeira</td>\n",
       "    </tr>\n",
       "    <tr>\n",
       "      <th>999999</th>\n",
       "      <td>Pessoa Jurídica</td>\n",
       "      <td>Adiantamento sobre contratos de câmbio (ACC)</td>\n",
       "      <td>BANCO INTER</td>\n",
       "      <td>10.40</td>\n",
       "      <td>2024-09-16</td>\n",
       "      <td>Pós-fixado referenciado em moeda estrangeira</td>\n",
       "    </tr>\n",
       "  </tbody>\n",
       "</table>\n",
       "<p>1000000 rows × 6 columns</p>\n",
       "</div>"
      ],
      "text/plain": [
       "               Segmento                                      Modalidade  \\\n",
       "0         Pessoa Física  FINANCIAMENTO IMOBILIÁRIO COM TAXAS DE MERCADO   \n",
       "1         Pessoa Física  FINANCIAMENTO IMOBILIÁRIO COM TAXAS DE MERCADO   \n",
       "2         Pessoa Física  FINANCIAMENTO IMOBILIÁRIO COM TAXAS DE MERCADO   \n",
       "3         Pessoa Física  FINANCIAMENTO IMOBILIÁRIO COM TAXAS DE MERCADO   \n",
       "4         Pessoa Física  FINANCIAMENTO IMOBILIÁRIO COM TAXAS DE MERCADO   \n",
       "...                 ...                                             ...   \n",
       "999995  Pessoa Jurídica    Adiantamento sobre contratos de câmbio (ACC)   \n",
       "999996  Pessoa Jurídica    Adiantamento sobre contratos de câmbio (ACC)   \n",
       "999997  Pessoa Jurídica    Adiantamento sobre contratos de câmbio (ACC)   \n",
       "999998  Pessoa Jurídica    Adiantamento sobre contratos de câmbio (ACC)   \n",
       "999999  Pessoa Jurídica    Adiantamento sobre contratos de câmbio (ACC)   \n",
       "\n",
       "              InstituicaoFinanceira  TaxaJurosAoAno        data  \\\n",
       "0                BCO DO BRASIL S.A.           16.40  2012-01-01   \n",
       "1       BRAZILIAN MORTGAGES CH S.A.           18.50  2012-01-01   \n",
       "2       BCO SANTANDER (BRASIL) S.A.            9.79  2012-01-01   \n",
       "3                 BCO BRADESCO S.A.           10.38  2012-01-01   \n",
       "4       BRAZILIAN MORTGAGES CH S.A.           11.70  2012-01-01   \n",
       "...                             ...             ...         ...   \n",
       "999995     BCO DA CHINA BRASIL S.A.            6.83  2024-09-16   \n",
       "999996          BCO VOTORANTIM S.A.            6.97  2024-09-16   \n",
       "999997  BCO SANTANDER (BRASIL) S.A.            7.72  2024-09-16   \n",
       "999998  BCO CAIXA GERAL BRASIL S.A.            8.66  2024-09-16   \n",
       "999999                  BANCO INTER           10.40  2024-09-16   \n",
       "\n",
       "                                    SubClassificacao  \n",
       "0                                         PRÉ-FIXADO  \n",
       "1                                         PRÉ-FIXADO  \n",
       "2                      PÓS-FIXADO REFERENCIADO EM TR  \n",
       "3                      PÓS-FIXADO REFERENCIADO EM TR  \n",
       "4                      PÓS-FIXADO REFERENCIADO EM TR  \n",
       "...                                              ...  \n",
       "999995  Pós-fixado referenciado em moeda estrangeira  \n",
       "999996  Pós-fixado referenciado em moeda estrangeira  \n",
       "999997  Pós-fixado referenciado em moeda estrangeira  \n",
       "999998  Pós-fixado referenciado em moeda estrangeira  \n",
       "999999  Pós-fixado referenciado em moeda estrangeira  \n",
       "\n",
       "[1000000 rows x 6 columns]"
      ]
     },
     "execution_count": 14,
     "metadata": {},
     "output_type": "execute_result"
    }
   ],
   "source": [
    "df"
   ]
  },
  {
   "cell_type": "code",
   "execution_count": 15,
   "metadata": {},
   "outputs": [],
   "source": [
    "df['TaxaJurosAoMes'] = df.apply(lambda x: trim_decimal(transform_taxa(x['TaxaJurosAoAno'], 1, 12)), axis=1).astype(float)"
   ]
  },
  {
   "cell_type": "code",
   "execution_count": 16,
   "metadata": {},
   "outputs": [],
   "source": [
    "SUBCLASSIFICACAO_REPLACE_MAP = {\n",
    "\t'PÓS-FIXADO': 'Pós-fixado',\n",
    "\t'PRÉ-FIXADO': 'Pré-fixado',\n",
    "\t'PÓS-FIXADO REFERENCIADO EM IPCA': 'Pós-fixado referenciado em IPCA',\n",
    "\t'PÓS-FIXADO REFERENCIADO EM TR': 'Pós-fixado referenciado em TR',\n",
    "}\n",
    "df['SubClassificacao'] = df['SubClassificacao'].replace(SUBCLASSIFICACAO_REPLACE_MAP).astype('category')"
   ]
  },
  {
   "cell_type": "code",
   "execution_count": 17,
   "metadata": {},
   "outputs": [
    {
     "data": {
      "text/plain": [
       "SubClassificacao\n",
       "Pré-fixado                                      835951\n",
       "Pós-fixado referenciado em juros flutuantes     118096\n",
       "Pós-fixado referenciado em moeda estrangeira     44224\n",
       "Pós-fixado referenciado em TR                     1505\n",
       "Pós-fixado referenciado em IPCA                    224\n",
       "Name: count, dtype: int64"
      ]
     },
     "execution_count": 17,
     "metadata": {},
     "output_type": "execute_result"
    }
   ],
   "source": [
    "df['SubClassificacao'].value_counts()"
   ]
  },
  {
   "cell_type": "code",
   "execution_count": 18,
   "metadata": {},
   "outputs": [],
   "source": [
    "MODALIDADE_REPLACE_MAP = {\n",
    "\t'FINANCIAMENTO IMOBILIÁRIO COM TAXAS DE MERCADO': 'Financiamento imobiliário com taxas de mercado',\n",
    "\t'FINANCIAMENTO IMOBILIÁRIO COM TAXAS REGULADAS': 'Financiamento imobiliário com taxas reguladas',\n",
    "}\n",
    "df['Modalidade'] = df['Modalidade'].replace(MODALIDADE_REPLACE_MAP).astype('category')"
   ]
  },
  {
   "cell_type": "code",
   "execution_count": 19,
   "metadata": {},
   "outputs": [
    {
     "data": {
      "text/plain": [
       "Modalidade\n",
       "Capital de giro com prazo até 365 dias            95837\n",
       "Crédito pessoal não-consignado                    92588\n",
       "Conta garantida                                   90078\n",
       "Capital de giro com prazo superior a 365 dias     89717\n",
       "Cheque especial                                   70121\n",
       "Crédito pessoal consignado privado                64493\n",
       "Desconto de duplicatas                            63336\n",
       "Aquisição de veículos                             58036\n",
       "Cartão de crédito - rotativo total                54518\n",
       "Crédito pessoal consignado público                52101\n",
       "Aquisição de outros bens                          51803\n",
       "Cartão de crédito - parcelado                     50023\n",
       "Crédito pessoal consignado INSS                   47844\n",
       "Adiantamento sobre contratos de câmbio (ACC)      44224\n",
       "Desconto de cheques                               39581\n",
       "Vendor                                            16868\n",
       "Antecipação de faturas de cartão de crédito       11796\n",
       "Arrendamento mercantil de veículos                 4925\n",
       "Financiamento imobiliário com taxas de mercado     1108\n",
       "Financiamento imobiliário com taxas reguladas      1003\n",
       "Name: count, dtype: int64"
      ]
     },
     "execution_count": 19,
     "metadata": {},
     "output_type": "execute_result"
    }
   ],
   "source": [
    "df['Modalidade'].value_counts()"
   ]
  },
  {
   "cell_type": "code",
   "execution_count": 20,
   "metadata": {},
   "outputs": [],
   "source": [
    "MODALIDADE_REPLACE_MAP = {\n",
    "\t'Pessoa Física': 'PF',\n",
    "\t'Pessoa Jurídica': 'PJ',\n",
    "}\n",
    "df['Segmento'] = df['Segmento'].replace(MODALIDADE_REPLACE_MAP).astype('category')"
   ]
  },
  {
   "cell_type": "code",
   "execution_count": 21,
   "metadata": {},
   "outputs": [
    {
     "data": {
      "text/plain": [
       "Segmento\n",
       "PF    530541\n",
       "PJ    469459\n",
       "Name: count, dtype: int64"
      ]
     },
     "execution_count": 21,
     "metadata": {},
     "output_type": "execute_result"
    }
   ],
   "source": [
    "df['Segmento'].value_counts()"
   ]
  },
  {
   "cell_type": "code",
   "execution_count": 22,
   "metadata": {},
   "outputs": [
    {
     "data": {
      "text/plain": [
       "InstituicaoFinanceira\n",
       "BCO DO BRASIL S.A.                28505\n",
       "BCO BRADESCO S.A.                 28495\n",
       "BCO SANTANDER (BRASIL) S.A.       27942\n",
       "BCO DO ESTADO DO RS S.A.          26173\n",
       "ITAÚ UNIBANCO S.A.                24529\n",
       "                                  ...  \n",
       "TRADIÇÃO                              4\n",
       "CCB BRASIL LEASING                    4\n",
       "GOLDMAN SACHS DO BRASIL BM S.A        2\n",
       "BANIF INVESTIMENTO                    2\n",
       "MERCANTIL BRASIL LEASING SA AM        1\n",
       "Name: count, Length: 269, dtype: int64"
      ]
     },
     "execution_count": 22,
     "metadata": {},
     "output_type": "execute_result"
    }
   ],
   "source": [
    "df['InstituicaoFinanceira'].value_counts()"
   ]
  },
  {
   "cell_type": "code",
   "execution_count": 23,
   "metadata": {},
   "outputs": [
    {
     "data": {
      "text/plain": [
       "Segmento                 category\n",
       "Modalidade               category\n",
       "InstituicaoFinanceira      object\n",
       "TaxaJurosAoAno            float64\n",
       "data                       object\n",
       "SubClassificacao         category\n",
       "TaxaJurosAoMes            float64\n",
       "dtype: object"
      ]
     },
     "execution_count": 23,
     "metadata": {},
     "output_type": "execute_result"
    }
   ],
   "source": [
    "df.dtypes"
   ]
  },
  {
   "cell_type": "code",
   "execution_count": 24,
   "metadata": {},
   "outputs": [],
   "source": [
    "df['data'] = pd.to_datetime(df['data'], format='%Y-%m-%d')"
   ]
  },
  {
   "cell_type": "code",
   "execution_count": 25,
   "metadata": {},
   "outputs": [],
   "source": [
    "df.rename(columns={\n",
    "    'Segmento': 'ct_classificacao',\n",
    "    'Modalidade': 'ct_modalidade',\n",
    "    'InstituicaoFinanceira': 'ct_instituicao_financeira',\n",
    "    'SubClassificacao': 'ct_indexador_modalidade',\n",
    "    'TaxaJurosAoAno': 'vl_taxa_juros_ano',\n",
    "    'TaxaJurosAoMes': 'vl_taxa_juros_mes',\n",
    "\t'data': 'dt_referencia',\n",
    "}, inplace=True)"
   ]
  },
  {
   "cell_type": "code",
   "execution_count": 26,
   "metadata": {},
   "outputs": [
    {
     "data": {
      "text/plain": [
       "ct_classificacao                   category\n",
       "ct_modalidade                      category\n",
       "ct_instituicao_financeira            object\n",
       "vl_taxa_juros_ano                   float64\n",
       "dt_referencia                datetime64[ns]\n",
       "ct_indexador_modalidade            category\n",
       "vl_taxa_juros_mes                   float64\n",
       "dtype: object"
      ]
     },
     "execution_count": 26,
     "metadata": {},
     "output_type": "execute_result"
    }
   ],
   "source": [
    "df.dtypes"
   ]
  },
  {
   "cell_type": "code",
   "execution_count": 27,
   "metadata": {},
   "outputs": [],
   "source": [
    "df.to_parquet('_data/trusted/juros-bancarios/df.parquet', index=False, engine='fastparquet')\n",
    "df.to_parquet('_data/refined/juros-bancarios/df.parquet', index=False, engine='fastparquet')"
   ]
  },
  {
   "cell_type": "code",
   "execution_count": 28,
   "metadata": {},
   "outputs": [],
   "source": [
    "df.to_csv('_data/trusted/juros-bancarios/df.csv', index=False)\n",
    "df.to_csv('_data/refined/juros-bancarios/df.csv', index=False)"
   ]
  }
 ],
 "metadata": {
  "kernelspec": {
   "display_name": "Python 3",
   "language": "python",
   "name": "python3"
  },
  "language_info": {
   "codemirror_mode": {
    "name": "ipython",
    "version": 3
   },
   "file_extension": ".py",
   "mimetype": "text/x-python",
   "name": "python",
   "nbconvert_exporter": "python",
   "pygments_lexer": "ipython3",
   "version": "3.10.12"
  }
 },
 "nbformat": 4,
 "nbformat_minor": 2
}
