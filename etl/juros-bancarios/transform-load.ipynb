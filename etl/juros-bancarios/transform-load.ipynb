{
 "cells": [
  {
   "cell_type": "code",
   "execution_count": 5,
   "metadata": {},
   "outputs": [],
   "source": [
    "import os\n",
    "while not os.path.exists('.gitignore'):\n",
    "\tos.chdir(os.path.abspath(os.path.join('../')))\n",
    "from common_imports import *"
   ]
  },
  {
   "cell_type": "code",
   "execution_count": 6,
   "metadata": {},
   "outputs": [],
   "source": [
    "df = pd.read_parquet('_data/raw/juros-bancarios/combined.parquet')"
   ]
  },
  {
   "cell_type": "code",
   "execution_count": 7,
   "metadata": {},
   "outputs": [
    {
     "data": {
      "text/html": [
       "<div>\n",
       "<style scoped>\n",
       "    .dataframe tbody tr th:only-of-type {\n",
       "        vertical-align: middle;\n",
       "    }\n",
       "\n",
       "    .dataframe tbody tr th {\n",
       "        vertical-align: top;\n",
       "    }\n",
       "\n",
       "    .dataframe thead th {\n",
       "        text-align: right;\n",
       "    }\n",
       "</style>\n",
       "<table border=\"1\" class=\"dataframe\">\n",
       "  <thead>\n",
       "    <tr style=\"text-align: right;\">\n",
       "      <th></th>\n",
       "      <th>Segmento</th>\n",
       "      <th>Modalidade</th>\n",
       "      <th>InstituicaoFinanceira</th>\n",
       "      <th>TaxaJurosAoAno</th>\n",
       "    </tr>\n",
       "  </thead>\n",
       "  <tbody>\n",
       "    <tr>\n",
       "      <th>0</th>\n",
       "      <td>Pessoa Física</td>\n",
       "      <td>FINANCIAMENTO IMOBILIÁRIO COM TAXAS DE MERCADO...</td>\n",
       "      <td>CPCI</td>\n",
       "      <td>10,54</td>\n",
       "    </tr>\n",
       "    <tr>\n",
       "      <th>1</th>\n",
       "      <td>Pessoa Física</td>\n",
       "      <td>FINANCIAMENTO IMOBILIÁRIO COM TAXAS DE MERCADO...</td>\n",
       "      <td>BCO CITIBANK S.A.</td>\n",
       "      <td>11,66</td>\n",
       "    </tr>\n",
       "    <tr>\n",
       "      <th>2</th>\n",
       "      <td>Pessoa Física</td>\n",
       "      <td>FINANCIAMENTO IMOBILIÁRIO COM TAXAS DE MERCADO...</td>\n",
       "      <td>BCO DO BRASIL S.A.</td>\n",
       "      <td>16,40</td>\n",
       "    </tr>\n",
       "    <tr>\n",
       "      <th>3</th>\n",
       "      <td>Pessoa Física</td>\n",
       "      <td>FINANCIAMENTO IMOBILIÁRIO COM TAXAS DE MERCADO...</td>\n",
       "      <td>BRAZILIAN MORTGAGES CH S.A.</td>\n",
       "      <td>18,50</td>\n",
       "    </tr>\n",
       "    <tr>\n",
       "      <th>4</th>\n",
       "      <td>Pessoa Física</td>\n",
       "      <td>FINANCIAMENTO IMOBILIÁRIO COM TAXAS DE MERCADO...</td>\n",
       "      <td>BANCO INTER</td>\n",
       "      <td>31,13</td>\n",
       "    </tr>\n",
       "    <tr>\n",
       "      <th>...</th>\n",
       "      <td>...</td>\n",
       "      <td>...</td>\n",
       "      <td>...</td>\n",
       "      <td>...</td>\n",
       "    </tr>\n",
       "    <tr>\n",
       "      <th>2411705</th>\n",
       "      <td>Pessoa Jurídica</td>\n",
       "      <td>Adiantamento sobre contratos de câmbio (ACC) -...</td>\n",
       "      <td>BANCO INTER</td>\n",
       "      <td>10,40</td>\n",
       "    </tr>\n",
       "    <tr>\n",
       "      <th>2411706</th>\n",
       "      <td>Pessoa Jurídica</td>\n",
       "      <td>Adiantamento sobre contratos de câmbio (ACC) -...</td>\n",
       "      <td>BCO CARGILL S.A.</td>\n",
       "      <td>10,50</td>\n",
       "    </tr>\n",
       "    <tr>\n",
       "      <th>2411707</th>\n",
       "      <td>Pessoa Jurídica</td>\n",
       "      <td>Adiantamento sobre contratos de câmbio (ACC) -...</td>\n",
       "      <td>BCO BS2 S.A.</td>\n",
       "      <td>10,61</td>\n",
       "    </tr>\n",
       "    <tr>\n",
       "      <th>2411708</th>\n",
       "      <td>Pessoa Jurídica</td>\n",
       "      <td>Adiantamento sobre contratos de câmbio (ACC) -...</td>\n",
       "      <td>TRAVELEX BANCO DE CÂMBIO S.A.</td>\n",
       "      <td>13,00</td>\n",
       "    </tr>\n",
       "    <tr>\n",
       "      <th>2411709</th>\n",
       "      <td>Pessoa Jurídica</td>\n",
       "      <td>Adiantamento sobre contratos de câmbio (ACC) -...</td>\n",
       "      <td>BCO LUSO BRASILEIRO S.A.</td>\n",
       "      <td>14,25</td>\n",
       "    </tr>\n",
       "  </tbody>\n",
       "</table>\n",
       "<p>2411710 rows × 4 columns</p>\n",
       "</div>"
      ],
      "text/plain": [
       "                Segmento                                         Modalidade  \\\n",
       "0          Pessoa Física  FINANCIAMENTO IMOBILIÁRIO COM TAXAS DE MERCADO...   \n",
       "1          Pessoa Física  FINANCIAMENTO IMOBILIÁRIO COM TAXAS DE MERCADO...   \n",
       "2          Pessoa Física  FINANCIAMENTO IMOBILIÁRIO COM TAXAS DE MERCADO...   \n",
       "3          Pessoa Física  FINANCIAMENTO IMOBILIÁRIO COM TAXAS DE MERCADO...   \n",
       "4          Pessoa Física  FINANCIAMENTO IMOBILIÁRIO COM TAXAS DE MERCADO...   \n",
       "...                  ...                                                ...   \n",
       "2411705  Pessoa Jurídica  Adiantamento sobre contratos de câmbio (ACC) -...   \n",
       "2411706  Pessoa Jurídica  Adiantamento sobre contratos de câmbio (ACC) -...   \n",
       "2411707  Pessoa Jurídica  Adiantamento sobre contratos de câmbio (ACC) -...   \n",
       "2411708  Pessoa Jurídica  Adiantamento sobre contratos de câmbio (ACC) -...   \n",
       "2411709  Pessoa Jurídica  Adiantamento sobre contratos de câmbio (ACC) -...   \n",
       "\n",
       "                 InstituicaoFinanceira TaxaJurosAoAno  \n",
       "0                                 CPCI          10,54  \n",
       "1                    BCO CITIBANK S.A.          11,66  \n",
       "2                   BCO DO BRASIL S.A.          16,40  \n",
       "3          BRAZILIAN MORTGAGES CH S.A.          18,50  \n",
       "4                          BANCO INTER          31,13  \n",
       "...                                ...            ...  \n",
       "2411705                    BANCO INTER          10,40  \n",
       "2411706               BCO CARGILL S.A.          10,50  \n",
       "2411707                   BCO BS2 S.A.          10,61  \n",
       "2411708  TRAVELEX BANCO DE CÂMBIO S.A.          13,00  \n",
       "2411709       BCO LUSO BRASILEIRO S.A.          14,25  \n",
       "\n",
       "[2411710 rows x 4 columns]"
      ]
     },
     "execution_count": 7,
     "metadata": {},
     "output_type": "execute_result"
    }
   ],
   "source": [
    "df"
   ]
  },
  {
   "cell_type": "code",
   "execution_count": 8,
   "metadata": {},
   "outputs": [],
   "source": [
    "df['TaxaJurosAoAno'] = df['TaxaJurosAoAno'].str.replace(',', '.').astype(float)"
   ]
  },
  {
   "cell_type": "code",
   "execution_count": 9,
   "metadata": {},
   "outputs": [
    {
     "data": {
      "text/plain": [
       "InstituicaoFinanceira\n",
       "BCO BRADESCO S.A.                 68906\n",
       "BCO DO BRASIL S.A.                68781\n",
       "BCO SANTANDER (BRASIL) S.A.       66787\n",
       "BCO DO ESTADO DO RS S.A.          63263\n",
       "ITAÚ UNIBANCO S.A.                59306\n",
       "                                  ...  \n",
       "MERCANTIL BRASIL LEASING SA AM        8\n",
       "TRADIÇÃO                              5\n",
       "BMG LEASING S/A-AM                    5\n",
       "BANIF INVESTIMENTO                    5\n",
       "GOLDMAN SACHS DO BRASIL BM S.A        5\n",
       "Name: count, Length: 270, dtype: int64"
      ]
     },
     "execution_count": 9,
     "metadata": {},
     "output_type": "execute_result"
    }
   ],
   "source": [
    "df['InstituicaoFinanceira'].value_counts()"
   ]
  },
  {
   "cell_type": "code",
   "execution_count": 10,
   "metadata": {},
   "outputs": [
    {
     "data": {
      "text/html": [
       "<div>\n",
       "<style scoped>\n",
       "    .dataframe tbody tr th:only-of-type {\n",
       "        vertical-align: middle;\n",
       "    }\n",
       "\n",
       "    .dataframe tbody tr th {\n",
       "        vertical-align: top;\n",
       "    }\n",
       "\n",
       "    .dataframe thead th {\n",
       "        text-align: right;\n",
       "    }\n",
       "</style>\n",
       "<table border=\"1\" class=\"dataframe\">\n",
       "  <thead>\n",
       "    <tr style=\"text-align: right;\">\n",
       "      <th></th>\n",
       "      <th>Segmento</th>\n",
       "      <th>Modalidade</th>\n",
       "      <th>InstituicaoFinanceira</th>\n",
       "      <th>TaxaJurosAoAno</th>\n",
       "    </tr>\n",
       "  </thead>\n",
       "  <tbody>\n",
       "    <tr>\n",
       "      <th>0</th>\n",
       "      <td>Pessoa Física</td>\n",
       "      <td>FINANCIAMENTO IMOBILIÁRIO COM TAXAS DE MERCADO...</td>\n",
       "      <td>CPCI</td>\n",
       "      <td>10.54</td>\n",
       "    </tr>\n",
       "    <tr>\n",
       "      <th>1</th>\n",
       "      <td>Pessoa Física</td>\n",
       "      <td>FINANCIAMENTO IMOBILIÁRIO COM TAXAS DE MERCADO...</td>\n",
       "      <td>BCO CITIBANK S.A.</td>\n",
       "      <td>11.66</td>\n",
       "    </tr>\n",
       "    <tr>\n",
       "      <th>2</th>\n",
       "      <td>Pessoa Física</td>\n",
       "      <td>FINANCIAMENTO IMOBILIÁRIO COM TAXAS DE MERCADO...</td>\n",
       "      <td>BCO DO BRASIL S.A.</td>\n",
       "      <td>16.40</td>\n",
       "    </tr>\n",
       "    <tr>\n",
       "      <th>3</th>\n",
       "      <td>Pessoa Física</td>\n",
       "      <td>FINANCIAMENTO IMOBILIÁRIO COM TAXAS DE MERCADO...</td>\n",
       "      <td>BRAZILIAN MORTGAGES CH S.A.</td>\n",
       "      <td>18.50</td>\n",
       "    </tr>\n",
       "    <tr>\n",
       "      <th>4</th>\n",
       "      <td>Pessoa Física</td>\n",
       "      <td>FINANCIAMENTO IMOBILIÁRIO COM TAXAS DE MERCADO...</td>\n",
       "      <td>BANCO INTER</td>\n",
       "      <td>31.13</td>\n",
       "    </tr>\n",
       "  </tbody>\n",
       "</table>\n",
       "</div>"
      ],
      "text/plain": [
       "        Segmento                                         Modalidade  \\\n",
       "0  Pessoa Física  FINANCIAMENTO IMOBILIÁRIO COM TAXAS DE MERCADO...   \n",
       "1  Pessoa Física  FINANCIAMENTO IMOBILIÁRIO COM TAXAS DE MERCADO...   \n",
       "2  Pessoa Física  FINANCIAMENTO IMOBILIÁRIO COM TAXAS DE MERCADO...   \n",
       "3  Pessoa Física  FINANCIAMENTO IMOBILIÁRIO COM TAXAS DE MERCADO...   \n",
       "4  Pessoa Física  FINANCIAMENTO IMOBILIÁRIO COM TAXAS DE MERCADO...   \n",
       "\n",
       "         InstituicaoFinanceira  TaxaJurosAoAno  \n",
       "0                         CPCI           10.54  \n",
       "1            BCO CITIBANK S.A.           11.66  \n",
       "2           BCO DO BRASIL S.A.           16.40  \n",
       "3  BRAZILIAN MORTGAGES CH S.A.           18.50  \n",
       "4                  BANCO INTER           31.13  "
      ]
     },
     "execution_count": 10,
     "metadata": {},
     "output_type": "execute_result"
    }
   ],
   "source": [
    "df.head()"
   ]
  },
  {
   "cell_type": "code",
   "execution_count": 11,
   "metadata": {},
   "outputs": [
    {
     "data": {
      "text/plain": [
       "Modalidade\n",
       "Crédito pessoal não-consignado - Pré-fixado                                                    223087\n",
       "Cheque especial - Pré-fixado                                                                   168685\n",
       "Crédito pessoal consignado privado - Pré-fixado                                                155191\n",
       "Desconto de duplicatas - Pré-fixado                                                            152863\n",
       "Capital de giro com prazo até 365 dias - Pré-fixado                                            143349\n",
       "Aquisição de veículos - Pré-fixado                                                             141057\n",
       "Cartão de crédito - rotativo total - Pré-fixado                                                132411\n",
       "Capital de giro com prazo superior a 365 dias - Pré-fixado                                     127021\n",
       "Crédito pessoal consignado público - Pré-fixado                                                125878\n",
       "Aquisição de outros bens - Pré-fixado                                                          124869\n",
       "Cartão de crédito - parcelado - Pré-fixado                                                     120252\n",
       "Crédito pessoal consignado INSS - Pré-fixado                                                   115134\n",
       "Conta garantida - Pré-fixado                                                                   109988\n",
       "Conta garantida - Pós-fixado referenciado em juros flutuantes                                  107108\n",
       "Adiantamento sobre contratos de câmbio (ACC) - Pós-fixado referenciado em moeda estrangeira    106677\n",
       "Desconto de cheques - Pré-fixado                                                                95385\n",
       "Capital de giro com prazo superior a 365 dias - Pós-fixado referenciado em juros flutuantes     90116\n",
       "Capital de giro com prazo até 365 dias - Pós-fixado referenciado em juros flutuantes            87241\n",
       "Vendor - Pré-fixado                                                                             40298\n",
       "Antecipação de faturas de cartão de crédito - Pré-fixado                                        28354\n",
       "Arrendamento mercantil de veículos - Pré-fixado                                                 11738\n",
       "FINANCIAMENTO IMOBILIÁRIO COM TAXAS REGULADAS - PÓS-FIXADO REFERENCIADO EM TR                    1896\n",
       "FINANCIAMENTO IMOBILIÁRIO COM TAXAS DE MERCADO - PÓS-FIXADO REFERENCIADO EM TR                   1648\n",
       "FINANCIAMENTO IMOBILIÁRIO COM TAXAS DE MERCADO - PRÉ-FIXADO                                       591\n",
       "FINANCIAMENTO IMOBILIÁRIO COM TAXAS REGULADAS - PRÉ-FIXADO                                        345\n",
       "FINANCIAMENTO IMOBILIÁRIO COM TAXAS DE MERCADO - PÓS-FIXADO REFERENCIADO EM IPCA                  315\n",
       "FINANCIAMENTO IMOBILIÁRIO COM TAXAS REGULADAS - PÓS-FIXADO REFERENCIADO EM IPCA                   213\n",
       "Name: count, dtype: int64"
      ]
     },
     "execution_count": 11,
     "metadata": {},
     "output_type": "execute_result"
    }
   ],
   "source": [
    "df['Modalidade'].value_counts()"
   ]
  },
  {
   "cell_type": "code",
   "execution_count": 12,
   "metadata": {},
   "outputs": [],
   "source": [
    "df['SubClassificacao'] = df['Modalidade'].apply(lambda x: x.split(' - ')[-1])\n",
    "df['Modalidade'] = df['Modalidade'].apply(lambda x: x.rsplit(' - ', 1)[0])"
   ]
  },
  {
   "cell_type": "code",
   "execution_count": 13,
   "metadata": {},
   "outputs": [
    {
     "data": {
      "text/plain": [
       "Modalidade\n",
       "Capital de giro com prazo até 365 dias            230590\n",
       "Crédito pessoal não-consignado                    223087\n",
       "Capital de giro com prazo superior a 365 dias     217137\n",
       "Conta garantida                                   217096\n",
       "Cheque especial                                   168685\n",
       "Crédito pessoal consignado privado                155191\n",
       "Desconto de duplicatas                            152863\n",
       "Aquisição de veículos                             141057\n",
       "Cartão de crédito - rotativo total                132411\n",
       "Crédito pessoal consignado público                125878\n",
       "Aquisição de outros bens                          124869\n",
       "Cartão de crédito - parcelado                     120252\n",
       "Crédito pessoal consignado INSS                   115134\n",
       "Adiantamento sobre contratos de câmbio (ACC)      106677\n",
       "Desconto de cheques                                95385\n",
       "Vendor                                             40298\n",
       "Antecipação de faturas de cartão de crédito        28354\n",
       "Arrendamento mercantil de veículos                 11738\n",
       "FINANCIAMENTO IMOBILIÁRIO COM TAXAS DE MERCADO      2554\n",
       "FINANCIAMENTO IMOBILIÁRIO COM TAXAS REGULADAS       2454\n",
       "Name: count, dtype: int64"
      ]
     },
     "execution_count": 13,
     "metadata": {},
     "output_type": "execute_result"
    }
   ],
   "source": [
    "df['Modalidade'].value_counts()"
   ]
  },
  {
   "cell_type": "code",
   "execution_count": 14,
   "metadata": {},
   "outputs": [
    {
     "data": {
      "text/plain": [
       "SubClassificacao\n",
       "Pré-fixado                                      2015560\n",
       "Pós-fixado referenciado em juros flutuantes      284465\n",
       "Pós-fixado referenciado em moeda estrangeira     106677\n",
       "PÓS-FIXADO REFERENCIADO EM TR                      3544\n",
       "PRÉ-FIXADO                                          936\n",
       "PÓS-FIXADO REFERENCIADO EM IPCA                     528\n",
       "Name: count, dtype: int64"
      ]
     },
     "execution_count": 14,
     "metadata": {},
     "output_type": "execute_result"
    }
   ],
   "source": [
    "df['SubClassificacao'].value_counts()"
   ]
  },
  {
   "cell_type": "code",
   "execution_count": 15,
   "metadata": {},
   "outputs": [],
   "source": [
    "def transform_taxa(valor_taxa, periodo_desejado, periodo_atual):\n",
    "\tvt = Decimal(valor_taxa)\n",
    "\tpd = Decimal(periodo_desejado)\n",
    "\tpa = Decimal(periodo_atual)\n",
    " \n",
    "\ta = 1 + (vt / 100)\n",
    "\tb = pd / pa\n",
    "\tc = a ** b\n",
    "\td = (c - 1) * 100\n",
    "\n",
    "\treturn d"
   ]
  },
  {
   "cell_type": "code",
   "execution_count": 16,
   "metadata": {},
   "outputs": [],
   "source": [
    "def trim_decimal(n):\n",
    "\tvalor = Decimal(str(n).rstrip('0').rstrip('.'))\n",
    "\treturn valor.quantize(Decimal('1.0000'), rounding=ROUND_HALF_UP)"
   ]
  },
  {
   "cell_type": "code",
   "execution_count": 17,
   "metadata": {},
   "outputs": [
    {
     "data": {
      "text/html": [
       "<div>\n",
       "<style scoped>\n",
       "    .dataframe tbody tr th:only-of-type {\n",
       "        vertical-align: middle;\n",
       "    }\n",
       "\n",
       "    .dataframe tbody tr th {\n",
       "        vertical-align: top;\n",
       "    }\n",
       "\n",
       "    .dataframe thead th {\n",
       "        text-align: right;\n",
       "    }\n",
       "</style>\n",
       "<table border=\"1\" class=\"dataframe\">\n",
       "  <thead>\n",
       "    <tr style=\"text-align: right;\">\n",
       "      <th></th>\n",
       "      <th>Segmento</th>\n",
       "      <th>Modalidade</th>\n",
       "      <th>InstituicaoFinanceira</th>\n",
       "      <th>TaxaJurosAoAno</th>\n",
       "      <th>SubClassificacao</th>\n",
       "    </tr>\n",
       "  </thead>\n",
       "  <tbody>\n",
       "    <tr>\n",
       "      <th>0</th>\n",
       "      <td>Pessoa Física</td>\n",
       "      <td>FINANCIAMENTO IMOBILIÁRIO COM TAXAS DE MERCADO</td>\n",
       "      <td>CPCI</td>\n",
       "      <td>10.54</td>\n",
       "      <td>PRÉ-FIXADO</td>\n",
       "    </tr>\n",
       "    <tr>\n",
       "      <th>1</th>\n",
       "      <td>Pessoa Física</td>\n",
       "      <td>FINANCIAMENTO IMOBILIÁRIO COM TAXAS DE MERCADO</td>\n",
       "      <td>BCO CITIBANK S.A.</td>\n",
       "      <td>11.66</td>\n",
       "      <td>PRÉ-FIXADO</td>\n",
       "    </tr>\n",
       "    <tr>\n",
       "      <th>2</th>\n",
       "      <td>Pessoa Física</td>\n",
       "      <td>FINANCIAMENTO IMOBILIÁRIO COM TAXAS DE MERCADO</td>\n",
       "      <td>BCO DO BRASIL S.A.</td>\n",
       "      <td>16.40</td>\n",
       "      <td>PRÉ-FIXADO</td>\n",
       "    </tr>\n",
       "    <tr>\n",
       "      <th>3</th>\n",
       "      <td>Pessoa Física</td>\n",
       "      <td>FINANCIAMENTO IMOBILIÁRIO COM TAXAS DE MERCADO</td>\n",
       "      <td>BRAZILIAN MORTGAGES CH S.A.</td>\n",
       "      <td>18.50</td>\n",
       "      <td>PRÉ-FIXADO</td>\n",
       "    </tr>\n",
       "    <tr>\n",
       "      <th>4</th>\n",
       "      <td>Pessoa Física</td>\n",
       "      <td>FINANCIAMENTO IMOBILIÁRIO COM TAXAS DE MERCADO</td>\n",
       "      <td>BANCO INTER</td>\n",
       "      <td>31.13</td>\n",
       "      <td>PRÉ-FIXADO</td>\n",
       "    </tr>\n",
       "    <tr>\n",
       "      <th>...</th>\n",
       "      <td>...</td>\n",
       "      <td>...</td>\n",
       "      <td>...</td>\n",
       "      <td>...</td>\n",
       "      <td>...</td>\n",
       "    </tr>\n",
       "    <tr>\n",
       "      <th>2411705</th>\n",
       "      <td>Pessoa Jurídica</td>\n",
       "      <td>Adiantamento sobre contratos de câmbio (ACC)</td>\n",
       "      <td>BANCO INTER</td>\n",
       "      <td>10.40</td>\n",
       "      <td>Pós-fixado referenciado em moeda estrangeira</td>\n",
       "    </tr>\n",
       "    <tr>\n",
       "      <th>2411706</th>\n",
       "      <td>Pessoa Jurídica</td>\n",
       "      <td>Adiantamento sobre contratos de câmbio (ACC)</td>\n",
       "      <td>BCO CARGILL S.A.</td>\n",
       "      <td>10.50</td>\n",
       "      <td>Pós-fixado referenciado em moeda estrangeira</td>\n",
       "    </tr>\n",
       "    <tr>\n",
       "      <th>2411707</th>\n",
       "      <td>Pessoa Jurídica</td>\n",
       "      <td>Adiantamento sobre contratos de câmbio (ACC)</td>\n",
       "      <td>BCO BS2 S.A.</td>\n",
       "      <td>10.61</td>\n",
       "      <td>Pós-fixado referenciado em moeda estrangeira</td>\n",
       "    </tr>\n",
       "    <tr>\n",
       "      <th>2411708</th>\n",
       "      <td>Pessoa Jurídica</td>\n",
       "      <td>Adiantamento sobre contratos de câmbio (ACC)</td>\n",
       "      <td>TRAVELEX BANCO DE CÂMBIO S.A.</td>\n",
       "      <td>13.00</td>\n",
       "      <td>Pós-fixado referenciado em moeda estrangeira</td>\n",
       "    </tr>\n",
       "    <tr>\n",
       "      <th>2411709</th>\n",
       "      <td>Pessoa Jurídica</td>\n",
       "      <td>Adiantamento sobre contratos de câmbio (ACC)</td>\n",
       "      <td>BCO LUSO BRASILEIRO S.A.</td>\n",
       "      <td>14.25</td>\n",
       "      <td>Pós-fixado referenciado em moeda estrangeira</td>\n",
       "    </tr>\n",
       "  </tbody>\n",
       "</table>\n",
       "<p>2411710 rows × 5 columns</p>\n",
       "</div>"
      ],
      "text/plain": [
       "                Segmento                                      Modalidade  \\\n",
       "0          Pessoa Física  FINANCIAMENTO IMOBILIÁRIO COM TAXAS DE MERCADO   \n",
       "1          Pessoa Física  FINANCIAMENTO IMOBILIÁRIO COM TAXAS DE MERCADO   \n",
       "2          Pessoa Física  FINANCIAMENTO IMOBILIÁRIO COM TAXAS DE MERCADO   \n",
       "3          Pessoa Física  FINANCIAMENTO IMOBILIÁRIO COM TAXAS DE MERCADO   \n",
       "4          Pessoa Física  FINANCIAMENTO IMOBILIÁRIO COM TAXAS DE MERCADO   \n",
       "...                  ...                                             ...   \n",
       "2411705  Pessoa Jurídica    Adiantamento sobre contratos de câmbio (ACC)   \n",
       "2411706  Pessoa Jurídica    Adiantamento sobre contratos de câmbio (ACC)   \n",
       "2411707  Pessoa Jurídica    Adiantamento sobre contratos de câmbio (ACC)   \n",
       "2411708  Pessoa Jurídica    Adiantamento sobre contratos de câmbio (ACC)   \n",
       "2411709  Pessoa Jurídica    Adiantamento sobre contratos de câmbio (ACC)   \n",
       "\n",
       "                 InstituicaoFinanceira  TaxaJurosAoAno  \\\n",
       "0                                 CPCI           10.54   \n",
       "1                    BCO CITIBANK S.A.           11.66   \n",
       "2                   BCO DO BRASIL S.A.           16.40   \n",
       "3          BRAZILIAN MORTGAGES CH S.A.           18.50   \n",
       "4                          BANCO INTER           31.13   \n",
       "...                                ...             ...   \n",
       "2411705                    BANCO INTER           10.40   \n",
       "2411706               BCO CARGILL S.A.           10.50   \n",
       "2411707                   BCO BS2 S.A.           10.61   \n",
       "2411708  TRAVELEX BANCO DE CÂMBIO S.A.           13.00   \n",
       "2411709       BCO LUSO BRASILEIRO S.A.           14.25   \n",
       "\n",
       "                                     SubClassificacao  \n",
       "0                                          PRÉ-FIXADO  \n",
       "1                                          PRÉ-FIXADO  \n",
       "2                                          PRÉ-FIXADO  \n",
       "3                                          PRÉ-FIXADO  \n",
       "4                                          PRÉ-FIXADO  \n",
       "...                                               ...  \n",
       "2411705  Pós-fixado referenciado em moeda estrangeira  \n",
       "2411706  Pós-fixado referenciado em moeda estrangeira  \n",
       "2411707  Pós-fixado referenciado em moeda estrangeira  \n",
       "2411708  Pós-fixado referenciado em moeda estrangeira  \n",
       "2411709  Pós-fixado referenciado em moeda estrangeira  \n",
       "\n",
       "[2411710 rows x 5 columns]"
      ]
     },
     "execution_count": 17,
     "metadata": {},
     "output_type": "execute_result"
    }
   ],
   "source": [
    "df"
   ]
  },
  {
   "cell_type": "code",
   "execution_count": 18,
   "metadata": {},
   "outputs": [],
   "source": [
    "df['TaxaJurosAoMes'] = df.apply(lambda x: trim_decimal(transform_taxa(x['TaxaJurosAoAno'], 1, 12)), axis=1)"
   ]
  },
  {
   "cell_type": "code",
   "execution_count": 21,
   "metadata": {},
   "outputs": [],
   "source": [
    "SUBCLASSIFICACAO_REPLACE_MAP = {\n",
    "\t'PÓS-FIXADO': 'Pós-fixado',\n",
    "\t'PRÉ-FIXADO': 'Pré-fixado',\n",
    "\t'PÓS-FIXADO REFERENCIADO EM IPCA': 'Pós-fixado referenciado em IPCA',\n",
    "\t'PÓS-FIXADO REFERENCIADO EM TR': 'Pós-fixado referenciado em TR',\n",
    "}\n",
    "df['SubClassificacao'] = df['SubClassificacao'].replace(SUBCLASSIFICACAO_REPLACE_MAP)"
   ]
  },
  {
   "cell_type": "code",
   "execution_count": 22,
   "metadata": {},
   "outputs": [
    {
     "data": {
      "text/plain": [
       "SubClassificacao\n",
       "Pré-fixado                                      2016496\n",
       "Pós-fixado referenciado em juros flutuantes      284465\n",
       "Pós-fixado referenciado em moeda estrangeira     106677\n",
       "Pós-fixado referenciado em TR                      3544\n",
       "Pós-fixado referenciado em IPCA                     528\n",
       "Name: count, dtype: int64"
      ]
     },
     "execution_count": 22,
     "metadata": {},
     "output_type": "execute_result"
    }
   ],
   "source": [
    "df['SubClassificacao'].value_counts()"
   ]
  },
  {
   "cell_type": "code",
   "execution_count": 25,
   "metadata": {},
   "outputs": [
    {
     "data": {
      "text/plain": [
       "Modalidade\n",
       "Capital de giro com prazo até 365 dias            230590\n",
       "Crédito pessoal não-consignado                    223087\n",
       "Capital de giro com prazo superior a 365 dias     217137\n",
       "Conta garantida                                   217096\n",
       "Cheque especial                                   168685\n",
       "Crédito pessoal consignado privado                155191\n",
       "Desconto de duplicatas                            152863\n",
       "Aquisição de veículos                             141057\n",
       "Cartão de crédito - rotativo total                132411\n",
       "Crédito pessoal consignado público                125878\n",
       "Aquisição de outros bens                          124869\n",
       "Cartão de crédito - parcelado                     120252\n",
       "Crédito pessoal consignado INSS                   115134\n",
       "Adiantamento sobre contratos de câmbio (ACC)      106677\n",
       "Desconto de cheques                                95385\n",
       "Vendor                                             40298\n",
       "Antecipação de faturas de cartão de crédito        28354\n",
       "Arrendamento mercantil de veículos                 11738\n",
       "FINANCIAMENTO IMOBILIÁRIO COM TAXAS DE MERCADO      2554\n",
       "FINANCIAMENTO IMOBILIÁRIO COM TAXAS REGULADAS       2454\n",
       "Name: count, dtype: int64"
      ]
     },
     "execution_count": 25,
     "metadata": {},
     "output_type": "execute_result"
    }
   ],
   "source": [
    "df['Modalidade'].value_counts()"
   ]
  }
 ],
 "metadata": {
  "kernelspec": {
   "display_name": "Python 3",
   "language": "python",
   "name": "python3"
  },
  "language_info": {
   "codemirror_mode": {
    "name": "ipython",
    "version": 3
   },
   "file_extension": ".py",
   "mimetype": "text/x-python",
   "name": "python",
   "nbconvert_exporter": "python",
   "pygments_lexer": "ipython3",
   "version": "3.12.7"
  }
 },
 "nbformat": 4,
 "nbformat_minor": 2
}
