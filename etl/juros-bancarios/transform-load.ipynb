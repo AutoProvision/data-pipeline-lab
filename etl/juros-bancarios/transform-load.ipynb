{
 "cells": [
  {
   "cell_type": "code",
   "execution_count": 1,
   "metadata": {},
   "outputs": [
    {
     "name": "stdout",
     "output_type": "stream",
     "text": [
      "Defaulting to user installation because normal site-packages is not writeable\n",
      "Requirement already satisfied: requests in /usr/lib/python3/dist-packages (2.25.1)\n",
      "Requirement already satisfied: pyspark in /home/consultor/.local/lib/python3.10/site-packages (3.5.3)\n",
      "Requirement already satisfied: pandas in /home/consultor/.local/lib/python3.10/site-packages (2.2.2)\n",
      "Requirement already satisfied: pyarrow in /home/consultor/.local/lib/python3.10/site-packages (6.0.0)\n",
      "Requirement already satisfied: matplotlib in /home/consultor/.local/lib/python3.10/site-packages (3.9.2)\n",
      "Requirement already satisfied: numpy in /home/consultor/.local/lib/python3.10/site-packages (1.26.4)\n",
      "Requirement already satisfied: asyncio in /home/consultor/.local/lib/python3.10/site-packages (3.4.3)\n",
      "Requirement already satisfied: aiohttp in /home/consultor/.local/lib/python3.10/site-packages (3.10.8)\n",
      "Requirement already satisfied: httpx in /home/consultor/.local/lib/python3.10/site-packages (0.27.2)\n",
      "Requirement already satisfied: bs4 in /home/consultor/.local/lib/python3.10/site-packages (0.0.2)\n",
      "Requirement already satisfied: fastparquet in /home/consultor/.local/lib/python3.10/site-packages (2024.5.0)\n",
      "Requirement already satisfied: py4j==0.10.9.7 in /home/consultor/.local/lib/python3.10/site-packages (from pyspark) (0.10.9.7)\n",
      "Requirement already satisfied: python-dateutil>=2.8.2 in /home/consultor/.local/lib/python3.10/site-packages (from pandas) (2.9.0.post0)\n",
      "Requirement already satisfied: pytz>=2020.1 in /usr/lib/python3/dist-packages (from pandas) (2022.1)\n",
      "Requirement already satisfied: tzdata>=2022.7 in /home/consultor/.local/lib/python3.10/site-packages (from pandas) (2024.1)\n",
      "Requirement already satisfied: packaging>=20.0 in /home/consultor/.local/lib/python3.10/site-packages (from matplotlib) (24.1)\n",
      "Requirement already satisfied: fonttools>=4.22.0 in /home/consultor/.local/lib/python3.10/site-packages (from matplotlib) (4.53.1)\n",
      "Requirement already satisfied: pyparsing>=2.3.1 in /usr/lib/python3/dist-packages (from matplotlib) (2.4.7)\n",
      "Requirement already satisfied: pillow>=8 in /usr/lib/python3/dist-packages (from matplotlib) (9.0.1)\n",
      "Requirement already satisfied: cycler>=0.10 in /home/consultor/.local/lib/python3.10/site-packages (from matplotlib) (0.12.1)\n",
      "Requirement already satisfied: kiwisolver>=1.3.1 in /home/consultor/.local/lib/python3.10/site-packages (from matplotlib) (1.4.5)\n",
      "Requirement already satisfied: contourpy>=1.0.1 in /home/consultor/.local/lib/python3.10/site-packages (from matplotlib) (1.2.1)\n",
      "Requirement already satisfied: frozenlist>=1.1.1 in /home/consultor/.local/lib/python3.10/site-packages (from aiohttp) (1.4.1)\n",
      "Requirement already satisfied: yarl<2.0,>=1.12.0 in /home/consultor/.local/lib/python3.10/site-packages (from aiohttp) (1.13.1)\n",
      "Requirement already satisfied: multidict<7.0,>=4.5 in /home/consultor/.local/lib/python3.10/site-packages (from aiohttp) (6.1.0)\n",
      "Requirement already satisfied: attrs>=17.3.0 in /home/consultor/.local/lib/python3.10/site-packages (from aiohttp) (24.2.0)\n",
      "Requirement already satisfied: aiosignal>=1.1.2 in /home/consultor/.local/lib/python3.10/site-packages (from aiohttp) (1.3.1)\n",
      "Requirement already satisfied: aiohappyeyeballs>=2.3.0 in /home/consultor/.local/lib/python3.10/site-packages (from aiohttp) (2.4.3)\n",
      "Requirement already satisfied: async-timeout<5.0,>=4.0 in /home/consultor/.local/lib/python3.10/site-packages (from aiohttp) (4.0.3)\n",
      "Requirement already satisfied: anyio in /home/consultor/.local/lib/python3.10/site-packages (from httpx) (4.6.0)\n",
      "Requirement already satisfied: httpcore==1.* in /home/consultor/.local/lib/python3.10/site-packages (from httpx) (1.0.6)\n",
      "Requirement already satisfied: sniffio in /home/consultor/.local/lib/python3.10/site-packages (from httpx) (1.3.1)\n",
      "Requirement already satisfied: certifi in /usr/lib/python3/dist-packages (from httpx) (2020.6.20)\n",
      "Requirement already satisfied: idna in /usr/lib/python3/dist-packages (from httpx) (3.3)\n",
      "Requirement already satisfied: h11<0.15,>=0.13 in /home/consultor/.local/lib/python3.10/site-packages (from httpcore==1.*->httpx) (0.14.0)\n",
      "Requirement already satisfied: beautifulsoup4 in /home/consultor/.local/lib/python3.10/site-packages (from bs4) (4.12.3)\n",
      "Requirement already satisfied: cramjam>=2.3 in /home/consultor/.local/lib/python3.10/site-packages (from fastparquet) (2.8.3)\n",
      "Requirement already satisfied: fsspec in /home/consultor/.local/lib/python3.10/site-packages (from fastparquet) (2024.9.0)\n",
      "Requirement already satisfied: typing-extensions>=4.1.0 in /home/consultor/.local/lib/python3.10/site-packages (from multidict<7.0,>=4.5->aiohttp) (4.11.0)\n",
      "Requirement already satisfied: six>=1.5 in /usr/lib/python3/dist-packages (from python-dateutil>=2.8.2->pandas) (1.16.0)\n",
      "Requirement already satisfied: exceptiongroup>=1.0.2 in /home/consultor/.local/lib/python3.10/site-packages (from anyio->httpx) (1.2.2)\n",
      "Requirement already satisfied: soupsieve>1.2 in /home/consultor/.local/lib/python3.10/site-packages (from beautifulsoup4->bs4) (2.6)\n"
     ]
    }
   ],
   "source": [
    "import os\n",
    "while not os.path.exists('.gitignore'):\n",
    "\tos.chdir(os.path.abspath(os.path.join('../')))\n",
    "from common_imports import *"
   ]
  },
  {
   "cell_type": "code",
   "execution_count": 2,
   "metadata": {},
   "outputs": [],
   "source": [
    "df = pd.read_parquet('_data/raw/juros-bancarios/combined.parquet')"
   ]
  },
  {
   "cell_type": "code",
   "execution_count": 3,
   "metadata": {},
   "outputs": [
    {
     "data": {
      "text/html": [
       "<div>\n",
       "<style scoped>\n",
       "    .dataframe tbody tr th:only-of-type {\n",
       "        vertical-align: middle;\n",
       "    }\n",
       "\n",
       "    .dataframe tbody tr th {\n",
       "        vertical-align: top;\n",
       "    }\n",
       "\n",
       "    .dataframe thead th {\n",
       "        text-align: right;\n",
       "    }\n",
       "</style>\n",
       "<table border=\"1\" class=\"dataframe\">\n",
       "  <thead>\n",
       "    <tr style=\"text-align: right;\">\n",
       "      <th></th>\n",
       "      <th>Segmento</th>\n",
       "      <th>Modalidade</th>\n",
       "      <th>InstituicaoFinanceira</th>\n",
       "      <th>TaxaJurosAoAno</th>\n",
       "      <th>data</th>\n",
       "    </tr>\n",
       "  </thead>\n",
       "  <tbody>\n",
       "    <tr>\n",
       "      <th>0</th>\n",
       "      <td>Pessoa Física</td>\n",
       "      <td>FINANCIAMENTO IMOBILIÁRIO COM TAXAS DE MERCADO...</td>\n",
       "      <td>CPCI</td>\n",
       "      <td>10,54</td>\n",
       "      <td>2012-01-01</td>\n",
       "    </tr>\n",
       "    <tr>\n",
       "      <th>1</th>\n",
       "      <td>Pessoa Física</td>\n",
       "      <td>FINANCIAMENTO IMOBILIÁRIO COM TAXAS DE MERCADO...</td>\n",
       "      <td>BCO CITIBANK S.A.</td>\n",
       "      <td>11,66</td>\n",
       "      <td>2012-01-01</td>\n",
       "    </tr>\n",
       "    <tr>\n",
       "      <th>2</th>\n",
       "      <td>Pessoa Física</td>\n",
       "      <td>FINANCIAMENTO IMOBILIÁRIO COM TAXAS DE MERCADO...</td>\n",
       "      <td>BCO DO BRASIL S.A.</td>\n",
       "      <td>16,40</td>\n",
       "      <td>2012-01-01</td>\n",
       "    </tr>\n",
       "    <tr>\n",
       "      <th>3</th>\n",
       "      <td>Pessoa Física</td>\n",
       "      <td>FINANCIAMENTO IMOBILIÁRIO COM TAXAS DE MERCADO...</td>\n",
       "      <td>BRAZILIAN MORTGAGES CH S.A.</td>\n",
       "      <td>18,50</td>\n",
       "      <td>2012-01-01</td>\n",
       "    </tr>\n",
       "    <tr>\n",
       "      <th>4</th>\n",
       "      <td>Pessoa Física</td>\n",
       "      <td>FINANCIAMENTO IMOBILIÁRIO COM TAXAS DE MERCADO...</td>\n",
       "      <td>BANCO INTER</td>\n",
       "      <td>31,13</td>\n",
       "      <td>2012-01-01</td>\n",
       "    </tr>\n",
       "    <tr>\n",
       "      <th>...</th>\n",
       "      <td>...</td>\n",
       "      <td>...</td>\n",
       "      <td>...</td>\n",
       "      <td>...</td>\n",
       "      <td>...</td>\n",
       "    </tr>\n",
       "    <tr>\n",
       "      <th>2406019</th>\n",
       "      <td>Pessoa Jurídica</td>\n",
       "      <td>Conta garantida - Pré-fixado</td>\n",
       "      <td>BCO PINE S.A.</td>\n",
       "      <td>145,84</td>\n",
       "      <td>2024-09-17</td>\n",
       "    </tr>\n",
       "    <tr>\n",
       "      <th>2406020</th>\n",
       "      <td>Pessoa Jurídica</td>\n",
       "      <td>Conta garantida - Pré-fixado</td>\n",
       "      <td>BCO GUANABARA S.A.</td>\n",
       "      <td>185,13</td>\n",
       "      <td>2024-09-17</td>\n",
       "    </tr>\n",
       "    <tr>\n",
       "      <th>2406021</th>\n",
       "      <td>Pessoa Jurídica</td>\n",
       "      <td>Conta garantida - Pré-fixado</td>\n",
       "      <td>BCO SOFISA S.A.</td>\n",
       "      <td>227,68</td>\n",
       "      <td>2024-09-17</td>\n",
       "    </tr>\n",
       "    <tr>\n",
       "      <th>2406022</th>\n",
       "      <td>Pessoa Jurídica</td>\n",
       "      <td>Conta garantida - Pré-fixado</td>\n",
       "      <td>BCO FIBRA S.A.</td>\n",
       "      <td>388,00</td>\n",
       "      <td>2024-09-17</td>\n",
       "    </tr>\n",
       "    <tr>\n",
       "      <th>2406023</th>\n",
       "      <td>Pessoa Jurídica</td>\n",
       "      <td>Conta garantida - Pré-fixado</td>\n",
       "      <td>BCO C6 S.A.</td>\n",
       "      <td>406,12</td>\n",
       "      <td>2024-09-17</td>\n",
       "    </tr>\n",
       "  </tbody>\n",
       "</table>\n",
       "<p>2406024 rows × 5 columns</p>\n",
       "</div>"
      ],
      "text/plain": [
       "                Segmento                                         Modalidade  \\\n",
       "0          Pessoa Física  FINANCIAMENTO IMOBILIÁRIO COM TAXAS DE MERCADO...   \n",
       "1          Pessoa Física  FINANCIAMENTO IMOBILIÁRIO COM TAXAS DE MERCADO...   \n",
       "2          Pessoa Física  FINANCIAMENTO IMOBILIÁRIO COM TAXAS DE MERCADO...   \n",
       "3          Pessoa Física  FINANCIAMENTO IMOBILIÁRIO COM TAXAS DE MERCADO...   \n",
       "4          Pessoa Física  FINANCIAMENTO IMOBILIÁRIO COM TAXAS DE MERCADO...   \n",
       "...                  ...                                                ...   \n",
       "2406019  Pessoa Jurídica                       Conta garantida - Pré-fixado   \n",
       "2406020  Pessoa Jurídica                       Conta garantida - Pré-fixado   \n",
       "2406021  Pessoa Jurídica                       Conta garantida - Pré-fixado   \n",
       "2406022  Pessoa Jurídica                       Conta garantida - Pré-fixado   \n",
       "2406023  Pessoa Jurídica                       Conta garantida - Pré-fixado   \n",
       "\n",
       "               InstituicaoFinanceira TaxaJurosAoAno        data  \n",
       "0                               CPCI          10,54  2012-01-01  \n",
       "1                  BCO CITIBANK S.A.          11,66  2012-01-01  \n",
       "2                 BCO DO BRASIL S.A.          16,40  2012-01-01  \n",
       "3        BRAZILIAN MORTGAGES CH S.A.          18,50  2012-01-01  \n",
       "4                        BANCO INTER          31,13  2012-01-01  \n",
       "...                              ...            ...         ...  \n",
       "2406019                BCO PINE S.A.         145,84  2024-09-17  \n",
       "2406020           BCO GUANABARA S.A.         185,13  2024-09-17  \n",
       "2406021              BCO SOFISA S.A.         227,68  2024-09-17  \n",
       "2406022               BCO FIBRA S.A.         388,00  2024-09-17  \n",
       "2406023                  BCO C6 S.A.         406,12  2024-09-17  \n",
       "\n",
       "[2406024 rows x 5 columns]"
      ]
     },
     "execution_count": 3,
     "metadata": {},
     "output_type": "execute_result"
    }
   ],
   "source": [
    "df"
   ]
  },
  {
   "cell_type": "code",
   "execution_count": 4,
   "metadata": {},
   "outputs": [],
   "source": [
    "df['TaxaJurosAoAno'] = df['TaxaJurosAoAno'].str.replace(',', '.').astype(float)"
   ]
  },
  {
   "cell_type": "code",
   "execution_count": 5,
   "metadata": {},
   "outputs": [
    {
     "data": {
      "text/plain": [
       "InstituicaoFinanceira\n",
       "BCO BRADESCO S.A.                 68759\n",
       "BCO DO BRASIL S.A.                68634\n",
       "BCO SANTANDER (BRASIL) S.A.       66638\n",
       "BCO DO ESTADO DO RS S.A.          63121\n",
       "ITAÚ UNIBANCO S.A.                59172\n",
       "                                  ...  \n",
       "MERCANTIL BRASIL LEASING SA AM        8\n",
       "BMG LEASING S/A-AM                    5\n",
       "BANIF INVESTIMENTO                    5\n",
       "GOLDMAN SACHS DO BRASIL BM S.A        5\n",
       "TRADIÇÃO                              5\n",
       "Name: count, Length: 270, dtype: int64"
      ]
     },
     "execution_count": 5,
     "metadata": {},
     "output_type": "execute_result"
    }
   ],
   "source": [
    "df['InstituicaoFinanceira'].value_counts()"
   ]
  },
  {
   "cell_type": "code",
   "execution_count": 6,
   "metadata": {},
   "outputs": [
    {
     "data": {
      "text/html": [
       "<div>\n",
       "<style scoped>\n",
       "    .dataframe tbody tr th:only-of-type {\n",
       "        vertical-align: middle;\n",
       "    }\n",
       "\n",
       "    .dataframe tbody tr th {\n",
       "        vertical-align: top;\n",
       "    }\n",
       "\n",
       "    .dataframe thead th {\n",
       "        text-align: right;\n",
       "    }\n",
       "</style>\n",
       "<table border=\"1\" class=\"dataframe\">\n",
       "  <thead>\n",
       "    <tr style=\"text-align: right;\">\n",
       "      <th></th>\n",
       "      <th>Segmento</th>\n",
       "      <th>Modalidade</th>\n",
       "      <th>InstituicaoFinanceira</th>\n",
       "      <th>TaxaJurosAoAno</th>\n",
       "      <th>data</th>\n",
       "    </tr>\n",
       "  </thead>\n",
       "  <tbody>\n",
       "    <tr>\n",
       "      <th>0</th>\n",
       "      <td>Pessoa Física</td>\n",
       "      <td>FINANCIAMENTO IMOBILIÁRIO COM TAXAS DE MERCADO...</td>\n",
       "      <td>CPCI</td>\n",
       "      <td>10.54</td>\n",
       "      <td>2012-01-01</td>\n",
       "    </tr>\n",
       "    <tr>\n",
       "      <th>1</th>\n",
       "      <td>Pessoa Física</td>\n",
       "      <td>FINANCIAMENTO IMOBILIÁRIO COM TAXAS DE MERCADO...</td>\n",
       "      <td>BCO CITIBANK S.A.</td>\n",
       "      <td>11.66</td>\n",
       "      <td>2012-01-01</td>\n",
       "    </tr>\n",
       "    <tr>\n",
       "      <th>2</th>\n",
       "      <td>Pessoa Física</td>\n",
       "      <td>FINANCIAMENTO IMOBILIÁRIO COM TAXAS DE MERCADO...</td>\n",
       "      <td>BCO DO BRASIL S.A.</td>\n",
       "      <td>16.40</td>\n",
       "      <td>2012-01-01</td>\n",
       "    </tr>\n",
       "    <tr>\n",
       "      <th>3</th>\n",
       "      <td>Pessoa Física</td>\n",
       "      <td>FINANCIAMENTO IMOBILIÁRIO COM TAXAS DE MERCADO...</td>\n",
       "      <td>BRAZILIAN MORTGAGES CH S.A.</td>\n",
       "      <td>18.50</td>\n",
       "      <td>2012-01-01</td>\n",
       "    </tr>\n",
       "    <tr>\n",
       "      <th>4</th>\n",
       "      <td>Pessoa Física</td>\n",
       "      <td>FINANCIAMENTO IMOBILIÁRIO COM TAXAS DE MERCADO...</td>\n",
       "      <td>BANCO INTER</td>\n",
       "      <td>31.13</td>\n",
       "      <td>2012-01-01</td>\n",
       "    </tr>\n",
       "  </tbody>\n",
       "</table>\n",
       "</div>"
      ],
      "text/plain": [
       "        Segmento                                         Modalidade  \\\n",
       "0  Pessoa Física  FINANCIAMENTO IMOBILIÁRIO COM TAXAS DE MERCADO...   \n",
       "1  Pessoa Física  FINANCIAMENTO IMOBILIÁRIO COM TAXAS DE MERCADO...   \n",
       "2  Pessoa Física  FINANCIAMENTO IMOBILIÁRIO COM TAXAS DE MERCADO...   \n",
       "3  Pessoa Física  FINANCIAMENTO IMOBILIÁRIO COM TAXAS DE MERCADO...   \n",
       "4  Pessoa Física  FINANCIAMENTO IMOBILIÁRIO COM TAXAS DE MERCADO...   \n",
       "\n",
       "         InstituicaoFinanceira  TaxaJurosAoAno        data  \n",
       "0                         CPCI           10.54  2012-01-01  \n",
       "1            BCO CITIBANK S.A.           11.66  2012-01-01  \n",
       "2           BCO DO BRASIL S.A.           16.40  2012-01-01  \n",
       "3  BRAZILIAN MORTGAGES CH S.A.           18.50  2012-01-01  \n",
       "4                  BANCO INTER           31.13  2012-01-01  "
      ]
     },
     "execution_count": 6,
     "metadata": {},
     "output_type": "execute_result"
    }
   ],
   "source": [
    "df.head()"
   ]
  },
  {
   "cell_type": "code",
   "execution_count": 7,
   "metadata": {},
   "outputs": [
    {
     "data": {
      "text/plain": [
       "Modalidade\n",
       "Crédito pessoal não-consignado - Pré-fixado                                                    222594\n",
       "Cheque especial - Pré-fixado                                                                   168299\n",
       "Crédito pessoal consignado privado - Pré-fixado                                                154784\n",
       "Desconto de duplicatas - Pré-fixado                                                            152514\n",
       "Capital de giro com prazo até 365 dias - Pré-fixado                                            142902\n",
       "Aquisição de veículos - Pré-fixado                                                             140624\n",
       "Cartão de crédito - rotativo total - Pré-fixado                                                132475\n",
       "Capital de giro com prazo superior a 365 dias - Pré-fixado                                     126726\n",
       "Crédito pessoal consignado público - Pré-fixado                                                125525\n",
       "Aquisição de outros bens - Pré-fixado                                                          124514\n",
       "Cartão de crédito - parcelado - Pré-fixado                                                     120316\n",
       "Crédito pessoal consignado INSS - Pré-fixado                                                   114840\n",
       "Conta garantida - Pré-fixado                                                                   109709\n",
       "Conta garantida - Pós-fixado referenciado em juros flutuantes                                  106793\n",
       "Adiantamento sobre contratos de câmbio (ACC) - Pós-fixado referenciado em moeda estrangeira    106436\n",
       "Desconto de cheques - Pré-fixado                                                                95039\n",
       "Capital de giro com prazo superior a 365 dias - Pós-fixado referenciado em juros flutuantes     89841\n",
       "Capital de giro com prazo até 365 dias - Pós-fixado referenciado em juros flutuantes            86984\n",
       "Vendor - Pré-fixado                                                                             40170\n",
       "Antecipação de faturas de cartão de crédito - Pré-fixado                                        28305\n",
       "Arrendamento mercantil de veículos - Pré-fixado                                                 11658\n",
       "FINANCIAMENTO IMOBILIÁRIO COM TAXAS REGULADAS - PÓS-FIXADO REFERENCIADO EM TR                    1884\n",
       "FINANCIAMENTO IMOBILIÁRIO COM TAXAS DE MERCADO - PÓS-FIXADO REFERENCIADO EM TR                   1637\n",
       "FINANCIAMENTO IMOBILIÁRIO COM TAXAS DE MERCADO - PRÉ-FIXADO                                       586\n",
       "FINANCIAMENTO IMOBILIÁRIO COM TAXAS REGULADAS - PRÉ-FIXADO                                        341\n",
       "FINANCIAMENTO IMOBILIÁRIO COM TAXAS DE MERCADO - PÓS-FIXADO REFERENCIADO EM IPCA                  315\n",
       "FINANCIAMENTO IMOBILIÁRIO COM TAXAS REGULADAS - PÓS-FIXADO REFERENCIADO EM IPCA                   213\n",
       "Name: count, dtype: int64"
      ]
     },
     "execution_count": 7,
     "metadata": {},
     "output_type": "execute_result"
    }
   ],
   "source": [
    "df['Modalidade'].value_counts()"
   ]
  },
  {
   "cell_type": "code",
   "execution_count": 8,
   "metadata": {},
   "outputs": [],
   "source": [
    "df['SubClassificacao'] = df['Modalidade'].apply(lambda x: x.split(' - ')[-1])\n",
    "df['Modalidade'] = df['Modalidade'].apply(lambda x: x.rsplit(' - ', 1)[0])"
   ]
  },
  {
   "cell_type": "code",
   "execution_count": 9,
   "metadata": {},
   "outputs": [
    {
     "data": {
      "text/plain": [
       "Modalidade\n",
       "Capital de giro com prazo até 365 dias            229886\n",
       "Crédito pessoal não-consignado                    222594\n",
       "Capital de giro com prazo superior a 365 dias     216567\n",
       "Conta garantida                                   216502\n",
       "Cheque especial                                   168299\n",
       "Crédito pessoal consignado privado                154784\n",
       "Desconto de duplicatas                            152514\n",
       "Aquisição de veículos                             140624\n",
       "Cartão de crédito - rotativo total                132475\n",
       "Crédito pessoal consignado público                125525\n",
       "Aquisição de outros bens                          124514\n",
       "Cartão de crédito - parcelado                     120316\n",
       "Crédito pessoal consignado INSS                   114840\n",
       "Adiantamento sobre contratos de câmbio (ACC)      106436\n",
       "Desconto de cheques                                95039\n",
       "Vendor                                             40170\n",
       "Antecipação de faturas de cartão de crédito        28305\n",
       "Arrendamento mercantil de veículos                 11658\n",
       "FINANCIAMENTO IMOBILIÁRIO COM TAXAS DE MERCADO      2538\n",
       "FINANCIAMENTO IMOBILIÁRIO COM TAXAS REGULADAS       2438\n",
       "Name: count, dtype: int64"
      ]
     },
     "execution_count": 9,
     "metadata": {},
     "output_type": "execute_result"
    }
   ],
   "source": [
    "df['Modalidade'].value_counts()"
   ]
  },
  {
   "cell_type": "code",
   "execution_count": 10,
   "metadata": {},
   "outputs": [
    {
     "data": {
      "text/plain": [
       "SubClassificacao\n",
       "Pré-fixado                                      2010994\n",
       "Pós-fixado referenciado em juros flutuantes      283618\n",
       "Pós-fixado referenciado em moeda estrangeira     106436\n",
       "PÓS-FIXADO REFERENCIADO EM TR                      3521\n",
       "PRÉ-FIXADO                                          927\n",
       "PÓS-FIXADO REFERENCIADO EM IPCA                     528\n",
       "Name: count, dtype: int64"
      ]
     },
     "execution_count": 10,
     "metadata": {},
     "output_type": "execute_result"
    }
   ],
   "source": [
    "df['SubClassificacao'].value_counts()"
   ]
  },
  {
   "cell_type": "code",
   "execution_count": 11,
   "metadata": {},
   "outputs": [],
   "source": [
    "def transform_taxa(valor_taxa, periodo_desejado, periodo_atual):\n",
    "\tvt = Decimal(valor_taxa)\n",
    "\tpd = Decimal(periodo_desejado)\n",
    "\tpa = Decimal(periodo_atual)\n",
    " \n",
    "\ta = 1 + (vt / 100)\n",
    "\tb = pd / pa\n",
    "\tc = a ** b\n",
    "\td = (c - 1) * 100\n",
    "\n",
    "\treturn d"
   ]
  },
  {
   "cell_type": "code",
   "execution_count": 12,
   "metadata": {},
   "outputs": [],
   "source": [
    "def trim_decimal(n):\n",
    "\tvalor = Decimal(str(n).rstrip('0').rstrip('.'))\n",
    "\treturn valor.quantize(Decimal('1.0000'), rounding=ROUND_HALF_UP)"
   ]
  },
  {
   "cell_type": "code",
   "execution_count": 13,
   "metadata": {},
   "outputs": [
    {
     "data": {
      "text/html": [
       "<div>\n",
       "<style scoped>\n",
       "    .dataframe tbody tr th:only-of-type {\n",
       "        vertical-align: middle;\n",
       "    }\n",
       "\n",
       "    .dataframe tbody tr th {\n",
       "        vertical-align: top;\n",
       "    }\n",
       "\n",
       "    .dataframe thead th {\n",
       "        text-align: right;\n",
       "    }\n",
       "</style>\n",
       "<table border=\"1\" class=\"dataframe\">\n",
       "  <thead>\n",
       "    <tr style=\"text-align: right;\">\n",
       "      <th></th>\n",
       "      <th>Segmento</th>\n",
       "      <th>Modalidade</th>\n",
       "      <th>InstituicaoFinanceira</th>\n",
       "      <th>TaxaJurosAoAno</th>\n",
       "      <th>data</th>\n",
       "      <th>SubClassificacao</th>\n",
       "    </tr>\n",
       "  </thead>\n",
       "  <tbody>\n",
       "    <tr>\n",
       "      <th>0</th>\n",
       "      <td>Pessoa Física</td>\n",
       "      <td>FINANCIAMENTO IMOBILIÁRIO COM TAXAS DE MERCADO</td>\n",
       "      <td>CPCI</td>\n",
       "      <td>10.54</td>\n",
       "      <td>2012-01-01</td>\n",
       "      <td>PRÉ-FIXADO</td>\n",
       "    </tr>\n",
       "    <tr>\n",
       "      <th>1</th>\n",
       "      <td>Pessoa Física</td>\n",
       "      <td>FINANCIAMENTO IMOBILIÁRIO COM TAXAS DE MERCADO</td>\n",
       "      <td>BCO CITIBANK S.A.</td>\n",
       "      <td>11.66</td>\n",
       "      <td>2012-01-01</td>\n",
       "      <td>PRÉ-FIXADO</td>\n",
       "    </tr>\n",
       "    <tr>\n",
       "      <th>2</th>\n",
       "      <td>Pessoa Física</td>\n",
       "      <td>FINANCIAMENTO IMOBILIÁRIO COM TAXAS DE MERCADO</td>\n",
       "      <td>BCO DO BRASIL S.A.</td>\n",
       "      <td>16.40</td>\n",
       "      <td>2012-01-01</td>\n",
       "      <td>PRÉ-FIXADO</td>\n",
       "    </tr>\n",
       "    <tr>\n",
       "      <th>3</th>\n",
       "      <td>Pessoa Física</td>\n",
       "      <td>FINANCIAMENTO IMOBILIÁRIO COM TAXAS DE MERCADO</td>\n",
       "      <td>BRAZILIAN MORTGAGES CH S.A.</td>\n",
       "      <td>18.50</td>\n",
       "      <td>2012-01-01</td>\n",
       "      <td>PRÉ-FIXADO</td>\n",
       "    </tr>\n",
       "    <tr>\n",
       "      <th>4</th>\n",
       "      <td>Pessoa Física</td>\n",
       "      <td>FINANCIAMENTO IMOBILIÁRIO COM TAXAS DE MERCADO</td>\n",
       "      <td>BANCO INTER</td>\n",
       "      <td>31.13</td>\n",
       "      <td>2012-01-01</td>\n",
       "      <td>PRÉ-FIXADO</td>\n",
       "    </tr>\n",
       "    <tr>\n",
       "      <th>...</th>\n",
       "      <td>...</td>\n",
       "      <td>...</td>\n",
       "      <td>...</td>\n",
       "      <td>...</td>\n",
       "      <td>...</td>\n",
       "      <td>...</td>\n",
       "    </tr>\n",
       "    <tr>\n",
       "      <th>2406019</th>\n",
       "      <td>Pessoa Jurídica</td>\n",
       "      <td>Conta garantida</td>\n",
       "      <td>BCO PINE S.A.</td>\n",
       "      <td>145.84</td>\n",
       "      <td>2024-09-17</td>\n",
       "      <td>Pré-fixado</td>\n",
       "    </tr>\n",
       "    <tr>\n",
       "      <th>2406020</th>\n",
       "      <td>Pessoa Jurídica</td>\n",
       "      <td>Conta garantida</td>\n",
       "      <td>BCO GUANABARA S.A.</td>\n",
       "      <td>185.13</td>\n",
       "      <td>2024-09-17</td>\n",
       "      <td>Pré-fixado</td>\n",
       "    </tr>\n",
       "    <tr>\n",
       "      <th>2406021</th>\n",
       "      <td>Pessoa Jurídica</td>\n",
       "      <td>Conta garantida</td>\n",
       "      <td>BCO SOFISA S.A.</td>\n",
       "      <td>227.68</td>\n",
       "      <td>2024-09-17</td>\n",
       "      <td>Pré-fixado</td>\n",
       "    </tr>\n",
       "    <tr>\n",
       "      <th>2406022</th>\n",
       "      <td>Pessoa Jurídica</td>\n",
       "      <td>Conta garantida</td>\n",
       "      <td>BCO FIBRA S.A.</td>\n",
       "      <td>388.00</td>\n",
       "      <td>2024-09-17</td>\n",
       "      <td>Pré-fixado</td>\n",
       "    </tr>\n",
       "    <tr>\n",
       "      <th>2406023</th>\n",
       "      <td>Pessoa Jurídica</td>\n",
       "      <td>Conta garantida</td>\n",
       "      <td>BCO C6 S.A.</td>\n",
       "      <td>406.12</td>\n",
       "      <td>2024-09-17</td>\n",
       "      <td>Pré-fixado</td>\n",
       "    </tr>\n",
       "  </tbody>\n",
       "</table>\n",
       "<p>2406024 rows × 6 columns</p>\n",
       "</div>"
      ],
      "text/plain": [
       "                Segmento                                      Modalidade  \\\n",
       "0          Pessoa Física  FINANCIAMENTO IMOBILIÁRIO COM TAXAS DE MERCADO   \n",
       "1          Pessoa Física  FINANCIAMENTO IMOBILIÁRIO COM TAXAS DE MERCADO   \n",
       "2          Pessoa Física  FINANCIAMENTO IMOBILIÁRIO COM TAXAS DE MERCADO   \n",
       "3          Pessoa Física  FINANCIAMENTO IMOBILIÁRIO COM TAXAS DE MERCADO   \n",
       "4          Pessoa Física  FINANCIAMENTO IMOBILIÁRIO COM TAXAS DE MERCADO   \n",
       "...                  ...                                             ...   \n",
       "2406019  Pessoa Jurídica                                 Conta garantida   \n",
       "2406020  Pessoa Jurídica                                 Conta garantida   \n",
       "2406021  Pessoa Jurídica                                 Conta garantida   \n",
       "2406022  Pessoa Jurídica                                 Conta garantida   \n",
       "2406023  Pessoa Jurídica                                 Conta garantida   \n",
       "\n",
       "               InstituicaoFinanceira  TaxaJurosAoAno        data  \\\n",
       "0                               CPCI           10.54  2012-01-01   \n",
       "1                  BCO CITIBANK S.A.           11.66  2012-01-01   \n",
       "2                 BCO DO BRASIL S.A.           16.40  2012-01-01   \n",
       "3        BRAZILIAN MORTGAGES CH S.A.           18.50  2012-01-01   \n",
       "4                        BANCO INTER           31.13  2012-01-01   \n",
       "...                              ...             ...         ...   \n",
       "2406019                BCO PINE S.A.          145.84  2024-09-17   \n",
       "2406020           BCO GUANABARA S.A.          185.13  2024-09-17   \n",
       "2406021              BCO SOFISA S.A.          227.68  2024-09-17   \n",
       "2406022               BCO FIBRA S.A.          388.00  2024-09-17   \n",
       "2406023                  BCO C6 S.A.          406.12  2024-09-17   \n",
       "\n",
       "        SubClassificacao  \n",
       "0             PRÉ-FIXADO  \n",
       "1             PRÉ-FIXADO  \n",
       "2             PRÉ-FIXADO  \n",
       "3             PRÉ-FIXADO  \n",
       "4             PRÉ-FIXADO  \n",
       "...                  ...  \n",
       "2406019       Pré-fixado  \n",
       "2406020       Pré-fixado  \n",
       "2406021       Pré-fixado  \n",
       "2406022       Pré-fixado  \n",
       "2406023       Pré-fixado  \n",
       "\n",
       "[2406024 rows x 6 columns]"
      ]
     },
     "execution_count": 13,
     "metadata": {},
     "output_type": "execute_result"
    }
   ],
   "source": [
    "df"
   ]
  },
  {
   "cell_type": "code",
   "execution_count": 14,
   "metadata": {},
   "outputs": [],
   "source": [
    "df['TaxaJurosAoMes'] = df.apply(lambda x: trim_decimal(transform_taxa(x['TaxaJurosAoAno'], 1, 12)), axis=1).astype(float)"
   ]
  },
  {
   "cell_type": "code",
   "execution_count": 15,
   "metadata": {},
   "outputs": [],
   "source": [
    "SUBCLASSIFICACAO_REPLACE_MAP = {\n",
    "\t'PÓS-FIXADO': 'Pós-fixado',\n",
    "\t'PRÉ-FIXADO': 'Pré-fixado',\n",
    "\t'PÓS-FIXADO REFERENCIADO EM IPCA': 'Pós-fixado referenciado em IPCA',\n",
    "\t'PÓS-FIXADO REFERENCIADO EM TR': 'Pós-fixado referenciado em TR',\n",
    "}\n",
    "df['SubClassificacao'] = df['SubClassificacao'].replace(SUBCLASSIFICACAO_REPLACE_MAP)"
   ]
  },
  {
   "cell_type": "code",
   "execution_count": 16,
   "metadata": {},
   "outputs": [
    {
     "data": {
      "text/plain": [
       "SubClassificacao\n",
       "Pré-fixado                                      2011921\n",
       "Pós-fixado referenciado em juros flutuantes      283618\n",
       "Pós-fixado referenciado em moeda estrangeira     106436\n",
       "Pós-fixado referenciado em TR                      3521\n",
       "Pós-fixado referenciado em IPCA                     528\n",
       "Name: count, dtype: int64"
      ]
     },
     "execution_count": 16,
     "metadata": {},
     "output_type": "execute_result"
    }
   ],
   "source": [
    "df['SubClassificacao'].value_counts()"
   ]
  },
  {
   "cell_type": "code",
   "execution_count": 17,
   "metadata": {},
   "outputs": [],
   "source": [
    "MODALIDADE_REPLACE_MAP = {\n",
    "\t'FINANCIAMENTO IMOBILIÁRIO COM TAXAS DE MERCADO': 'Financiamento imobiliário com taxas de mercado',\n",
    "\t'FINANCIAMENTO IMOBILIÁRIO COM TAXAS REGULADAS': 'Financiamento imobiliário com taxas reguladas',\n",
    "}\n",
    "df['Modalidade'] = df['Modalidade'].replace(MODALIDADE_REPLACE_MAP)"
   ]
  },
  {
   "cell_type": "code",
   "execution_count": 18,
   "metadata": {},
   "outputs": [
    {
     "data": {
      "text/plain": [
       "Modalidade\n",
       "Capital de giro com prazo até 365 dias            229886\n",
       "Crédito pessoal não-consignado                    222594\n",
       "Capital de giro com prazo superior a 365 dias     216567\n",
       "Conta garantida                                   216502\n",
       "Cheque especial                                   168299\n",
       "Crédito pessoal consignado privado                154784\n",
       "Desconto de duplicatas                            152514\n",
       "Aquisição de veículos                             140624\n",
       "Cartão de crédito - rotativo total                132475\n",
       "Crédito pessoal consignado público                125525\n",
       "Aquisição de outros bens                          124514\n",
       "Cartão de crédito - parcelado                     120316\n",
       "Crédito pessoal consignado INSS                   114840\n",
       "Adiantamento sobre contratos de câmbio (ACC)      106436\n",
       "Desconto de cheques                                95039\n",
       "Vendor                                             40170\n",
       "Antecipação de faturas de cartão de crédito        28305\n",
       "Arrendamento mercantil de veículos                 11658\n",
       "Financiamento imobiliário com taxas de mercado      2538\n",
       "Financiamento imobiliário com taxas reguladas       2438\n",
       "Name: count, dtype: int64"
      ]
     },
     "execution_count": 18,
     "metadata": {},
     "output_type": "execute_result"
    }
   ],
   "source": [
    "df['Modalidade'].value_counts()"
   ]
  },
  {
   "cell_type": "code",
   "execution_count": 19,
   "metadata": {},
   "outputs": [],
   "source": [
    "MODALIDADE_REPLACE_MAP = {\n",
    "\t'Pessoa Física': 'PF',\n",
    "\t'Pessoa Jurídica': 'PJ',\n",
    "}\n",
    "df['Segmento'] = df['Segmento'].replace(MODALIDADE_REPLACE_MAP)"
   ]
  },
  {
   "cell_type": "code",
   "execution_count": 20,
   "metadata": {},
   "outputs": [
    {
     "data": {
      "text/plain": [
       "Segmento\n",
       "PF    1277454\n",
       "PJ    1128570\n",
       "Name: count, dtype: int64"
      ]
     },
     "execution_count": 20,
     "metadata": {},
     "output_type": "execute_result"
    }
   ],
   "source": [
    "df['Segmento'].value_counts()"
   ]
  },
  {
   "cell_type": "code",
   "execution_count": 21,
   "metadata": {},
   "outputs": [
    {
     "data": {
      "text/plain": [
       "InstituicaoFinanceira\n",
       "BCO BRADESCO S.A.                 68759\n",
       "BCO DO BRASIL S.A.                68634\n",
       "BCO SANTANDER (BRASIL) S.A.       66638\n",
       "BCO DO ESTADO DO RS S.A.          63121\n",
       "ITAÚ UNIBANCO S.A.                59172\n",
       "                                  ...  \n",
       "MERCANTIL BRASIL LEASING SA AM        8\n",
       "BMG LEASING S/A-AM                    5\n",
       "BANIF INVESTIMENTO                    5\n",
       "GOLDMAN SACHS DO BRASIL BM S.A        5\n",
       "TRADIÇÃO                              5\n",
       "Name: count, Length: 270, dtype: int64"
      ]
     },
     "execution_count": 21,
     "metadata": {},
     "output_type": "execute_result"
    }
   ],
   "source": [
    "df['InstituicaoFinanceira'].value_counts()"
   ]
  },
  {
   "cell_type": "code",
   "execution_count": 22,
   "metadata": {},
   "outputs": [
    {
     "data": {
      "text/plain": [
       "Segmento                  object\n",
       "Modalidade                object\n",
       "InstituicaoFinanceira     object\n",
       "TaxaJurosAoAno           float64\n",
       "data                      object\n",
       "SubClassificacao          object\n",
       "TaxaJurosAoMes           float64\n",
       "dtype: object"
      ]
     },
     "execution_count": 22,
     "metadata": {},
     "output_type": "execute_result"
    }
   ],
   "source": [
    "df.dtypes"
   ]
  },
  {
   "cell_type": "code",
   "execution_count": 23,
   "metadata": {},
   "outputs": [],
   "source": [
    "df.rename(columns={\n",
    "    'Segmento': 'ct_classificacao',\n",
    "    'Modalidade': 'ct_modalidade',\n",
    "    'InstituicaoFinanceira': 'ct_instituicao_financeira',\n",
    "    'SubClassificacao': 'ct_indexador_modalidade',\n",
    "    'TaxaJurosAoAno': 'vl_taxa_juros_ano',\n",
    "    'TaxaJurosAoMes': 'vl_taxa_juros_mes',\n",
    "}, inplace=True)"
   ]
  },
  {
   "cell_type": "code",
   "execution_count": 24,
   "metadata": {},
   "outputs": [
    {
     "data": {
      "text/plain": [
       "ct_classificacao              object\n",
       "ct_modalidade                 object\n",
       "ct_instituicao_financeira     object\n",
       "vl_taxa_juros_ano            float64\n",
       "data                          object\n",
       "ct_indexador_modalidade       object\n",
       "vl_taxa_juros_mes            float64\n",
       "dtype: object"
      ]
     },
     "execution_count": 24,
     "metadata": {},
     "output_type": "execute_result"
    }
   ],
   "source": [
    "df.dtypes"
   ]
  }
 ],
 "metadata": {
  "kernelspec": {
   "display_name": "Python 3",
   "language": "python",
   "name": "python3"
  },
  "language_info": {
   "codemirror_mode": {
    "name": "ipython",
    "version": 3
   },
   "file_extension": ".py",
   "mimetype": "text/x-python",
   "name": "python",
   "nbconvert_exporter": "python",
   "pygments_lexer": "ipython3",
   "version": "3.10.12"
  }
 },
 "nbformat": 4,
 "nbformat_minor": 2
}
